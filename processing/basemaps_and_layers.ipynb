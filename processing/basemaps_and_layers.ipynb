{
 "cells": [
  {
   "cell_type": "markdown",
   "metadata": {},
   "source": [
    "# Soils-revealed basemaps and layers"
   ]
  },
  {
   "cell_type": "code",
   "execution_count": 1,
   "metadata": {},
   "outputs": [],
   "source": [
    "import ipyleaflet as ipyl\n",
    "import geopandas as gpd\n",
    "import ee\n",
    "ee.Initialize()"
   ]
  },
  {
   "cell_type": "markdown",
   "metadata": {},
   "source": [
    "**Political boundaries**"
   ]
  },
  {
   "cell_type": "code",
   "execution_count": null,
   "metadata": {},
   "outputs": [],
   "source": [
    "countries = gpd.read_file('../data/gadm36_0/gadm36_0.shp')\n",
    "countries['simplify_geom'] = countries['geometry'].apply(lambda x: x.simplify(0.002))\n",
    "Argentina = countries[countries['NAME_0'] == 'Argentina']\n",
    "\n",
    "locations = []\n",
    "for i in range(len(countries)):\n",
    "    geometry = countries['simplify_geom'].iloc[i]\n",
    "    if geometry.type == 'Polygon':\n",
    "        x, y = geometry.exterior.coords.xy\n",
    "        locations.append(list(zip(list(y), list(x))))\n",
    "    if geometry.type == 'MultiPolygon':\n",
    "        for polygon in geometry:  \n",
    "            x, y = polygon.exterior.coords.xy\n",
    "            locations.append(list(zip(list(y), list(x))))\n",
    "    \n",
    "locationA = []\n",
    "geometry = Argentina['simplify_geom'].iloc[0]\n",
    "for polygon in geometry:  \n",
    "    x, y = polygon.exterior.coords.xy\n",
    "    locationA.append(list(zip(list(y), list(x))))"
   ]
  },
  {
   "cell_type": "markdown",
   "metadata": {},
   "source": [
    "## Basemaps"
   ]
  },
  {
   "cell_type": "code",
   "execution_count": 2,
   "metadata": {},
   "outputs": [],
   "source": [
    "topography_url = 'https://api.mapbox.com/styles/v1/casius/ck801p48x1hsd1iqwe67w1lac/tiles/256/{z}/{x}/{y}@2x?access_token=pk.eyJ1IjoiY2FzaXVzIiwiYSI6ImJDMkpucTQifQ.5rm4_TsT8_PH8TzOY2V3FQ'\n",
    "topography_basemap = ipyl.TileLayer(\n",
    "    url=topography_url,\n",
    "    layers='topography',\n",
    "    format='image/png',\n",
    "    name='Topography',\n",
    "    opacity=1\n",
    ")\n",
    "\n",
    "landsat_url = 'https://storage.cloud.google.com/skydipper-landsat-cache/2018/{z}/{x}/{y}.png'\n",
    "landsat_basemap = ipyl.TileLayer(\n",
    "    url=landsat_url,\n",
    "    layers='landsat',\n",
    "    format='image/png',\n",
    "    name='Landsat',\n",
    "    opacity=0.5\n",
    ")"
   ]
  },
  {
   "cell_type": "code",
   "execution_count": 3,
   "metadata": {},
   "outputs": [
    {
     "data": {
      "application/vnd.jupyter.widget-view+json": {
       "model_id": "5d8245541b7a47febecf8281bda2bca4",
       "version_major": 2,
       "version_minor": 0
      },
      "text/plain": [
       "Map(center=[0, 0], controls=(ZoomControl(options=['position', 'zoom_in_text', 'zoom_in_title', 'zoom_out_text'…"
      ]
     },
     "metadata": {},
     "output_type": "display_data"
    }
   ],
   "source": [
    "center = (0, 0)\n",
    "m = ipyl.Map(center=(center), zoom=2)\n",
    "\n",
    "\n",
    "m.add_layer(topography_basemap)\n",
    "m.add_layer(landsat_basemap)\n",
    "\n",
    "control = ipyl.LayersControl(position='topright')\n",
    "m.add_control(control)\n",
    "m.add_control(ipyl.FullScreenControl())\n",
    "m"
   ]
  },
  {
   "cell_type": "markdown",
   "metadata": {},
   "source": [
    "## Soil Layers"
   ]
  },
  {
   "cell_type": "code",
   "execution_count": 4,
   "metadata": {},
   "outputs": [],
   "source": [
    "def get_tiles(images, sld_intervals, names, locations=None, opacity=1, basemap='topography', center = (0, 0), zoom=2):\n",
    "    ee_tiles = 'https://earthengine.googleapis.com/map/{mapid}/{{z}}/{{x}}/{{y}}?token={token}' \n",
    "    \n",
    "    m = ipyl.Map(center=(center), zoom=zoom)\n",
    "    \n",
    "    if basemap == 'topography':\n",
    "        m.add_layer(topography_basemap)\n",
    "    if basemap == 'landsat':\n",
    "        m.add_layer(landsat_basemap)\n",
    "        \n",
    "    for n, image in enumerate(images):\n",
    "        image = image.sldStyle(sld_intervals[n])\n",
    "        mapid = image.getMapId()\n",
    "        tiles_url = ee_tiles.format(**mapid)\n",
    "        \n",
    "        tile_layer = ipyl.TileLayer(\n",
    "            url=tiles_url,\n",
    "            format='image/png',\n",
    "            name=names[n],\n",
    "            opacity=opacity\n",
    "        )\n",
    "    \n",
    "        m.add_layer(tile_layer)\n",
    "        \n",
    "    if locations:\n",
    "        for n, location in enumerate(locations):\n",
    "            if n == 0:\n",
    "                polygon = ipyl.Polygon(locations=location, color=\"black\", weight=1, fill=False, name='Countries')\n",
    "                m.add_layer(polygon)\n",
    "            else:\n",
    "                polygon = ipyl.Polygon(locations=location, color=\"black\", weight=3, fill=False, name='Argentina')\n",
    "                m.add_layer(polygon)\n",
    "    \n",
    "        \n",
    "    \n",
    "    control = ipyl.LayersControl(position='topright')\n",
    "    m.add_control(control)\n",
    "    m.add_control(ipyl.FullScreenControl())\n",
    "    \n",
    "    return m"
   ]
  },
  {
   "cell_type": "markdown",
   "metadata": {},
   "source": [
    "### Historic SOC stocks"
   ]
  },
  {
   "cell_type": "code",
   "execution_count": 7,
   "metadata": {},
   "outputs": [],
   "source": [
    "images = []\n",
    "sld_intervals = []\n",
    "names = []"
   ]
  },
  {
   "cell_type": "markdown",
   "metadata": {},
   "source": [
    "**Current SOC stocks (2010)**"
   ]
  },
  {
   "cell_type": "code",
   "execution_count": 6,
   "metadata": {},
   "outputs": [],
   "source": [
    "name='Current SOC stocks (0-200 cm)'\n",
    "\n",
    "image = ee.Image('users/iker/SOC_maps/SOCS_0_200cm_year_2010AD_10km')\n",
    "\n",
    "sld_interval = '<RasterSymbolizer>' + \\\n",
    "'<ColorMap extended=\"false\" type=\"ramp\">' + \\\n",
    "'<ColorMapEntry color=\"#E18D67\" quantity=\"10\"  opacity=\"1\" />' + \\\n",
    "'<ColorMapEntry color=\"#CB5A3A\" quantity=\"40\"  />' + \\\n",
    "'<ColorMapEntry color=\"#9D4028\" quantity=\"80\" />' + \\\n",
    "'<ColorMapEntry color=\"#6D2410\" quantity=\"160\"  />' + \\\n",
    "'<ColorMapEntry color=\"#380E03\" quantity=\"400\"  />' + \\\n",
    "'</ColorMap>' + '</RasterSymbolizer>'\n",
    "\n",
    "images.append(image)\n",
    "sld_intervals.append(sld_interval)\n",
    "names.append(name)"
   ]
  },
  {
   "cell_type": "markdown",
   "metadata": {},
   "source": [
    "**Historic SOC stocks**"
   ]
  },
  {
   "cell_type": "code",
   "execution_count": null,
   "metadata": {},
   "outputs": [],
   "source": [
    "name='Historic SOC stocks (0-200 cm)'\n",
    "\n",
    "image = ee.Image('users/iker/SOC_maps/SOCS_0_200cm_year_NoLU_10km')\n",
    "\n",
    "sld_interval = '<RasterSymbolizer>' + \\\n",
    "'<ColorMap extended=\"false\" type=\"ramp\">' + \\\n",
    "'<ColorMapEntry color=\"#E18D67\" quantity=\"10\"  opacity=\"1\" />' + \\\n",
    "'<ColorMapEntry color=\"#CB5A3A\" quantity=\"40\"  />' + \\\n",
    "'<ColorMapEntry color=\"#9D4028\" quantity=\"80\" />' + \\\n",
    "'<ColorMapEntry color=\"#6D2410\" quantity=\"160\"  />' + \\\n",
    "'<ColorMapEntry color=\"#380E03\" quantity=\"400\"  />' + \\\n",
    "'</ColorMap>' + '</RasterSymbolizer>'\n",
    "\n",
    "images.append(image)\n",
    "sld_intervals.append(sld_interval)\n",
    "names.append(name)"
   ]
  },
  {
   "cell_type": "markdown",
   "metadata": {},
   "source": [
    "**Historic SOC stocks change**"
   ]
  },
  {
   "cell_type": "code",
   "execution_count": null,
   "metadata": {},
   "outputs": [],
   "source": [
    "name='Historic SOC stocks change (0-200 cm)'\n",
    "imageNoLU = ee.Image('users/iker/SOC_maps/SOCS_0_200cm_year_NoLU_10km')\n",
    "image2010 = ee.Image('users/iker/SOC_maps/SOCS_0_200cm_year_2010AD_10km')\n",
    "\n",
    "image = image2010.select('b1').subtract(imageNoLU.select('b1'))\n",
    "\n",
    "sld_interval = '<RasterSymbolizer>' + \\\n",
    "'<ColorMap extended=\"false\" type=\"ramp\">' + \\\n",
    "'<ColorMapEntry color=\"#B30200\" quantity=\"-80\"  opacity=\"1\" />' + \\\n",
    "'<ColorMapEntry color=\"#E34A33\" quantity=\"-40\"  />' + \\\n",
    "'<ColorMapEntry color=\"#FC8D59\" quantity=\"-20\" />' + \\\n",
    "'<ColorMapEntry color=\"#FDCC8A\" quantity=\"-10\"  />' + \\\n",
    "'<ColorMapEntry color=\"#FFFFCC\" quantity=\"0\"  />' + \\\n",
    "'<ColorMapEntry color=\"#A1DAB4\" quantity=\"10\" />' + \\\n",
    "'<ColorMapEntry color=\"#31B3BD\" quantity=\"20\"  />' + \\\n",
    "'<ColorMapEntry color=\"#1C9099\" quantity=\"40\" />' + \\\n",
    "'<ColorMapEntry color=\"#066C59\" quantity=\"80\"  />' + \\\n",
    "'</ColorMap>' + '</RasterSymbolizer>'\n",
    "\n",
    "images.append(image)\n",
    "sld_intervals.append(sld_interval)\n",
    "names.append(name)"
   ]
  },
  {
   "cell_type": "code",
   "execution_count": null,
   "metadata": {},
   "outputs": [],
   "source": [
    "get_tiles(images, sld_intervals, names)"
   ]
  },
  {
   "cell_type": "markdown",
   "metadata": {},
   "source": [
    "### Recent SOC stocks"
   ]
  },
  {
   "cell_type": "code",
   "execution_count": 16,
   "metadata": {},
   "outputs": [],
   "source": [
    "images = []\n",
    "sld_intervals = []\n",
    "names = []"
   ]
  },
  {
   "cell_type": "markdown",
   "metadata": {},
   "source": [
    "**Global SOC stock (0-5 cm)** ([gee](https://code.earthengine.google.com/e1b2826e83fd5463b4662872a7649c6d?asset=users%2Fiker%2FSOC_maps%2FSOC_concentration_q50))"
   ]
  },
  {
   "cell_type": "code",
   "execution_count": 17,
   "metadata": {},
   "outputs": [],
   "source": [
    "name='Global SOC stock (0-5 cm)'\n",
    "\n",
    "image = ee.Image('users/resourcewatch/foo_054_soil_organic_carbon_stocks')\n",
    "\n",
    "sld_interval = '<RasterSymbolizer>' + \\\n",
    "'<ColorMap extended=\"false\" type=\"ramp\">' + \\\n",
    "'<ColorMapEntry color=\"#E18D67\" quantity=\"5\"  opacity=\"1\" />' + \\\n",
    "'<ColorMapEntry color=\"#CB5A3A\" quantity=\"20\"  />' + \\\n",
    "'<ColorMapEntry color=\"#9D4028\" quantity=\"40\" />' + \\\n",
    "'<ColorMapEntry color=\"#6D2410\" quantity=\"60\"  />' + \\\n",
    "'<ColorMapEntry color=\"#380E03\" quantity=\"80\"  />' + \\\n",
    "'</ColorMap>' + '</RasterSymbolizer>'\n",
    "\n",
    "images.append(image)\n",
    "sld_intervals.append(sld_interval)\n",
    "names.append(name)"
   ]
  },
  {
   "cell_type": "markdown",
   "metadata": {},
   "source": [
    "**Argentina SOC stock (0-30 cm)** ([gee](https://code.earthengine.google.com/3cd64e858784a1a04f74a7c615162c0b?asset=users%2Fiker%2FSOC_maps%2FSOC_concentration_q50))"
   ]
  },
  {
   "cell_type": "code",
   "execution_count": 18,
   "metadata": {},
   "outputs": [],
   "source": [
    "name='Argentina SOC stock (0-30 cm)'\n",
    "\n",
    "image = ee.Image(ee.ImageCollection('users/iker/SOC_maps/SOC_stock_0_30').filterDate('2017-01-01', '2017-12-31').first())\n",
    "\n",
    "sld_interval = '<RasterSymbolizer>' + \\\n",
    "'<ColorMap extended=\"false\" type=\"ramp\">' + \\\n",
    "'<ColorMapEntry color=\"#E18D67\" quantity=\"5\"  opacity=\"1\" />' + \\\n",
    "'<ColorMapEntry color=\"#CB5A3A\" quantity=\"20\"  />' + \\\n",
    "'<ColorMapEntry color=\"#9D4028\" quantity=\"50\" />' + \\\n",
    "'<ColorMapEntry color=\"#6D2410\" quantity=\"75\"  />' + \\\n",
    "'<ColorMapEntry color=\"#380E03\" quantity=\"200\"  />' + \\\n",
    "'</ColorMap>' + '</RasterSymbolizer>'\n",
    "\n",
    "images.append(image)\n",
    "sld_intervals.append(sld_interval)\n",
    "names.append(name)"
   ]
  },
  {
   "cell_type": "markdown",
   "metadata": {},
   "source": [
    "**Argentina SOC stock change (0-30 cm)** ([gee](https://code.earthengine.google.com/b927128c41e5c298145000ad67104500?asset=users%2Fiker%2FSOC_maps%2FSOC_concentration_q50))"
   ]
  },
  {
   "cell_type": "code",
   "execution_count": 19,
   "metadata": {},
   "outputs": [],
   "source": [
    "name='Argentina SOC stock change (0-30 cm)'\n",
    "\n",
    "image1982 = ee.Image(ee.ImageCollection('users/iker/SOC_maps/SOC_stock_0_30').filterDate('1982-01-01', '1982-12-31').first())\n",
    "image2017 = ee.Image(ee.ImageCollection('users/iker/SOC_maps/SOC_stock_0_30').filterDate('2017-01-01', '2017-12-31').first())\n",
    "\n",
    "image = image2017.select('b1').subtract(image1982.select('b1'))\n",
    "\n",
    "sld_interval = '<RasterSymbolizer>' + \\\n",
    "'<ColorMap extended=\"false\" type=\"ramp\">' + \\\n",
    "'<ColorMapEntry color=\"#B30200\" quantity=\"-30\"  opacity=\"1\" />' + \\\n",
    "'<ColorMapEntry color=\"#E34A33\" quantity=\"-20\"  />' + \\\n",
    "'<ColorMapEntry color=\"#FC8D59\" quantity=\"-10\" />' + \\\n",
    "'<ColorMapEntry color=\"#FDCC8A\" quantity=\"-5\"  />' + \\\n",
    "'<ColorMapEntry color=\"#FFFFCC\" quantity=\"0\"  />' + \\\n",
    "'<ColorMapEntry color=\"#A1DAB4\" quantity=\"5\" />' + \\\n",
    "'<ColorMapEntry color=\"#31B3BD\" quantity=\"10\"  />' + \\\n",
    "'<ColorMapEntry color=\"#1C9099\" quantity=\"20\" />' + \\\n",
    "'<ColorMapEntry color=\"#066C59\" quantity=\"30\"  />' + \\\n",
    "'</ColorMap>' + '</RasterSymbolizer>'\n",
    "\n",
    "images.append(image)\n",
    "sld_intervals.append(sld_interval)\n",
    "names.append(name)"
   ]
  },
  {
   "cell_type": "markdown",
   "metadata": {},
   "source": [
    "**Argentina SOC concentration (0-5 cm)**"
   ]
  },
  {
   "cell_type": "code",
   "execution_count": null,
   "metadata": {},
   "outputs": [],
   "source": [
    "name='Argentina SOC concentration (0-5 cm)'\n",
    "\n",
    "image = ee.Image(ee.ImageCollection('users/iker/SOC_maps/SOC_concentration_q50').filterDate('2017-01-01', '2017-12-31').first())\n",
    "image = image.divide(10).select('b1')\n",
    "\n",
    "sld_interval = '<RasterSymbolizer>' + \\\n",
    "'<ColorMap extended=\"false\" type=\"ramp\">' + \\\n",
    "'<ColorMapEntry color=\"#E18D67\" quantity=\"5\"  opacity=\"1\" />' + \\\n",
    "'<ColorMapEntry color=\"#CB5A3A\" quantity=\"10\"  />' + \\\n",
    "'<ColorMapEntry color=\"#9D4028\" quantity=\"20\" />' + \\\n",
    "'<ColorMapEntry color=\"#6D2410\" quantity=\"30\"  />' + \\\n",
    "'<ColorMapEntry color=\"#380E03\" quantity=\"40\"  />' + \\\n",
    "'</ColorMap>' + '</RasterSymbolizer>'\n",
    "\n",
    "images.append(image)\n",
    "sld_intervals.append(sld_interval)\n",
    "names.append(name)"
   ]
  },
  {
   "cell_type": "markdown",
   "metadata": {},
   "source": [
    "**Argentina SOC concentration change (0-5 cm)**"
   ]
  },
  {
   "cell_type": "code",
   "execution_count": null,
   "metadata": {},
   "outputs": [],
   "source": [
    "name='Argentina SOC concentration change (0-5 cm)'\n",
    "\n",
    "image1982 = ee.Image(ee.ImageCollection('users/iker/SOC_maps/SOC_concentration_q50').filterDate('1982-01-01', '1982-12-31').first())\n",
    "image2017 = ee.Image(ee.ImageCollection('users/iker/SOC_maps/SOC_concentration_q50').filterDate('2017-01-01', '2017-12-31').first())\n",
    "\n",
    "image1982 = image1982.divide(10).select('b1')\n",
    "image2017 = image2017.divide(10).select('b1')\n",
    "\n",
    "image = image2017.select('b1').subtract(image1982.select('b1'))\n",
    "\n",
    "sld_interval = '<RasterSymbolizer>' + \\\n",
    "'<ColorMap extended=\"false\" type=\"ramp\">' + \\\n",
    "'<ColorMapEntry color=\"#B30200\" quantity=\"-3\"  opacity=\"1\" />' + \\\n",
    "'<ColorMapEntry color=\"#E34A33\" quantity=\"-2\"  />' + \\\n",
    "'<ColorMapEntry color=\"#FC8D59\" quantity=\"-1\" />' + \\\n",
    "'<ColorMapEntry color=\"#FCC8DA\" quantity=\"-0.5\"  />' + \\\n",
    "'<ColorMapEntry color=\"#FFFFCC\" quantity=\"0\"  />' + \\\n",
    "'<ColorMapEntry color=\"#A1DAB4\" quantity=\"0.5\" />' + \\\n",
    "'<ColorMapEntry color=\"#31B3BD\" quantity=\"1\"  />' + \\\n",
    "'<ColorMapEntry color=\"#1C9099\" quantity=\"2\" />' + \\\n",
    "'<ColorMapEntry color=\"#066C59\" quantity=\"3\"  />' + \\\n",
    "'</ColorMap>' + '</RasterSymbolizer>'\n",
    "\n",
    "images.append(image)\n",
    "sld_intervals.append(sld_interval)\n",
    "names.append(name)"
   ]
  },
  {
   "cell_type": "code",
   "execution_count": 20,
   "metadata": {},
   "outputs": [
    {
     "data": {
      "application/vnd.jupyter.widget-view+json": {
       "model_id": "9016ea9ace8c415387a7bbd81477d58a",
       "version_major": 2,
       "version_minor": 0
      },
      "text/plain": [
       "Map(center=[0, 0], controls=(ZoomControl(options=['position', 'zoom_in_text', 'zoom_in_title', 'zoom_out_text'…"
      ]
     },
     "metadata": {},
     "output_type": "display_data"
    }
   ],
   "source": [
    "get_tiles(images, sld_intervals, names)"
   ]
  },
  {
   "cell_type": "markdown",
   "metadata": {},
   "source": [
    "### Future SOC stocks"
   ]
  },
  {
   "cell_type": "markdown",
   "metadata": {},
   "source": [
    "## Contextual Layers\n",
    "### Land Use"
   ]
  },
  {
   "cell_type": "markdown",
   "metadata": {},
   "source": [
    "**Global Land Cover**"
   ]
  },
  {
   "cell_type": "code",
   "execution_count": 6,
   "metadata": {},
   "outputs": [],
   "source": [
    "images = []\n",
    "sld_intervals = []\n",
    "names = []"
   ]
  },
  {
   "cell_type": "code",
   "execution_count": 7,
   "metadata": {},
   "outputs": [
    {
     "data": {
      "application/vnd.jupyter.widget-view+json": {
       "model_id": "52fbe5636cf144e090f92a3fc67f02df",
       "version_major": 2,
       "version_minor": 0
      },
      "text/plain": [
       "Map(center=[0, 0], controls=(ZoomControl(options=['position', 'zoom_in_text', 'zoom_in_title', 'zoom_out_text'…"
      ]
     },
     "metadata": {},
     "output_type": "display_data"
    }
   ],
   "source": [
    "name='Global Land Cover (2001)'\n",
    "\n",
    "image = ee.Image('users/resourcewatchlandcover/esa_landcover_ipcc/ESA_2001_ipcc')\n",
    "\n",
    "sld_interval = '<RasterSymbolizer>' + \\\n",
    "'<ColorMap type=\"values\" extended=\"false\">' + \\\n",
    "'<ColorMapEntry color=\"#000000\" quantity=\"0\" opacity=\"0\" />'+ \\\n",
    "'<ColorMapEntry color=\"#DAC019\" quantity=\"1\" opacity=\"1\" />'+ \\\n",
    "'<ColorMapEntry color=\"#09630c\" quantity=\"2\" />'+ \\\n",
    "'<ColorMapEntry color=\"#3fa02c\" quantity=\"3\"/>'+ \\\n",
    "'<ColorMapEntry color=\"#159578\" quantity=\"4\" />'+ \\\n",
    "'<ColorMapEntry color=\"#c11812\" quantity=\"5\" />'+ \\\n",
    "'<ColorMapEntry color=\"#956314\" quantity=\"6\"/>'+ \\\n",
    "'<ColorMapEntry color=\"#c2e575\" quantity=\"7\" />'+ \\\n",
    "'<ColorMapEntry color=\"#E7E48C\" quantity=\"8\" />'+ \\\n",
    "'<ColorMapEntry color=\"#07629D\" quantity=\"210\" />'+ \\\n",
    "'<ColorMapEntry color=\"#FFFFFF\" quantity=\"220\" />'+ \\\n",
    "'</ColorMap>' + '</RasterSymbolizer>'\n",
    "\n",
    "images.append(image)\n",
    "sld_intervals.append(sld_interval)\n",
    "names.append(name)\n",
    "\n",
    "get_tiles([image], [sld_interval], [name],opacity=1)"
   ]
  },
  {
   "cell_type": "markdown",
   "metadata": {},
   "source": [
    "**Tree Cover Loss**"
   ]
  },
  {
   "cell_type": "code",
   "execution_count": null,
   "metadata": {},
   "outputs": [],
   "source": [
    "name='Tree Cover Loss (2010)'\n",
    "\n",
    "image_url = 'https://production-api.globalforestwatch.org/v1/true-color-tiles/loss/{z}/{x}/{y}?startYear=2001&endYear=2010'\n",
    "\n",
    "m = ipyl.Map(center=((0,0)), zoom=2)\n",
    "    \n",
    "m.add_layer(topography_basemap)\n",
    "        \n",
    "tile_layer = ipyl.TileLayer(\n",
    "    url=image_url,\n",
    "    format='image/png',\n",
    "    name=name,\n",
    "    opacity=1\n",
    ")\n",
    "    \n",
    "m.add_layer(tile_layer)\n",
    "    \n",
    "control = ipyl.LayersControl(position='topright')\n",
    "m.add_control(control)\n",
    "m.add_control(ipyl.FullScreenControl())\n",
    "    \n",
    "m"
   ]
  },
  {
   "cell_type": "markdown",
   "metadata": {},
   "source": [
    "**Cropland and Pasture Area**"
   ]
  },
  {
   "cell_type": "code",
   "execution_count": null,
   "metadata": {},
   "outputs": [],
   "source": [
    "name='Cropland and Pasture Area'\n",
    "\n",
    "image = ee.Image('users/resourcewatch/foo_049_cropland_and_pasture_area2000')\n",
    "\n",
    "sld_interval = '<RasterSymbolizer> <ChannelSelection> <GrayChannel> <SourceChannelName>1</SourceChannelName> </GrayChannel> </ChannelSelection>' + \\\n",
    "'<ColorMap  type=\"ramp\" extended=\"false\">' + \\\n",
    "'<ColorMapEntry color=\"#d9f0a3\" quantity=\"0.01\" opacity=\"0\" />' + \\\n",
    "'<ColorMapEntry color=\"#d9f0a3\" quantity=\"0.2\" />' + \\\n",
    "'<ColorMapEntry color=\"#addd8e\" quantity=\"0.4\" />' + \\\n",
    "'<ColorMapEntry color=\"#78c679\" quantity=\"0.6\" />' + \\\n",
    "'<ColorMapEntry color=\"#31a354\" quantity=\"0.8\" />' + \\\n",
    "'<ColorMapEntry color=\"#006837\" quantity=\"1\" />' + \\\n",
    "'</ColorMap>' + '</RasterSymbolizer>'\n",
    "\n",
    "images.append(image)\n",
    "sld_intervals.append(sld_interval)\n",
    "names.append(name)\n",
    "\n",
    "get_tiles([image], [sld_interval], [name])"
   ]
  },
  {
   "cell_type": "markdown",
   "metadata": {},
   "source": [
    "**Wetlands and Waterbodies**"
   ]
  },
  {
   "cell_type": "code",
   "execution_count": null,
   "metadata": {},
   "outputs": [],
   "source": [
    "name='Wetlands and Waterbodies'\n",
    "\n",
    "image = ee.Image('users/resourcewatch/wat_039_wetlands_waterbodies')\n",
    "\n",
    "sld_interval = '<RasterSymbolizer>' + \\\n",
    "'<ColorMap  type=\"values\" extended=\"false\">' + \\\n",
    "'<ColorMapEntry color=\"#6DB4D9\" quantity=\"1\" label=\"\" opacity=\"1\" />' + \\\n",
    "'<ColorMapEntry color=\"#1f78b4\" quantity=\"2\" label=\"\" />' + \\\n",
    "'<ColorMapEntry color=\"#08306b\" quantity=\"3\" label=\"\" />' + \\\n",
    "'<ColorMapEntry color=\"#80B160\" quantity=\"4\" label=\"\" />' + \\\n",
    "'<ColorMapEntry color=\"#33a02c\" quantity=\"5\" label=\"\" />' + \\\n",
    "'<ColorMapEntry color=\"#ED6F6E\" quantity=\"6\" label=\"\" />' + \\\n",
    "'<ColorMapEntry color=\"#e31a1c\" quantity=\"7\" label=\"\" />' + \\\n",
    "'<ColorMapEntry color=\"#D08522\" quantity=\"8\" label=\"\" />' + \\\n",
    "'<ColorMapEntry color=\"#FFAE00\" quantity=\"9\" label=\"\" />' + \\\n",
    "'<ColorMapEntry color=\"#D392F3\" quantity=\"10\" label=\"\" />' + \\\n",
    "'<ColorMapEntry color=\"#6a3d9a\" quantity=\"11\" label=\"\" />' + \\\n",
    "'<ColorMapEntry color=\"#b15928\" quantity=\"12\" label=\"\" />' + \\\n",
    "'</ColorMap>' + '</RasterSymbolizer>'\n",
    "\n",
    "images.append(image)\n",
    "sld_intervals.append(sld_interval)\n",
    "names.append(name)\n",
    "\n",
    "get_tiles([image], [sld_interval], [name])"
   ]
  },
  {
   "cell_type": "markdown",
   "metadata": {},
   "source": [
    "**Urban Built-Up Area**"
   ]
  },
  {
   "cell_type": "code",
   "execution_count": null,
   "metadata": {},
   "outputs": [],
   "source": [
    "name='Urban Built-Up Area (2014)'\n",
    "\n",
    "image = ee.Image('projects/resource-watch-gee/cit_033a_urban_built_up_area_30m_mosaic')\n",
    "\n",
    "sld_interval = '<RasterSymbolizer> <ChannelSelection> <GrayChannel> <SourceChannelName>b1</SourceChannelName> </GrayChannel> </ChannelSelection>' + \\\n",
    "'<ColorMap  type=\"values\" extended=\"false\">' + \\\n",
    "'<ColorMapEntry color=\"#F03B20\" quantity=\"6\" label=\"\" />' + \\\n",
    "'<ColorMapEntry color=\"#FEB24C\" quantity=\"5\" label=\"\" />' + \\\n",
    "'<ColorMapEntry color=\"#FFEDA0\" quantity=\"4\" label=\"\" />' + \\\n",
    "'<ColorMapEntry color=\"#f7f7f7\" quantity=\"3\" label=\"\" />' + \\\n",
    "'</ColorMap></RasterSymbolizer>'\n",
    "\n",
    "images.append(image)\n",
    "sld_intervals.append(sld_interval)\n",
    "names.append(name)\n",
    "\n",
    "get_tiles([image], [sld_interval], [name])"
   ]
  },
  {
   "cell_type": "code",
   "execution_count": null,
   "metadata": {},
   "outputs": [],
   "source": []
  },
  {
   "cell_type": "code",
   "execution_count": null,
   "metadata": {},
   "outputs": [],
   "source": []
  }
 ],
 "metadata": {
  "kernelspec": {
   "display_name": "Python 3",
   "language": "python",
   "name": "python3"
  },
  "language_info": {
   "codemirror_mode": {
    "name": "ipython",
    "version": 3
   },
   "file_extension": ".py",
   "mimetype": "text/x-python",
   "name": "python",
   "nbconvert_exporter": "python",
   "pygments_lexer": "ipython3",
   "version": "3.7.4"
  }
 },
 "nbformat": 4,
 "nbformat_minor": 4
}
