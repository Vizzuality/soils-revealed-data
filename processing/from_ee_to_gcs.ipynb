{
 "cells": [
  {
   "cell_type": "code",
   "execution_count": 1,
   "metadata": {},
   "outputs": [],
   "source": [
    "import numpy as np\n",
    "import ee\n",
    "ee.Initialize()"
   ]
  },
  {
   "cell_type": "code",
   "execution_count": 3,
   "metadata": {},
   "outputs": [],
   "source": [
    "years = (np.arange(2)+1982).astype(np.str)#(np.arange(36)+1982).astype(np.str)\n",
    "collection = 'users/iker/SOC_maps/SOC_stock_0_30'\n",
    "\n",
    "Feb19_cstocks_1982_030_ll.tif\n",
    "for year in years:\n",
    "    start_date = f'{year}-01-01'\n",
    "    end_date = f'{year}-12-31'\n",
    "    \n",
    "    collection = ee.ImageCollection(collection) \n",
    "        \n",
    "    image = ee.Image(collection.filterDate(start_date, end_date).first())\n",
    "    \n",
    "    geometry = image.geometry()\n",
    "    \n",
    "    fileName = f'Feb19_cstocks_{str(year)}_030_ll'\n",
    "    image_band = image.select(band)\n",
    "        \n",
    "    task = ee.batch.Export.image.toCloudStorage(\n",
    "           image=image_band,\n",
    "           bucket='vizz-data-transfer',\n",
    "           fileNamePrefix=f'SOC_maps/SOC_concentration/{fileName}',\n",
    "           description= fileName,\n",
    "           scale= 250,\n",
    "           region= geometry.getInfo().get('coordinates'),\n",
    "           maxPixels=1e10)\n",
    "    task.start()"
   ]
  },
  {
   "cell_type": "code",
   "execution_count": null,
   "metadata": {},
   "outputs": [],
   "source": [
    "years = (np.arange(36)+1982).astype(np.str)\n",
    "quantiles = ['0.05', '0.5', '0.95']\n",
    "collections = ['SOC_concentration_q5', 'SOC_concentration_q50', 'SOC_concentration_q95']\n",
    "quantiles = dict(zip(quantiles, collections))\n",
    "\n",
    "collection = ee.ImageCollection(f'users/iker/SOC_maps/{collections[1]}')\n",
    "image = ee.Image(collection.first())\n",
    "geometry = image.geometry()\n",
    "\n",
    "bands = collection.first().bandNames().getInfo()\n",
    "depth = ['2.5', '10', '22.5', '45', '80', '150']\n",
    "bands = dict(zip(bands, depth))\n",
    "\n",
    "for year in years:\n",
    "    start_date = f'{year}-01-01'\n",
    "    end_date = f'{year}-12-31'\n",
    "    \n",
    "    for quantile in quantiles.keys():\n",
    "        \n",
    "        collection = ee.ImageCollection(f'users/iker/SOC_maps/{quantiles[quantile]}') \n",
    "        \n",
    "        image = ee.Image(collection.filterDate(start_date, end_date).first())\n",
    "        \n",
    "        for band in bands.keys():\n",
    "            fileName = f'SOC_{str(year)}_q{quantile}_d{bands[band]}'\n",
    "            image_band = image.select(band)\n",
    "                \n",
    "            task = ee.batch.Export.image.toCloudStorage(\n",
    "                   image=image_band,\n",
    "                   bucket='vizz-data-transfer',\n",
    "                   fileNamePrefix=f'SOC_maps/SOC_concentration/{fileName}',\n",
    "                   description= fileName,\n",
    "                   scale= 250,\n",
    "                   region= geometry.getInfo().get('coordinates'),\n",
    "                   maxPixels=1e10)\n",
    "            task.start()"
   ]
  }
 ],
 "metadata": {
  "kernelspec": {
   "display_name": "Python 3",
   "language": "python",
   "name": "python3"
  },
  "language_info": {
   "codemirror_mode": {
    "name": "ipython",
    "version": 3
   },
   "file_extension": ".py",
   "mimetype": "text/x-python",
   "name": "python",
   "nbconvert_exporter": "python",
   "pygments_lexer": "ipython3",
   "version": "3.7.4"
  }
 },
 "nbformat": 4,
 "nbformat_minor": 4
}
