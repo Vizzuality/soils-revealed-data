{
 "cells": [
  {
   "cell_type": "markdown",
   "metadata": {},
   "source": [
    "# Create MBTiles for Soils-revealed platform\n",
    "\n",
    "Check this [notebook](https://github.com/Vizzuality/sci_team_data_bank/blob/master/Encyclopedia/map_tile_processing/MBTiles_from_Carto_data.ipynb) for further information on the creation of `MBTiles`.\n",
    "\n",
    "## Table of Contents\n",
    "### [Python libraries](#libraries)\n",
    "### [Utils](#utils)\n",
    "- **[df_from_carto](#df_from_carto)**\n",
    "- **[long_lasting_SQL_queries](#long_lasting_SQL_queries)**\n",
    "- **[create_mbtiles](#create_mbtiles)**\n",
    "\n",
    "### [Read data from different sources ](#read_data)\n",
    "- **[Biomes](#biomes)**\n",
    "- **[World Database on Protected Areas](#protected_areas)**\n",
    "- **[River basins](#river_basins)**\n",
    "- **[Political boundaries](#political_boundaries)**\n",
    "\n",
    "### [Create `MBTiles`](#create_mbtiles_2)\n",
    "### [Show `MBTiles` in our localhost](#show_mbtiles)"
   ]
  },
  {
   "cell_type": "markdown",
   "metadata": {},
   "source": [
    "<a id='libraries'></a>\n",
    "### Python libraries"
   ]
  },
  {
   "cell_type": "code",
   "execution_count": 1,
   "metadata": {},
   "outputs": [],
   "source": [
    "import os\n",
    "import requests\n",
    "import numpy as np\n",
    "import pandas as pd\n",
    "import geopandas as gpd\n",
    "import shapely.wkb \n",
    "from shapely.ops import cascaded_union\n",
    "from carto.auth import APIKeyAuthClient\n",
    "from carto.sql import BatchSQLClient\n",
    "from carto.sql import SQLClient\n",
    "from tqdm import tqdm\n",
    "import getpass\n",
    "import subprocess\n",
    "import time\n",
    "import LMIPy"
   ]
  },
  {
   "cell_type": "markdown",
   "metadata": {},
   "source": [
    "<a id='utils'></a>\n",
    "### Utils\n",
    "<a id='df_from_carto'></a>\n",
    "**df_from_carto**"
   ]
  },
  {
   "cell_type": "code",
   "execution_count": 2,
   "metadata": {},
   "outputs": [],
   "source": [
    "def df_from_carto(account, query):\n",
    "    \"\"\"\n",
    "    It gets data by querying a carto table and converts it into a GeoDataFrame.\n",
    "    \"\"\"\n",
    "    urlCarto = f\"https://{account}.carto.com/api/v2/sql\"\n",
    "    \n",
    "    sql = {\"q\": query}\n",
    "    r = requests.get(urlCarto, params=sql)\n",
    "    \n",
    "    data = r.json()\n",
    "    \n",
    "    df = gpd.GeoDataFrame(data.get(\"rows\"))\n",
    "    if 'the_geom' in df.columns:\n",
    "        # Change geometry from WKB to WKT format\n",
    "        df['geometry'] = df.apply(lambda x: shapely.wkb.loads(x['the_geom'],hex=True), axis=1 )\n",
    "        df.drop(columns=['the_geom'], inplace=True)\n",
    "        if 'the_geom_webmercator' in df.columns:\n",
    "            df.drop(columns=['the_geom_webmercator'], inplace=True)\n",
    "        df.crs = {'init': 'epsg:4326'}\n",
    "        df = df.to_crs({'init': 'epsg:4326'})\n",
    "        \n",
    "    return df"
   ]
  },
  {
   "cell_type": "markdown",
   "metadata": {},
   "source": [
    "<a id='long_lasting_SQL_queries'></a>\n",
    "**long_lasting_SQL_queries**"
   ]
  },
  {
   "cell_type": "code",
   "execution_count": 3,
   "metadata": {},
   "outputs": [],
   "source": [
    "def long_lasting_SQL_queries(account, query, api_key):\n",
    "    # For long lasting SQL queries we use the batch SQL API.\n",
    "    table_name = 'job_result'\n",
    "    \n",
    "    base_url = f'https://{account}.carto.com/'\n",
    "    auth_client = APIKeyAuthClient(api_key=api_key, base_url=base_url)\n",
    "    \n",
    "    sql_query =(f'SELECT * INTO {table_name} FROM ({query}) as job')\n",
    "    \n",
    "    LIST_OF_SQL_QUERIES = [sql_query]\n",
    "    \n",
    "    batchSQLClient = BatchSQLClient(auth_client)\n",
    "    createJob = batchSQLClient.create(LIST_OF_SQL_QUERIES)\n",
    "    \n",
    "    # Check the status of a job with the job_id every 10 s\n",
    "    readJob = batchSQLClient.read(createJob['job_id'])\n",
    "    \n",
    "    timeout = time.time() + 60*60  # 1 hour from now\n",
    "    while readJob.get('status') != 'done':\n",
    "        time.sleep(10)\n",
    "        print(readJob.get('status'))\n",
    "        if readJob.get('status') == 'failed':\n",
    "            print('Job failed.')\n",
    "            break\n",
    "        if time.time() > timeout:\n",
    "            readJob = batchSQLClient.read(createJob['job_id'])\n",
    "            # Cancel a job given its job_id\n",
    "            if readJob.get('status') != 'donne':\n",
    "                cancelJob = batchSQLClient.cancel(createJob['job_id'])     \n",
    "                print('Job cancelled after 1 hour running')\n",
    "                break\n",
    "            \n",
    "        readJob = batchSQLClient.read(createJob['job_id'])\n",
    "       \n",
    "    # Read the table\n",
    "    sql = SQLClient(auth_client)\n",
    "    data = sql.send(\"select * from \"+table_name)\n",
    "    \n",
    "    # Drop the table\n",
    "    sql = SQLClient(auth_client)\n",
    "    sql.send(\"DROP TABLE \"+table_name)\n",
    "    \n",
    "    df = gpd.GeoDataFrame(data.get(\"rows\"))\n",
    "    if 'the_geom' in df.columns:\n",
    "        # Change geometry from WKB to WKT format\n",
    "        df['geometry'] = df.apply(lambda x: shapely.wkb.loads(x['the_geom'],hex=True), axis=1 )\n",
    "        df.drop(columns=['the_geom'], inplace=True)\n",
    "        if 'the_geom_webmercator' in df.columns:\n",
    "            df.drop(columns=['the_geom_webmercator'], inplace=True)\n",
    "        df.crs = {'init': 'epsg:4326'}\n",
    "        df = df.to_crs({'init': 'epsg:4326'})\n",
    "        \n",
    "    return df"
   ]
  },
  {
   "cell_type": "markdown",
   "metadata": {},
   "source": [
    "**merge_geometries**"
   ]
  },
  {
   "cell_type": "code",
   "execution_count": 4,
   "metadata": {},
   "outputs": [],
   "source": [
    "def merge_geometries(df, column_name):\n",
    "    df_new = pd.DataFrame(columns=list(df.columns))\n",
    "    geom = []\n",
    "    for value in tqdm(df[column_name].unique()):\n",
    "        df_tmp = df[df[column_name] == value].iloc[:1]\n",
    "        geom.append(cascaded_union(list(df[df[column_name] == value].geometry)))\n",
    "        \n",
    "        df_new = pd.concat([df_new, df_tmp])\n",
    "        \n",
    "    df_new.reset_index(inplace=True)\n",
    "    df_new.drop(columns='index', inplace=True)\n",
    "    df_new.drop(columns='geometry', inplace=True)\n",
    "    df_new['geometry'] = geom\n",
    "\n",
    "    return gpd.GeoDataFrame(df_new)"
   ]
  },
  {
   "cell_type": "markdown",
   "metadata": {},
   "source": [
    "<a id='create_mbtiles'></a>\n",
    "**create_mbtiles**"
   ]
  },
  {
   "cell_type": "code",
   "execution_count": 5,
   "metadata": {},
   "outputs": [],
   "source": [
    "def create_mbtiles(source_path, dest_path, layer_name, opts=\"-zg --drop-densest-as-needed --extend-zooms-if-still-dropping --force --read-parallel\"):\n",
    "    \"\"\"\n",
    "    Use tippecanoe to create a MBTILE at dest_path from source_path.\n",
    "    layer_name is used for the name of the layer in the MBTILE.\n",
    "    Regex file path (/*.geojson) is supported for source_path.\n",
    "    \"\"\"\n",
    "    cmd = f\"tippecanoe -o {dest_path} -l {layer_name} {opts} {source_path}\"\n",
    "    print(f\"Processing: {cmd}\")\n",
    "    r = subprocess.call(cmd, shell=True)\n",
    "    if r == 0:\n",
    "        print(\"Task created\")\n",
    "    else:\n",
    "        print(\"Task failed\")\n",
    "    print(\"Finished processing\")"
   ]
  },
  {
   "cell_type": "markdown",
   "metadata": {},
   "source": [
    "<a id='read_data'></a>\n",
    "### Read data from different sources "
   ]
  },
  {
   "cell_type": "markdown",
   "metadata": {},
   "source": [
    "<a id='biomes'></a>\n",
    "#### **[Biomes](https://resourcewatch.org/data/explore/bio042-Ecoregion-by-Biome)**"
   ]
  },
  {
   "cell_type": "code",
   "execution_count": 6,
   "metadata": {},
   "outputs": [
    {
     "data": {
      "text/html": [
       "<div class='item_container' style='height: auto; overflow: hidden; border: 3px solid #2BA4A0;border-radius: 2px; background: #fff; line-height: 1.21429em; padding: 10px;''><div class='item_left' style='width: 210px; float: left;''><a href='https://resourcewatch.org/' target='_blank'><img class='itemThumbnail' src='https://resourcewatch.org/static/images/logo-embed.png'></a></div><div class='item_right' style='float: none; width: auto; hidden;padding-left: 10px; overflow: hidden;''><a href=https://api.resourcewatch.org/v1/dataset/ed1544bb-a092-424e-88c2-8d548f4ef94a?includes=vocabulary,metadata,layer,widget target='_blank'><b>bio.042 Ecoregion by Biome</b></a><br> Carto table: <a href=https://wri-rw.carto.com/tables/bio_042_ecoregions_by_biome_1_14/public target='_blank'>bio_042_ecoregions_by_biome_1_14</a> | Dataset in RW.<br>Last Modified: 2019-03-12T19:11:15.214Z<br><a href='https://api.resourcewatch.org/v1/fields/ed1544bb-a092-424e-88c2-8d548f4ef94a' target='_blank'>Fields</a> Connector: cartodb | Published: True </div> </div>"
      ],
      "text/plain": [
       "Dataset ed1544bb-a092-424e-88c2-8d548f4ef94a bio.042 Ecoregion by Biome"
      ]
     },
     "execution_count": 6,
     "metadata": {},
     "output_type": "execute_result"
    }
   ],
   "source": [
    "ds = LMIPy.Dataset('ed1544bb-a092-424e-88c2-8d548f4ef94a')\n",
    "ds"
   ]
  },
  {
   "cell_type": "code",
   "execution_count": 7,
   "metadata": {},
   "outputs": [
    {
     "data": {
      "text/html": [
       "<div>\n",
       "<style scoped>\n",
       "    .dataframe tbody tr th:only-of-type {\n",
       "        vertical-align: middle;\n",
       "    }\n",
       "\n",
       "    .dataframe tbody tr th {\n",
       "        vertical-align: top;\n",
       "    }\n",
       "\n",
       "    .dataframe thead th {\n",
       "        text-align: right;\n",
       "    }\n",
       "</style>\n",
       "<table border=\"1\" class=\"dataframe\">\n",
       "  <thead>\n",
       "    <tr style=\"text-align: right;\">\n",
       "      <th></th>\n",
       "      <th>objectid</th>\n",
       "      <th>eco_name</th>\n",
       "      <th>biome_num</th>\n",
       "      <th>biome_name</th>\n",
       "      <th>realm</th>\n",
       "      <th>eco_biome_</th>\n",
       "      <th>eco_id</th>\n",
       "      <th>geometry</th>\n",
       "    </tr>\n",
       "  </thead>\n",
       "  <tbody>\n",
       "    <tr>\n",
       "      <th>0</th>\n",
       "      <td>443.0</td>\n",
       "      <td>Mindanao montane rain forests</td>\n",
       "      <td>1.0</td>\n",
       "      <td>Tropical &amp; Subtropical Moist Broadleaf Forests</td>\n",
       "      <td>Indomalayan</td>\n",
       "      <td>IN01</td>\n",
       "      <td>246.0</td>\n",
       "      <td>MULTIPOLYGON (((125.55642 5.88603, 125.54279 5...</td>\n",
       "    </tr>\n",
       "    <tr>\n",
       "      <th>1</th>\n",
       "      <td>724.0</td>\n",
       "      <td>Talamancan montane forests</td>\n",
       "      <td>1.0</td>\n",
       "      <td>Tropical &amp; Subtropical Moist Broadleaf Forests</td>\n",
       "      <td>Neotropic</td>\n",
       "      <td>NO01</td>\n",
       "      <td>506.0</td>\n",
       "      <td>MULTIPOLYGON (((-80.64769 7.34814, -80.65040 7...</td>\n",
       "    </tr>\n",
       "    <tr>\n",
       "      <th>2</th>\n",
       "      <td>727.0</td>\n",
       "      <td>Tapajós-Xingu moist forests</td>\n",
       "      <td>1.0</td>\n",
       "      <td>Tropical &amp; Subtropical Moist Broadleaf Forests</td>\n",
       "      <td>Neotropic</td>\n",
       "      <td>NO01</td>\n",
       "      <td>507.0</td>\n",
       "      <td>POLYGON ((-52.24178 -1.89543, -52.22267 -1.957...</td>\n",
       "    </tr>\n",
       "    <tr>\n",
       "      <th>3</th>\n",
       "      <td>729.0</td>\n",
       "      <td>Tasmanian Central Highland forests</td>\n",
       "      <td>4.0</td>\n",
       "      <td>Temperate Broadleaf &amp; Mixed Forests</td>\n",
       "      <td>Australasia</td>\n",
       "      <td>AU04</td>\n",
       "      <td>177.0</td>\n",
       "      <td>POLYGON ((146.64762 -42.26116, 146.61263 -42.2...</td>\n",
       "    </tr>\n",
       "    <tr>\n",
       "      <th>4</th>\n",
       "      <td>730.0</td>\n",
       "      <td>Tasmanian temperate forests</td>\n",
       "      <td>4.0</td>\n",
       "      <td>Temperate Broadleaf &amp; Mixed Forests</td>\n",
       "      <td>Australasia</td>\n",
       "      <td>AU04</td>\n",
       "      <td>178.0</td>\n",
       "      <td>MULTIPOLYGON (((147.18021 -43.28831, 147.17986...</td>\n",
       "    </tr>\n",
       "  </tbody>\n",
       "</table>\n",
       "</div>"
      ],
      "text/plain": [
       "   objectid                            eco_name  biome_num  \\\n",
       "0     443.0       Mindanao montane rain forests        1.0   \n",
       "1     724.0          Talamancan montane forests        1.0   \n",
       "2     727.0         Tapajós-Xingu moist forests        1.0   \n",
       "3     729.0  Tasmanian Central Highland forests        4.0   \n",
       "4     730.0         Tasmanian temperate forests        4.0   \n",
       "\n",
       "                                       biome_name        realm eco_biome_  \\\n",
       "0  Tropical & Subtropical Moist Broadleaf Forests  Indomalayan       IN01   \n",
       "1  Tropical & Subtropical Moist Broadleaf Forests    Neotropic       NO01   \n",
       "2  Tropical & Subtropical Moist Broadleaf Forests    Neotropic       NO01   \n",
       "3             Temperate Broadleaf & Mixed Forests  Australasia       AU04   \n",
       "4             Temperate Broadleaf & Mixed Forests  Australasia       AU04   \n",
       "\n",
       "   eco_id                                           geometry  \n",
       "0   246.0  MULTIPOLYGON (((125.55642 5.88603, 125.54279 5...  \n",
       "1   506.0  MULTIPOLYGON (((-80.64769 7.34814, -80.65040 7...  \n",
       "2   507.0  POLYGON ((-52.24178 -1.89543, -52.22267 -1.957...  \n",
       "3   177.0  POLYGON ((146.64762 -42.26116, 146.61263 -42.2...  \n",
       "4   178.0  MULTIPOLYGON (((147.18021 -43.28831, 147.17986...  "
      ]
     },
     "execution_count": 7,
     "metadata": {},
     "output_type": "execute_result"
    }
   ],
   "source": [
    "biomes = gpd.read_file('../data/mbtiles/bio_042_ecoregions_by_biome_1_14/bio_042_ecoregions_by_biome_1_14.shp')\n",
    "biomes.drop(columns='cartodb_id', inplace=True)\n",
    "biomes.head()"
   ]
  },
  {
   "cell_type": "markdown",
   "metadata": {},
   "source": [
    "**Merge geometries**"
   ]
  },
  {
   "cell_type": "code",
   "execution_count": 8,
   "metadata": {},
   "outputs": [
    {
     "name": "stderr",
     "output_type": "stream",
     "text": [
      "100%|██████████| 15/15 [4:11:27<00:00, 1005.82s/it]   \n"
     ]
    }
   ],
   "source": [
    "biomes_0 = merge_geometries(biomes, 'biome_name')"
   ]
  },
  {
   "cell_type": "code",
   "execution_count": 19,
   "metadata": {},
   "outputs": [],
   "source": [
    "a = np.empty(len(biomes_0))\n",
    "a[:] = np.nan\n",
    "biomes_0['eco_name'] = a\n",
    "biomes_0['realm'] = a\n",
    "biomes_0['eco_biome_'] = a\n",
    "biomes_0['eco_id'] = a"
   ]
  },
  {
   "cell_type": "markdown",
   "metadata": {},
   "source": [
    "Append `GeoDataFrames`"
   ]
  },
  {
   "cell_type": "code",
   "execution_count": 21,
   "metadata": {},
   "outputs": [],
   "source": [
    "biomes_0['level'] = 0\n",
    "biomes['level'] = 1"
   ]
  },
  {
   "cell_type": "code",
   "execution_count": 23,
   "metadata": {},
   "outputs": [
    {
     "data": {
      "text/html": [
       "<div>\n",
       "<style scoped>\n",
       "    .dataframe tbody tr th:only-of-type {\n",
       "        vertical-align: middle;\n",
       "    }\n",
       "\n",
       "    .dataframe tbody tr th {\n",
       "        vertical-align: top;\n",
       "    }\n",
       "\n",
       "    .dataframe thead th {\n",
       "        text-align: right;\n",
       "    }\n",
       "</style>\n",
       "<table border=\"1\" class=\"dataframe\">\n",
       "  <thead>\n",
       "    <tr style=\"text-align: right;\">\n",
       "      <th></th>\n",
       "      <th>biome_name</th>\n",
       "      <th>biome_num</th>\n",
       "      <th>eco_name</th>\n",
       "      <th>realm</th>\n",
       "      <th>eco_biome_</th>\n",
       "      <th>eco_id</th>\n",
       "      <th>level</th>\n",
       "      <th>geometry</th>\n",
       "    </tr>\n",
       "  </thead>\n",
       "  <tbody>\n",
       "    <tr>\n",
       "      <th>0</th>\n",
       "      <td>Tropical &amp; Subtropical Moist Broadleaf Forests</td>\n",
       "      <td>1.0</td>\n",
       "      <td>NaN</td>\n",
       "      <td>NaN</td>\n",
       "      <td>NaN</td>\n",
       "      <td>NaN</td>\n",
       "      <td>0</td>\n",
       "      <td>MULTIPOLYGON (((39.63333 -10.09917, 39.63500 -...</td>\n",
       "    </tr>\n",
       "    <tr>\n",
       "      <th>1</th>\n",
       "      <td>Temperate Broadleaf &amp; Mixed Forests</td>\n",
       "      <td>4.0</td>\n",
       "      <td>NaN</td>\n",
       "      <td>NaN</td>\n",
       "      <td>NaN</td>\n",
       "      <td>NaN</td>\n",
       "      <td>0</td>\n",
       "      <td>MULTIPOLYGON (((-67.24305 -55.93486, -67.23734...</td>\n",
       "    </tr>\n",
       "    <tr>\n",
       "      <th>2</th>\n",
       "      <td>Tropical &amp; Subtropical Dry Broadleaf Forests</td>\n",
       "      <td>2.0</td>\n",
       "      <td>NaN</td>\n",
       "      <td>NaN</td>\n",
       "      <td>NaN</td>\n",
       "      <td>NaN</td>\n",
       "      <td>0</td>\n",
       "      <td>MULTIPOLYGON (((166.00638 -21.98935, 165.99634...</td>\n",
       "    </tr>\n",
       "    <tr>\n",
       "      <th>3</th>\n",
       "      <td>Tropical &amp; Subtropical Coniferous Forests</td>\n",
       "      <td>3.0</td>\n",
       "      <td>NaN</td>\n",
       "      <td>NaN</td>\n",
       "      <td>NaN</td>\n",
       "      <td>NaN</td>\n",
       "      <td>0</td>\n",
       "      <td>MULTIPOLYGON (((-75.05347 20.68018, -75.05943 ...</td>\n",
       "    </tr>\n",
       "    <tr>\n",
       "      <th>4</th>\n",
       "      <td>Temperate Conifer Forests</td>\n",
       "      <td>5.0</td>\n",
       "      <td>NaN</td>\n",
       "      <td>NaN</td>\n",
       "      <td>NaN</td>\n",
       "      <td>NaN</td>\n",
       "      <td>0</td>\n",
       "      <td>MULTIPOLYGON (((91.83731 27.42280, 91.81181 27...</td>\n",
       "    </tr>\n",
       "    <tr>\n",
       "      <th>...</th>\n",
       "      <td>...</td>\n",
       "      <td>...</td>\n",
       "      <td>...</td>\n",
       "      <td>...</td>\n",
       "      <td>...</td>\n",
       "      <td>...</td>\n",
       "      <td>...</td>\n",
       "      <td>...</td>\n",
       "    </tr>\n",
       "    <tr>\n",
       "      <th>2665</th>\n",
       "      <td>N/A</td>\n",
       "      <td>11.0</td>\n",
       "      <td>Rock and Ice</td>\n",
       "      <td>N/A</td>\n",
       "      <td>N/A</td>\n",
       "      <td>0.0</td>\n",
       "      <td>1</td>\n",
       "      <td>POLYGON ((-159.14277 -86.41071, -159.07742 -86...</td>\n",
       "    </tr>\n",
       "    <tr>\n",
       "      <th>2666</th>\n",
       "      <td>N/A</td>\n",
       "      <td>11.0</td>\n",
       "      <td>Rock and Ice</td>\n",
       "      <td>N/A</td>\n",
       "      <td>N/A</td>\n",
       "      <td>0.0</td>\n",
       "      <td>1</td>\n",
       "      <td>POLYGON ((-165.41384 -86.47713, -165.42556 -86...</td>\n",
       "    </tr>\n",
       "    <tr>\n",
       "      <th>2667</th>\n",
       "      <td>N/A</td>\n",
       "      <td>11.0</td>\n",
       "      <td>Rock and Ice</td>\n",
       "      <td>N/A</td>\n",
       "      <td>N/A</td>\n",
       "      <td>0.0</td>\n",
       "      <td>1</td>\n",
       "      <td>POLYGON ((-164.31972 -86.47755, -164.36305 -86...</td>\n",
       "    </tr>\n",
       "    <tr>\n",
       "      <th>2668</th>\n",
       "      <td>N/A</td>\n",
       "      <td>11.0</td>\n",
       "      <td>Rock and Ice</td>\n",
       "      <td>N/A</td>\n",
       "      <td>N/A</td>\n",
       "      <td>0.0</td>\n",
       "      <td>1</td>\n",
       "      <td>POLYGON ((-165.20552 -86.57379, -165.24149 -86...</td>\n",
       "    </tr>\n",
       "    <tr>\n",
       "      <th>2669</th>\n",
       "      <td>N/A</td>\n",
       "      <td>11.0</td>\n",
       "      <td>Rock and Ice</td>\n",
       "      <td>N/A</td>\n",
       "      <td>N/A</td>\n",
       "      <td>0.0</td>\n",
       "      <td>1</td>\n",
       "      <td>POLYGON ((-147.21632 -86.62486, -147.23045 -86...</td>\n",
       "    </tr>\n",
       "  </tbody>\n",
       "</table>\n",
       "<p>2685 rows × 8 columns</p>\n",
       "</div>"
      ],
      "text/plain": [
       "                                          biome_name  biome_num      eco_name  \\\n",
       "0     Tropical & Subtropical Moist Broadleaf Forests        1.0           NaN   \n",
       "1                Temperate Broadleaf & Mixed Forests        4.0           NaN   \n",
       "2       Tropical & Subtropical Dry Broadleaf Forests        2.0           NaN   \n",
       "3          Tropical & Subtropical Coniferous Forests        3.0           NaN   \n",
       "4                          Temperate Conifer Forests        5.0           NaN   \n",
       "...                                              ...        ...           ...   \n",
       "2665                                             N/A       11.0  Rock and Ice   \n",
       "2666                                             N/A       11.0  Rock and Ice   \n",
       "2667                                             N/A       11.0  Rock and Ice   \n",
       "2668                                             N/A       11.0  Rock and Ice   \n",
       "2669                                             N/A       11.0  Rock and Ice   \n",
       "\n",
       "     realm eco_biome_  eco_id  level  \\\n",
       "0      NaN        NaN     NaN      0   \n",
       "1      NaN        NaN     NaN      0   \n",
       "2      NaN        NaN     NaN      0   \n",
       "3      NaN        NaN     NaN      0   \n",
       "4      NaN        NaN     NaN      0   \n",
       "...    ...        ...     ...    ...   \n",
       "2665   N/A        N/A     0.0      1   \n",
       "2666   N/A        N/A     0.0      1   \n",
       "2667   N/A        N/A     0.0      1   \n",
       "2668   N/A        N/A     0.0      1   \n",
       "2669   N/A        N/A     0.0      1   \n",
       "\n",
       "                                               geometry  \n",
       "0     MULTIPOLYGON (((39.63333 -10.09917, 39.63500 -...  \n",
       "1     MULTIPOLYGON (((-67.24305 -55.93486, -67.23734...  \n",
       "2     MULTIPOLYGON (((166.00638 -21.98935, 165.99634...  \n",
       "3     MULTIPOLYGON (((-75.05347 20.68018, -75.05943 ...  \n",
       "4     MULTIPOLYGON (((91.83731 27.42280, 91.81181 27...  \n",
       "...                                                 ...  \n",
       "2665  POLYGON ((-159.14277 -86.41071, -159.07742 -86...  \n",
       "2666  POLYGON ((-165.41384 -86.47713, -165.42556 -86...  \n",
       "2667  POLYGON ((-164.31972 -86.47755, -164.36305 -86...  \n",
       "2668  POLYGON ((-165.20552 -86.57379, -165.24149 -86...  \n",
       "2669  POLYGON ((-147.21632 -86.62486, -147.23045 -86...  \n",
       "\n",
       "[2685 rows x 8 columns]"
      ]
     },
     "execution_count": 23,
     "metadata": {},
     "output_type": "execute_result"
    }
   ],
   "source": [
    "data = biomes_0.append(biomes, sort=False)\n",
    "data = data[['biome_name', 'biome_num', 'eco_name', 'realm', 'eco_biome_', 'eco_id',\n",
    "       'level', 'geometry']]\n",
    "data"
   ]
  },
  {
   "cell_type": "markdown",
   "metadata": {},
   "source": [
    "**Add id**"
   ]
  },
  {
   "cell_type": "code",
   "execution_count": 25,
   "metadata": {},
   "outputs": [],
   "source": [
    "data['id'] = np.arange(len(data))"
   ]
  },
  {
   "cell_type": "code",
   "execution_count": 26,
   "metadata": {},
   "outputs": [
    {
     "data": {
      "text/html": [
       "<div>\n",
       "<style scoped>\n",
       "    .dataframe tbody tr th:only-of-type {\n",
       "        vertical-align: middle;\n",
       "    }\n",
       "\n",
       "    .dataframe tbody tr th {\n",
       "        vertical-align: top;\n",
       "    }\n",
       "\n",
       "    .dataframe thead th {\n",
       "        text-align: right;\n",
       "    }\n",
       "</style>\n",
       "<table border=\"1\" class=\"dataframe\">\n",
       "  <thead>\n",
       "    <tr style=\"text-align: right;\">\n",
       "      <th></th>\n",
       "      <th>biome_name</th>\n",
       "      <th>biome_num</th>\n",
       "      <th>eco_name</th>\n",
       "      <th>realm</th>\n",
       "      <th>eco_biome_</th>\n",
       "      <th>eco_id</th>\n",
       "      <th>level</th>\n",
       "      <th>geometry</th>\n",
       "      <th>id</th>\n",
       "    </tr>\n",
       "  </thead>\n",
       "  <tbody>\n",
       "    <tr>\n",
       "      <th>0</th>\n",
       "      <td>Tropical &amp; Subtropical Moist Broadleaf Forests</td>\n",
       "      <td>1.0</td>\n",
       "      <td>NaN</td>\n",
       "      <td>NaN</td>\n",
       "      <td>NaN</td>\n",
       "      <td>NaN</td>\n",
       "      <td>0</td>\n",
       "      <td>MULTIPOLYGON (((39.63333 -10.09917, 39.63500 -...</td>\n",
       "      <td>0</td>\n",
       "    </tr>\n",
       "    <tr>\n",
       "      <th>1</th>\n",
       "      <td>Temperate Broadleaf &amp; Mixed Forests</td>\n",
       "      <td>4.0</td>\n",
       "      <td>NaN</td>\n",
       "      <td>NaN</td>\n",
       "      <td>NaN</td>\n",
       "      <td>NaN</td>\n",
       "      <td>0</td>\n",
       "      <td>MULTIPOLYGON (((-67.24305 -55.93486, -67.23734...</td>\n",
       "      <td>1</td>\n",
       "    </tr>\n",
       "    <tr>\n",
       "      <th>2</th>\n",
       "      <td>Tropical &amp; Subtropical Dry Broadleaf Forests</td>\n",
       "      <td>2.0</td>\n",
       "      <td>NaN</td>\n",
       "      <td>NaN</td>\n",
       "      <td>NaN</td>\n",
       "      <td>NaN</td>\n",
       "      <td>0</td>\n",
       "      <td>MULTIPOLYGON (((166.00638 -21.98935, 165.99634...</td>\n",
       "      <td>2</td>\n",
       "    </tr>\n",
       "    <tr>\n",
       "      <th>3</th>\n",
       "      <td>Tropical &amp; Subtropical Coniferous Forests</td>\n",
       "      <td>3.0</td>\n",
       "      <td>NaN</td>\n",
       "      <td>NaN</td>\n",
       "      <td>NaN</td>\n",
       "      <td>NaN</td>\n",
       "      <td>0</td>\n",
       "      <td>MULTIPOLYGON (((-75.05347 20.68018, -75.05943 ...</td>\n",
       "      <td>3</td>\n",
       "    </tr>\n",
       "    <tr>\n",
       "      <th>4</th>\n",
       "      <td>Temperate Conifer Forests</td>\n",
       "      <td>5.0</td>\n",
       "      <td>NaN</td>\n",
       "      <td>NaN</td>\n",
       "      <td>NaN</td>\n",
       "      <td>NaN</td>\n",
       "      <td>0</td>\n",
       "      <td>MULTIPOLYGON (((91.83731 27.42280, 91.81181 27...</td>\n",
       "      <td>4</td>\n",
       "    </tr>\n",
       "  </tbody>\n",
       "</table>\n",
       "</div>"
      ],
      "text/plain": [
       "                                       biome_name  biome_num eco_name realm  \\\n",
       "0  Tropical & Subtropical Moist Broadleaf Forests        1.0      NaN   NaN   \n",
       "1             Temperate Broadleaf & Mixed Forests        4.0      NaN   NaN   \n",
       "2    Tropical & Subtropical Dry Broadleaf Forests        2.0      NaN   NaN   \n",
       "3       Tropical & Subtropical Coniferous Forests        3.0      NaN   NaN   \n",
       "4                       Temperate Conifer Forests        5.0      NaN   NaN   \n",
       "\n",
       "  eco_biome_  eco_id  level  \\\n",
       "0        NaN     NaN      0   \n",
       "1        NaN     NaN      0   \n",
       "2        NaN     NaN      0   \n",
       "3        NaN     NaN      0   \n",
       "4        NaN     NaN      0   \n",
       "\n",
       "                                            geometry  id  \n",
       "0  MULTIPOLYGON (((39.63333 -10.09917, 39.63500 -...   0  \n",
       "1  MULTIPOLYGON (((-67.24305 -55.93486, -67.23734...   1  \n",
       "2  MULTIPOLYGON (((166.00638 -21.98935, 165.99634...   2  \n",
       "3  MULTIPOLYGON (((-75.05347 20.68018, -75.05943 ...   3  \n",
       "4  MULTIPOLYGON (((91.83731 27.42280, 91.81181 27...   4  "
      ]
     },
     "execution_count": 26,
     "metadata": {},
     "output_type": "execute_result"
    }
   ],
   "source": [
    "data.head()"
   ]
  },
  {
   "cell_type": "markdown",
   "metadata": {},
   "source": [
    "Save `GeoDataFrame` as `GeoJSON`"
   ]
  },
  {
   "cell_type": "code",
   "execution_count": 27,
   "metadata": {},
   "outputs": [],
   "source": [
    "data.to_file(\"../data/mbtiles/ecoregions_by_biome.json\", driver=\"GeoJSON\")"
   ]
  },
  {
   "cell_type": "markdown",
   "metadata": {},
   "source": [
    "Save `GeoDataFrame` as `Shapefile`"
   ]
  },
  {
   "cell_type": "code",
   "execution_count": 28,
   "metadata": {},
   "outputs": [],
   "source": [
    "data.to_file(\"../data/mbtiles/ecoregions_by_biome/ecoregions_by_biome.shp\")"
   ]
  },
  {
   "cell_type": "markdown",
   "metadata": {},
   "source": [
    "<a id='protected_areas'></a>\n",
    "#### **[World Database on Protected Areas](https://resourcewatch.org/data/explore/bio007-World-Database-on-Protected-Areas_replacement)**"
   ]
  },
  {
   "cell_type": "code",
   "execution_count": null,
   "metadata": {},
   "outputs": [],
   "source": [
    "ds = LMIPy.Dataset('2442891a-157a-40e6-9092-ee596e6d30ba')\n",
    "ds"
   ]
  },
  {
   "cell_type": "code",
   "execution_count": null,
   "metadata": {},
   "outputs": [],
   "source": [
    "areas = gpd.read_file('../data/mbtiles/wdpa_protected_areas/wdpa_protected_areas.shp')\n",
    "areas.drop(columns='cartodb_id', inplace=True)\n",
    "areas.head()"
   ]
  },
  {
   "cell_type": "code",
   "execution_count": null,
   "metadata": {},
   "outputs": [],
   "source": [
    "areas_filter = areas[(areas['marine'] == '0') & (areas['iucn_cat'] != 'Not Assigned') & (areas['iucn_cat'] != 'Not Applicable') & (areas['iucn_cat'] != 'Not Reported')]"
   ]
  },
  {
   "cell_type": "code",
   "execution_count": null,
   "metadata": {},
   "outputs": [],
   "source": [
    "areas['iucn_cat'].unique()"
   ]
  },
  {
   "cell_type": "code",
   "execution_count": null,
   "metadata": {},
   "outputs": [],
   "source": []
  },
  {
   "cell_type": "code",
   "execution_count": null,
   "metadata": {},
   "outputs": [],
   "source": [
    "account = \"wri-01\"\n",
    "api_key = getpass.getpass('Carto account api key:')"
   ]
  },
  {
   "cell_type": "code",
   "execution_count": null,
   "metadata": {},
   "outputs": [],
   "source": [
    "query = 'SELECT distinct(iucn_cat) FROM wdpa_protected_areas'\n",
    "df = df_from_carto(account, query)\n",
    "iucn_cats = list(df['iucn_cat'])"
   ]
  },
  {
   "cell_type": "code",
   "execution_count": null,
   "metadata": {},
   "outputs": [],
   "source": [
    "query = 'SELECT * FROM wdpa_protected_areas LIMIT 1'\n",
    "df = df_from_carto(account, query)\n",
    "coulmns = list(df.columns)"
   ]
  },
  {
   "cell_type": "code",
   "execution_count": null,
   "metadata": {},
   "outputs": [],
   "source": [
    "data = gpd.GeoDataFrame(columns=coulmns)\n",
    "\n",
    "for iucn_cat in iucn_cats:\n",
    "    query = \"SELECT * FROM wdpa_protected_areas WHERE iucn_cat = 'Ia' OR iucn_cat = 'Ib' OR iucn_cat = 'II' OR iucn_cat = 'III'\"\n",
    "\n",
    "    df = long_lasting_SQL_queries(account, query, api_key)\n",
    "    \n",
    "    data = pd.concat([data, df], ignore_index=True)"
   ]
  },
  {
   "cell_type": "code",
   "execution_count": null,
   "metadata": {},
   "outputs": [],
   "source": [
    "data.head()"
   ]
  },
  {
   "cell_type": "markdown",
   "metadata": {},
   "source": [
    "<a id='river_basins'></a>\n",
    "#### **River basins** ([source](http://www.fao.org/nr/water/aquamaps/))\n",
    "**Major hydrological basins**"
   ]
  },
  {
   "cell_type": "code",
   "execution_count": null,
   "metadata": {},
   "outputs": [],
   "source": [
    "major = gpd.read_file('../data/mbtiles/Major_hydrological_basins/major_hydrobasins.shp')\n",
    "major.columns = map(str.lower, major.columns)\n",
    "major.head()"
   ]
  },
  {
   "cell_type": "markdown",
   "metadata": {},
   "source": [
    "**Merge geometries**"
   ]
  },
  {
   "cell_type": "code",
   "execution_count": null,
   "metadata": {},
   "outputs": [],
   "source": [
    "major = merge_geometries(major, 'maj_bas')"
   ]
  },
  {
   "cell_type": "markdown",
   "metadata": {},
   "source": [
    "Save `GeoDataFrame` as `GeoJSON`"
   ]
  },
  {
   "cell_type": "code",
   "execution_count": null,
   "metadata": {},
   "outputs": [],
   "source": [
    "major.to_file(\"../data/mbtiles/major_hydrological_basins.json\", driver=\"GeoJSON\")"
   ]
  },
  {
   "cell_type": "markdown",
   "metadata": {},
   "source": [
    "**Minor hydrological basins**"
   ]
  },
  {
   "cell_type": "code",
   "execution_count": null,
   "metadata": {},
   "outputs": [],
   "source": [
    "account = \"wri-rw\"\n",
    "api_key = getpass.getpass('Carto account api key:')"
   ]
  },
  {
   "cell_type": "code",
   "execution_count": null,
   "metadata": {},
   "outputs": [],
   "source": [
    "query = \"SELECT maj_bas, maj_name, maj_area, sub_bas, sub_name, sub_area, the_geom FROM hydrobasins_fao_fiona_merged_v01\"\n",
    "\n",
    "minor = long_lasting_SQL_queries(account, query, api_key)"
   ]
  },
  {
   "cell_type": "code",
   "execution_count": null,
   "metadata": {},
   "outputs": [],
   "source": [
    "minor.head()"
   ]
  },
  {
   "cell_type": "markdown",
   "metadata": {},
   "source": [
    "**Merge geometries**"
   ]
  },
  {
   "cell_type": "code",
   "execution_count": null,
   "metadata": {},
   "outputs": [],
   "source": [
    "minor = merge_geometries(minor, 'sub_bas')"
   ]
  },
  {
   "cell_type": "markdown",
   "metadata": {},
   "source": [
    "Save `GeoDataFrame` as `GeoJSON`"
   ]
  },
  {
   "cell_type": "code",
   "execution_count": null,
   "metadata": {},
   "outputs": [],
   "source": [
    "minor.to_file(\"../data/mbtiles/minor_hydrological_basins.json\", driver=\"GeoJSON\")"
   ]
  },
  {
   "cell_type": "markdown",
   "metadata": {},
   "source": [
    "Append `GeoDataFrames`"
   ]
  },
  {
   "cell_type": "code",
   "execution_count": null,
   "metadata": {},
   "outputs": [],
   "source": [
    "major['level'] = 0\n",
    "minor['level'] = 1"
   ]
  },
  {
   "cell_type": "code",
   "execution_count": null,
   "metadata": {},
   "outputs": [],
   "source": [
    "data = major.append(minor, sort=False)\n",
    "data = data[['maj_bas', 'maj_name', 'maj_area', 'sub_bas', 'sub_name', 'sub_area',\n",
    "       'level', 'geometry']]\n",
    "data"
   ]
  },
  {
   "cell_type": "markdown",
   "metadata": {},
   "source": [
    "**Add id**"
   ]
  },
  {
   "cell_type": "code",
   "execution_count": null,
   "metadata": {},
   "outputs": [],
   "source": [
    "data['id'] = np.arange(len(data))"
   ]
  },
  {
   "cell_type": "markdown",
   "metadata": {},
   "source": [
    "Save `GeoDataFrame` as `GeoJSON`"
   ]
  },
  {
   "cell_type": "code",
   "execution_count": null,
   "metadata": {},
   "outputs": [],
   "source": [
    "data.to_file(\"../data/mbtiles/hydrological_basins.json\", driver=\"GeoJSON\")"
   ]
  },
  {
   "cell_type": "markdown",
   "metadata": {},
   "source": [
    "Save `GeoDataFrame` as `Shapefile`"
   ]
  },
  {
   "cell_type": "code",
   "execution_count": null,
   "metadata": {},
   "outputs": [],
   "source": [
    "data.to_file(\"../data/mbtiles/hydrological_basins/hydrological_basins.shp\")"
   ]
  },
  {
   "cell_type": "markdown",
   "metadata": {},
   "source": [
    "<a id='political_boundaries'></a>\n",
    "#### **Political boundaries ([source](https://gadm.org/data.html))**"
   ]
  },
  {
   "cell_type": "markdown",
   "metadata": {},
   "source": [
    "**gadm36 political boundaries**"
   ]
  },
  {
   "cell_type": "code",
   "execution_count": null,
   "metadata": {},
   "outputs": [],
   "source": [
    "account = \"wri-01\"\n",
    "api_key = getpass.getpass('Carto account api key:')"
   ]
  },
  {
   "cell_type": "code",
   "execution_count": null,
   "metadata": {},
   "outputs": [],
   "source": [
    "account = \"wri-01\"\n",
    "\n",
    "query = \"SELECT name_0, name_1, name_2, area, size, level, gid_0, gid_1, gid_2, the_geom FROM gadm36_political_boundaries\"\n",
    "\n",
    "data = long_lasting_SQL_queries(account, query, api_key)\n",
    "data.head()"
   ]
  },
  {
   "cell_type": "code",
   "execution_count": null,
   "metadata": {},
   "outputs": [],
   "source": [
    "data.plot()"
   ]
  },
  {
   "cell_type": "code",
   "execution_count": null,
   "metadata": {},
   "outputs": [],
   "source": [
    "gadm36 = gpd.read_file('../data/mbtiles/gadm36_political_boundaries/gadm36_political_boundaries.shp')\n",
    "gadm36.drop(columns='cartodb_id', inplace=True)\n",
    "gadm36.head()"
   ]
  },
  {
   "cell_type": "code",
   "execution_count": null,
   "metadata": {},
   "outputs": [],
   "source": [
    "gadm36 = gadm36[gadm36['level'].isin([0,1])]"
   ]
  },
  {
   "cell_type": "markdown",
   "metadata": {},
   "source": [
    "**Add id**"
   ]
  },
  {
   "cell_type": "code",
   "execution_count": null,
   "metadata": {},
   "outputs": [],
   "source": [
    "gadm36['id'] = np.arange(len(gadm36))"
   ]
  },
  {
   "cell_type": "markdown",
   "metadata": {},
   "source": [
    "Save `GeoDataFrame` as `GeoJSON`"
   ]
  },
  {
   "cell_type": "code",
   "execution_count": null,
   "metadata": {},
   "outputs": [],
   "source": [
    "gadm36.to_file(\"../data/mbtiles/gadm36_political_boundaries.json\", driver=\"GeoJSON\")"
   ]
  },
  {
   "cell_type": "markdown",
   "metadata": {},
   "source": [
    "**Disputed boundaries 2018**"
   ]
  },
  {
   "cell_type": "code",
   "execution_count": null,
   "metadata": {},
   "outputs": [],
   "source": [
    "account = \"wri-01\"\n",
    "\n",
    "query = \"SELECT gid_0, name_0, name, note, the_geom FROM disputed_boundaries_2018 WHERE gid_0 in ('PAK', 'IND', 'CHN') AND name in ('Indian claim', 'Pakistani claim', 'Chinese claim')\"\n",
    "\n",
    "data = df_from_carto(account, query)\n",
    "data"
   ]
  },
  {
   "cell_type": "markdown",
   "metadata": {},
   "source": [
    "#### Major Physical Features ([source](file:///Users/ikersanchez/Vizzuality/GitHub/sci_team_data_bank/Projects/soils-revealed/data/mbtiles/ne_10m_geography_regions_elevation_points/ne_10m_geography_regions_elevation_points.README.html))\n",
    "**Physical areas**"
   ]
  },
  {
   "cell_type": "code",
   "execution_count": 29,
   "metadata": {},
   "outputs": [
    {
     "data": {
      "text/html": [
       "<div>\n",
       "<style scoped>\n",
       "    .dataframe tbody tr th:only-of-type {\n",
       "        vertical-align: middle;\n",
       "    }\n",
       "\n",
       "    .dataframe tbody tr th {\n",
       "        vertical-align: top;\n",
       "    }\n",
       "\n",
       "    .dataframe thead th {\n",
       "        text-align: right;\n",
       "    }\n",
       "</style>\n",
       "<table border=\"1\" class=\"dataframe\">\n",
       "  <thead>\n",
       "    <tr style=\"text-align: right;\">\n",
       "      <th></th>\n",
       "      <th>featurecla</th>\n",
       "      <th>name</th>\n",
       "      <th>namealt</th>\n",
       "      <th>region</th>\n",
       "      <th>subregion</th>\n",
       "      <th>min_label</th>\n",
       "      <th>max_label</th>\n",
       "      <th>scalerank</th>\n",
       "      <th>label</th>\n",
       "      <th>wikidataid</th>\n",
       "      <th>...</th>\n",
       "      <th>name_pl</th>\n",
       "      <th>name_pt</th>\n",
       "      <th>name_ru</th>\n",
       "      <th>name_sv</th>\n",
       "      <th>name_tr</th>\n",
       "      <th>name_vi</th>\n",
       "      <th>name_zh</th>\n",
       "      <th>wdid_score</th>\n",
       "      <th>ne_id</th>\n",
       "      <th>geometry</th>\n",
       "    </tr>\n",
       "  </thead>\n",
       "  <tbody>\n",
       "    <tr>\n",
       "      <th>0</th>\n",
       "      <td>Island</td>\n",
       "      <td>Pentecost</td>\n",
       "      <td>None</td>\n",
       "      <td>Oceania</td>\n",
       "      <td>Melanesia</td>\n",
       "      <td>6.7</td>\n",
       "      <td>12.0</td>\n",
       "      <td>7</td>\n",
       "      <td>Pentecost I.</td>\n",
       "      <td>Q960808</td>\n",
       "      <td>...</td>\n",
       "      <td>Pentecost</td>\n",
       "      <td>Pentecostes</td>\n",
       "      <td>Пентекост</td>\n",
       "      <td>Pentecost Island</td>\n",
       "      <td>None</td>\n",
       "      <td>None</td>\n",
       "      <td>彭特科斯特岛</td>\n",
       "      <td>4</td>\n",
       "      <td>1159102327</td>\n",
       "      <td>POLYGON ((168.22657 -15.98968, 168.20411 -15.9...</td>\n",
       "    </tr>\n",
       "    <tr>\n",
       "      <th>1</th>\n",
       "      <td>Island</td>\n",
       "      <td>Anatom</td>\n",
       "      <td>None</td>\n",
       "      <td>Oceania</td>\n",
       "      <td>Melanesia</td>\n",
       "      <td>6.7</td>\n",
       "      <td>12.0</td>\n",
       "      <td>7</td>\n",
       "      <td>Anatom</td>\n",
       "      <td>Q528884</td>\n",
       "      <td>...</td>\n",
       "      <td>Anatom</td>\n",
       "      <td>Aneytium</td>\n",
       "      <td>Анейтьюм</td>\n",
       "      <td>None</td>\n",
       "      <td>Anatom</td>\n",
       "      <td>None</td>\n",
       "      <td>阿納托姆島</td>\n",
       "      <td>4</td>\n",
       "      <td>1159102329</td>\n",
       "      <td>POLYGON ((169.83790 -20.24737, 169.82997 -20.2...</td>\n",
       "    </tr>\n",
       "    <tr>\n",
       "      <th>2</th>\n",
       "      <td>Island</td>\n",
       "      <td>Gaua</td>\n",
       "      <td>None</td>\n",
       "      <td>Oceania</td>\n",
       "      <td>Melanesia</td>\n",
       "      <td>6.7</td>\n",
       "      <td>12.0</td>\n",
       "      <td>7</td>\n",
       "      <td>Gaua</td>\n",
       "      <td>Q583383</td>\n",
       "      <td>...</td>\n",
       "      <td>Gaua</td>\n",
       "      <td>Gaua</td>\n",
       "      <td>Гауа</td>\n",
       "      <td>None</td>\n",
       "      <td>None</td>\n",
       "      <td>None</td>\n",
       "      <td>加瓦島</td>\n",
       "      <td>4</td>\n",
       "      <td>1159102331</td>\n",
       "      <td>POLYGON ((167.52491 -14.14214, 167.58619 -14.1...</td>\n",
       "    </tr>\n",
       "    <tr>\n",
       "      <th>3</th>\n",
       "      <td>Island</td>\n",
       "      <td>Utupua</td>\n",
       "      <td>None</td>\n",
       "      <td>Oceania</td>\n",
       "      <td>Melanesia</td>\n",
       "      <td>6.7</td>\n",
       "      <td>12.0</td>\n",
       "      <td>7</td>\n",
       "      <td>Utupua I.</td>\n",
       "      <td>Q2081472</td>\n",
       "      <td>...</td>\n",
       "      <td>None</td>\n",
       "      <td>None</td>\n",
       "      <td>Утупуа</td>\n",
       "      <td>Utupua</td>\n",
       "      <td>None</td>\n",
       "      <td>None</td>\n",
       "      <td>None</td>\n",
       "      <td>4</td>\n",
       "      <td>1159102333</td>\n",
       "      <td>POLYGON ((166.52223 -11.27068, 166.52711 -11.2...</td>\n",
       "    </tr>\n",
       "    <tr>\n",
       "      <th>4</th>\n",
       "      <td>Island</td>\n",
       "      <td>Vanikolo</td>\n",
       "      <td>None</td>\n",
       "      <td>Oceania</td>\n",
       "      <td>Melanesia</td>\n",
       "      <td>6.7</td>\n",
       "      <td>12.0</td>\n",
       "      <td>7</td>\n",
       "      <td>Vanikolo</td>\n",
       "      <td>Q1536424</td>\n",
       "      <td>...</td>\n",
       "      <td>Vanikoro</td>\n",
       "      <td>None</td>\n",
       "      <td>Ваникоро</td>\n",
       "      <td>Vanikoro</td>\n",
       "      <td>None</td>\n",
       "      <td>None</td>\n",
       "      <td>None</td>\n",
       "      <td>4</td>\n",
       "      <td>1159102335</td>\n",
       "      <td>POLYGON ((166.93263 -11.66021, 166.91822 -11.6...</td>\n",
       "    </tr>\n",
       "  </tbody>\n",
       "</table>\n",
       "<p>5 rows × 34 columns</p>\n",
       "</div>"
      ],
      "text/plain": [
       "  featurecla       name namealt   region  subregion  min_label  max_label  \\\n",
       "0     Island  Pentecost    None  Oceania  Melanesia        6.7       12.0   \n",
       "1     Island     Anatom    None  Oceania  Melanesia        6.7       12.0   \n",
       "2     Island       Gaua    None  Oceania  Melanesia        6.7       12.0   \n",
       "3     Island     Utupua    None  Oceania  Melanesia        6.7       12.0   \n",
       "4     Island   Vanikolo    None  Oceania  Melanesia        6.7       12.0   \n",
       "\n",
       "   scalerank         label wikidataid  ...    name_pl      name_pt    name_ru  \\\n",
       "0          7  Pentecost I.    Q960808  ...  Pentecost  Pentecostes  Пентекост   \n",
       "1          7        Anatom    Q528884  ...     Anatom     Aneytium   Анейтьюм   \n",
       "2          7          Gaua    Q583383  ...       Gaua         Gaua       Гауа   \n",
       "3          7     Utupua I.   Q2081472  ...       None         None     Утупуа   \n",
       "4          7      Vanikolo   Q1536424  ...   Vanikoro         None   Ваникоро   \n",
       "\n",
       "            name_sv name_tr name_vi name_zh wdid_score       ne_id  \\\n",
       "0  Pentecost Island    None    None  彭特科斯特岛          4  1159102327   \n",
       "1              None  Anatom    None   阿納托姆島          4  1159102329   \n",
       "2              None    None    None     加瓦島          4  1159102331   \n",
       "3            Utupua    None    None    None          4  1159102333   \n",
       "4          Vanikoro    None    None    None          4  1159102335   \n",
       "\n",
       "                                            geometry  \n",
       "0  POLYGON ((168.22657 -15.98968, 168.20411 -15.9...  \n",
       "1  POLYGON ((169.83790 -20.24737, 169.82997 -20.2...  \n",
       "2  POLYGON ((167.52491 -14.14214, 167.58619 -14.1...  \n",
       "3  POLYGON ((166.52223 -11.27068, 166.52711 -11.2...  \n",
       "4  POLYGON ((166.93263 -11.66021, 166.91822 -11.6...  \n",
       "\n",
       "[5 rows x 34 columns]"
      ]
     },
     "execution_count": 29,
     "metadata": {},
     "output_type": "execute_result"
    }
   ],
   "source": [
    "polys = gpd.read_file('../data/mbtiles/ne_10m_geography_regions_polys/ne_10m_geography_regions_polys.shp')\n",
    "polys = polys[~polys.featurecla.isin(['Island group', 'Dragons-be-here', 'Lake'])]\n",
    "polys.head()"
   ]
  },
  {
   "cell_type": "markdown",
   "metadata": {},
   "source": [
    "**Merge geometries**"
   ]
  },
  {
   "cell_type": "code",
   "execution_count": 31,
   "metadata": {},
   "outputs": [
    {
     "name": "stderr",
     "output_type": "stream",
     "text": [
      "100%|██████████| 20/20 [00:17<00:00,  1.16it/s]\n"
     ]
    }
   ],
   "source": [
    "polys_0 = merge_geometries(polys, 'featurecla')"
   ]
  },
  {
   "cell_type": "code",
   "execution_count": 41,
   "metadata": {},
   "outputs": [],
   "source": [
    "a = np.empty(len(polys_0))\n",
    "a[:] = np.nan\n",
    "for column in list(polys_0.columns)[1:-1]:\n",
    "    polys_0[column] = a"
   ]
  },
  {
   "cell_type": "markdown",
   "metadata": {},
   "source": [
    "Append `GeoDataFrames`"
   ]
  },
  {
   "cell_type": "code",
   "execution_count": 46,
   "metadata": {},
   "outputs": [
    {
     "data": {
      "text/html": [
       "<div>\n",
       "<style scoped>\n",
       "    .dataframe tbody tr th:only-of-type {\n",
       "        vertical-align: middle;\n",
       "    }\n",
       "\n",
       "    .dataframe tbody tr th {\n",
       "        vertical-align: top;\n",
       "    }\n",
       "\n",
       "    .dataframe thead th {\n",
       "        text-align: right;\n",
       "    }\n",
       "</style>\n",
       "<table border=\"1\" class=\"dataframe\">\n",
       "  <thead>\n",
       "    <tr style=\"text-align: right;\">\n",
       "      <th></th>\n",
       "      <th>featurecla</th>\n",
       "      <th>name</th>\n",
       "      <th>namealt</th>\n",
       "      <th>region</th>\n",
       "      <th>subregion</th>\n",
       "      <th>min_label</th>\n",
       "      <th>max_label</th>\n",
       "      <th>scalerank</th>\n",
       "      <th>label</th>\n",
       "      <th>wikidataid</th>\n",
       "      <th>...</th>\n",
       "      <th>name_pt</th>\n",
       "      <th>name_ru</th>\n",
       "      <th>name_sv</th>\n",
       "      <th>name_tr</th>\n",
       "      <th>name_vi</th>\n",
       "      <th>name_zh</th>\n",
       "      <th>wdid_score</th>\n",
       "      <th>ne_id</th>\n",
       "      <th>geometry</th>\n",
       "      <th>level</th>\n",
       "    </tr>\n",
       "  </thead>\n",
       "  <tbody>\n",
       "    <tr>\n",
       "      <th>0</th>\n",
       "      <td>Island</td>\n",
       "      <td>NaN</td>\n",
       "      <td>NaN</td>\n",
       "      <td>NaN</td>\n",
       "      <td>NaN</td>\n",
       "      <td>NaN</td>\n",
       "      <td>NaN</td>\n",
       "      <td>NaN</td>\n",
       "      <td>NaN</td>\n",
       "      <td>NaN</td>\n",
       "      <td>...</td>\n",
       "      <td>NaN</td>\n",
       "      <td>NaN</td>\n",
       "      <td>NaN</td>\n",
       "      <td>NaN</td>\n",
       "      <td>NaN</td>\n",
       "      <td>NaN</td>\n",
       "      <td>NaN</td>\n",
       "      <td>NaN</td>\n",
       "      <td>MULTIPOLYGON (((-159.042 -79.708, -159.542 -79...</td>\n",
       "      <td>0</td>\n",
       "    </tr>\n",
       "    <tr>\n",
       "      <th>1</th>\n",
       "      <td>Coast</td>\n",
       "      <td>NaN</td>\n",
       "      <td>NaN</td>\n",
       "      <td>NaN</td>\n",
       "      <td>NaN</td>\n",
       "      <td>NaN</td>\n",
       "      <td>NaN</td>\n",
       "      <td>NaN</td>\n",
       "      <td>NaN</td>\n",
       "      <td>NaN</td>\n",
       "      <td>...</td>\n",
       "      <td>NaN</td>\n",
       "      <td>NaN</td>\n",
       "      <td>NaN</td>\n",
       "      <td>NaN</td>\n",
       "      <td>NaN</td>\n",
       "      <td>NaN</td>\n",
       "      <td>NaN</td>\n",
       "      <td>NaN</td>\n",
       "      <td>MULTIPOLYGON (((-158.042 -84.792, -163.176 -84...</td>\n",
       "      <td>0</td>\n",
       "    </tr>\n",
       "    <tr>\n",
       "      <th>2</th>\n",
       "      <td>Range/mtn</td>\n",
       "      <td>NaN</td>\n",
       "      <td>NaN</td>\n",
       "      <td>NaN</td>\n",
       "      <td>NaN</td>\n",
       "      <td>NaN</td>\n",
       "      <td>NaN</td>\n",
       "      <td>NaN</td>\n",
       "      <td>NaN</td>\n",
       "      <td>NaN</td>\n",
       "      <td>...</td>\n",
       "      <td>NaN</td>\n",
       "      <td>NaN</td>\n",
       "      <td>NaN</td>\n",
       "      <td>NaN</td>\n",
       "      <td>NaN</td>\n",
       "      <td>NaN</td>\n",
       "      <td>NaN</td>\n",
       "      <td>NaN</td>\n",
       "      <td>MULTIPOLYGON (((-154.926 -85.316, -150.290 -85...</td>\n",
       "      <td>0</td>\n",
       "    </tr>\n",
       "    <tr>\n",
       "      <th>3</th>\n",
       "      <td>Pen/cape</td>\n",
       "      <td>NaN</td>\n",
       "      <td>NaN</td>\n",
       "      <td>NaN</td>\n",
       "      <td>NaN</td>\n",
       "      <td>NaN</td>\n",
       "      <td>NaN</td>\n",
       "      <td>NaN</td>\n",
       "      <td>NaN</td>\n",
       "      <td>NaN</td>\n",
       "      <td>...</td>\n",
       "      <td>NaN</td>\n",
       "      <td>NaN</td>\n",
       "      <td>NaN</td>\n",
       "      <td>NaN</td>\n",
       "      <td>NaN</td>\n",
       "      <td>NaN</td>\n",
       "      <td>NaN</td>\n",
       "      <td>NaN</td>\n",
       "      <td>MULTIPOLYGON (((-75.336 -46.936, -75.574 -46.9...</td>\n",
       "      <td>0</td>\n",
       "    </tr>\n",
       "    <tr>\n",
       "      <th>4</th>\n",
       "      <td>Desert</td>\n",
       "      <td>NaN</td>\n",
       "      <td>NaN</td>\n",
       "      <td>NaN</td>\n",
       "      <td>NaN</td>\n",
       "      <td>NaN</td>\n",
       "      <td>NaN</td>\n",
       "      <td>NaN</td>\n",
       "      <td>NaN</td>\n",
       "      <td>NaN</td>\n",
       "      <td>...</td>\n",
       "      <td>NaN</td>\n",
       "      <td>NaN</td>\n",
       "      <td>NaN</td>\n",
       "      <td>NaN</td>\n",
       "      <td>NaN</td>\n",
       "      <td>NaN</td>\n",
       "      <td>NaN</td>\n",
       "      <td>NaN</td>\n",
       "      <td>MULTIPOLYGON (((140.931 -31.089, 140.805 -31.0...</td>\n",
       "      <td>0</td>\n",
       "    </tr>\n",
       "    <tr>\n",
       "      <th>...</th>\n",
       "      <td>...</td>\n",
       "      <td>...</td>\n",
       "      <td>...</td>\n",
       "      <td>...</td>\n",
       "      <td>...</td>\n",
       "      <td>...</td>\n",
       "      <td>...</td>\n",
       "      <td>...</td>\n",
       "      <td>...</td>\n",
       "      <td>...</td>\n",
       "      <td>...</td>\n",
       "      <td>...</td>\n",
       "      <td>...</td>\n",
       "      <td>...</td>\n",
       "      <td>...</td>\n",
       "      <td>...</td>\n",
       "      <td>...</td>\n",
       "      <td>...</td>\n",
       "      <td>...</td>\n",
       "      <td>...</td>\n",
       "      <td>...</td>\n",
       "    </tr>\n",
       "    <tr>\n",
       "      <th>1038</th>\n",
       "      <td>Pen/cape</td>\n",
       "      <td>Coromandel</td>\n",
       "      <td>None</td>\n",
       "      <td>Oceania</td>\n",
       "      <td>New Zealand</td>\n",
       "      <td>5.4</td>\n",
       "      <td>10.0</td>\n",
       "      <td>5.0</td>\n",
       "      <td>Coromandel</td>\n",
       "      <td>Q763064</td>\n",
       "      <td>...</td>\n",
       "      <td>Península de Coromandel</td>\n",
       "      <td>Коромандел</td>\n",
       "      <td>Coromandelhalvön</td>\n",
       "      <td>None</td>\n",
       "      <td>None</td>\n",
       "      <td>科罗曼德尔半岛</td>\n",
       "      <td>4.0</td>\n",
       "      <td>1.159105e+09</td>\n",
       "      <td>POLYGON ((175.336 -36.411, 175.465 -36.418, 17...</td>\n",
       "      <td>1</td>\n",
       "    </tr>\n",
       "    <tr>\n",
       "      <th>1039</th>\n",
       "      <td>Plateau</td>\n",
       "      <td>N.I. Volcanic Plateau</td>\n",
       "      <td>None</td>\n",
       "      <td>Oceania</td>\n",
       "      <td>New Zealand</td>\n",
       "      <td>5.4</td>\n",
       "      <td>10.0</td>\n",
       "      <td>5.0</td>\n",
       "      <td>N.I. Volcanic Plat.</td>\n",
       "      <td>Q190309</td>\n",
       "      <td>...</td>\n",
       "      <td>None</td>\n",
       "      <td>None</td>\n",
       "      <td>None</td>\n",
       "      <td>None</td>\n",
       "      <td>None</td>\n",
       "      <td>None</td>\n",
       "      <td>4.0</td>\n",
       "      <td>1.159105e+09</td>\n",
       "      <td>POLYGON ((175.721 -38.867, 175.980 -38.956, 17...</td>\n",
       "      <td>1</td>\n",
       "    </tr>\n",
       "    <tr>\n",
       "      <th>1040</th>\n",
       "      <td>Coast</td>\n",
       "      <td>Marlborough Sounds</td>\n",
       "      <td>None</td>\n",
       "      <td>Oceania</td>\n",
       "      <td>New Zealand</td>\n",
       "      <td>6.0</td>\n",
       "      <td>10.0</td>\n",
       "      <td>5.0</td>\n",
       "      <td>Marlborough Sds.</td>\n",
       "      <td>Q25455</td>\n",
       "      <td>...</td>\n",
       "      <td>None</td>\n",
       "      <td>None</td>\n",
       "      <td>None</td>\n",
       "      <td>None</td>\n",
       "      <td>None</td>\n",
       "      <td>None</td>\n",
       "      <td>5.0</td>\n",
       "      <td>1.159105e+09</td>\n",
       "      <td>POLYGON ((173.725 -40.798, 173.856 -40.708, 17...</td>\n",
       "      <td>1</td>\n",
       "    </tr>\n",
       "    <tr>\n",
       "      <th>1041</th>\n",
       "      <td>Pen/cape</td>\n",
       "      <td>Otago Pen.</td>\n",
       "      <td>None</td>\n",
       "      <td>Oceania</td>\n",
       "      <td>New Zealand</td>\n",
       "      <td>6.0</td>\n",
       "      <td>10.0</td>\n",
       "      <td>5.0</td>\n",
       "      <td>Otago Pen.</td>\n",
       "      <td>Q43849</td>\n",
       "      <td>...</td>\n",
       "      <td>Península de Otago</td>\n",
       "      <td>Отаго</td>\n",
       "      <td>Otagohalvön</td>\n",
       "      <td>None</td>\n",
       "      <td>None</td>\n",
       "      <td>None</td>\n",
       "      <td>4.0</td>\n",
       "      <td>1.159105e+09</td>\n",
       "      <td>POLYGON ((170.654 -45.716, 170.740 -45.721, 17...</td>\n",
       "      <td>1</td>\n",
       "    </tr>\n",
       "    <tr>\n",
       "      <th>1042</th>\n",
       "      <td>Geoarea</td>\n",
       "      <td>JUTLAND</td>\n",
       "      <td>None</td>\n",
       "      <td>Europe</td>\n",
       "      <td>None</td>\n",
       "      <td>5.3</td>\n",
       "      <td>9.0</td>\n",
       "      <td>4.0</td>\n",
       "      <td>JUTLAND</td>\n",
       "      <td>Q25389</td>\n",
       "      <td>...</td>\n",
       "      <td>Jutlândia</td>\n",
       "      <td>Ютландия</td>\n",
       "      <td>Jylland</td>\n",
       "      <td>Yutland</td>\n",
       "      <td>Jutland</td>\n",
       "      <td>日德兰半岛</td>\n",
       "      <td>3.0</td>\n",
       "      <td>1.159105e+09</td>\n",
       "      <td>MULTIPOLYGON (((10.460 57.632, 10.430 57.572, ...</td>\n",
       "      <td>1</td>\n",
       "    </tr>\n",
       "  </tbody>\n",
       "</table>\n",
       "<p>903 rows × 35 columns</p>\n",
       "</div>"
      ],
      "text/plain": [
       "     featurecla                   name namealt   region    subregion  \\\n",
       "0        Island                    NaN     NaN      NaN          NaN   \n",
       "1         Coast                    NaN     NaN      NaN          NaN   \n",
       "2     Range/mtn                    NaN     NaN      NaN          NaN   \n",
       "3      Pen/cape                    NaN     NaN      NaN          NaN   \n",
       "4        Desert                    NaN     NaN      NaN          NaN   \n",
       "...         ...                    ...     ...      ...          ...   \n",
       "1038   Pen/cape             Coromandel    None  Oceania  New Zealand   \n",
       "1039    Plateau  N.I. Volcanic Plateau    None  Oceania  New Zealand   \n",
       "1040      Coast     Marlborough Sounds    None  Oceania  New Zealand   \n",
       "1041   Pen/cape             Otago Pen.    None  Oceania  New Zealand   \n",
       "1042    Geoarea                JUTLAND    None   Europe         None   \n",
       "\n",
       "      min_label  max_label  scalerank                label wikidataid  ...  \\\n",
       "0           NaN        NaN        NaN                  NaN        NaN  ...   \n",
       "1           NaN        NaN        NaN                  NaN        NaN  ...   \n",
       "2           NaN        NaN        NaN                  NaN        NaN  ...   \n",
       "3           NaN        NaN        NaN                  NaN        NaN  ...   \n",
       "4           NaN        NaN        NaN                  NaN        NaN  ...   \n",
       "...         ...        ...        ...                  ...        ...  ...   \n",
       "1038        5.4       10.0        5.0           Coromandel    Q763064  ...   \n",
       "1039        5.4       10.0        5.0  N.I. Volcanic Plat.    Q190309  ...   \n",
       "1040        6.0       10.0        5.0     Marlborough Sds.     Q25455  ...   \n",
       "1041        6.0       10.0        5.0           Otago Pen.     Q43849  ...   \n",
       "1042        5.3        9.0        4.0              JUTLAND     Q25389  ...   \n",
       "\n",
       "                      name_pt     name_ru           name_sv  name_tr  name_vi  \\\n",
       "0                         NaN         NaN               NaN      NaN      NaN   \n",
       "1                         NaN         NaN               NaN      NaN      NaN   \n",
       "2                         NaN         NaN               NaN      NaN      NaN   \n",
       "3                         NaN         NaN               NaN      NaN      NaN   \n",
       "4                         NaN         NaN               NaN      NaN      NaN   \n",
       "...                       ...         ...               ...      ...      ...   \n",
       "1038  Península de Coromandel  Коромандел  Coromandelhalvön     None     None   \n",
       "1039                     None        None              None     None     None   \n",
       "1040                     None        None              None     None     None   \n",
       "1041       Península de Otago       Отаго       Otagohalvön     None     None   \n",
       "1042                Jutlândia    Ютландия           Jylland  Yutland  Jutland   \n",
       "\n",
       "      name_zh wdid_score         ne_id  \\\n",
       "0         NaN        NaN           NaN   \n",
       "1         NaN        NaN           NaN   \n",
       "2         NaN        NaN           NaN   \n",
       "3         NaN        NaN           NaN   \n",
       "4         NaN        NaN           NaN   \n",
       "...       ...        ...           ...   \n",
       "1038  科罗曼德尔半岛        4.0  1.159105e+09   \n",
       "1039     None        4.0  1.159105e+09   \n",
       "1040     None        5.0  1.159105e+09   \n",
       "1041     None        4.0  1.159105e+09   \n",
       "1042    日德兰半岛        3.0  1.159105e+09   \n",
       "\n",
       "                                               geometry level  \n",
       "0     MULTIPOLYGON (((-159.042 -79.708, -159.542 -79...     0  \n",
       "1     MULTIPOLYGON (((-158.042 -84.792, -163.176 -84...     0  \n",
       "2     MULTIPOLYGON (((-154.926 -85.316, -150.290 -85...     0  \n",
       "3     MULTIPOLYGON (((-75.336 -46.936, -75.574 -46.9...     0  \n",
       "4     MULTIPOLYGON (((140.931 -31.089, 140.805 -31.0...     0  \n",
       "...                                                 ...   ...  \n",
       "1038  POLYGON ((175.336 -36.411, 175.465 -36.418, 17...     1  \n",
       "1039  POLYGON ((175.721 -38.867, 175.980 -38.956, 17...     1  \n",
       "1040  POLYGON ((173.725 -40.798, 173.856 -40.708, 17...     1  \n",
       "1041  POLYGON ((170.654 -45.716, 170.740 -45.721, 17...     1  \n",
       "1042  MULTIPOLYGON (((10.460 57.632, 10.430 57.572, ...     1  \n",
       "\n",
       "[903 rows x 35 columns]"
      ]
     },
     "execution_count": 46,
     "metadata": {},
     "output_type": "execute_result"
    }
   ],
   "source": [
    "polys_0['level'] = 0\n",
    "polys['level'] = 1\n",
    "\n",
    "data = polys_0.append(polys, sort=False)\n",
    "\n",
    "data"
   ]
  },
  {
   "cell_type": "markdown",
   "metadata": {},
   "source": [
    "**Add id**"
   ]
  },
  {
   "cell_type": "code",
   "execution_count": 48,
   "metadata": {},
   "outputs": [],
   "source": [
    "data['id'] = np.arange(len(data))"
   ]
  },
  {
   "cell_type": "markdown",
   "metadata": {},
   "source": [
    "Save `GeoDataFrame` as `GeoJSON`"
   ]
  },
  {
   "cell_type": "code",
   "execution_count": 50,
   "metadata": {},
   "outputs": [],
   "source": [
    "data.to_file(\"../data/mbtiles/ne_10m_geography_regions.json\", driver=\"GeoJSON\")"
   ]
  },
  {
   "cell_type": "markdown",
   "metadata": {},
   "source": [
    "Save `GeoDataFrame` as `Shapefile`"
   ]
  },
  {
   "cell_type": "code",
   "execution_count": 51,
   "metadata": {},
   "outputs": [],
   "source": [
    "data.to_file(\"../data/mbtiles/ne_10m_geography_regions/ne_10m_geography_regions.shp\")"
   ]
  },
  {
   "cell_type": "markdown",
   "metadata": {},
   "source": [
    "<a id='create_mbtiles_2'></a>\n",
    "### Create `MBTiles`"
   ]
  },
  {
   "cell_type": "code",
   "execution_count": null,
   "metadata": {},
   "outputs": [],
   "source": [
    "layers = {'Hydrological basins': 'hydrological_basins.json',\n",
    "         'Ecoregions': 'ecoregions_by_biome.json',\n",
    "         'Political boundaries': 'gadm36_political_boundaries.json',\n",
    "         'Physical geography regions': 'ne_10m_geography_regions.json'}\n",
    "\n",
    "layers = {'Political boundaries': 'gadm36_political_boundaries.json',\n",
    "         'Hydrological basins': 'hydrological_basins.json'}\n",
    "\n",
    "for layer_name, file in layers.items():\n",
    "    print(layer_name)\n",
    "    source_path = \"../data/mbtiles/\"+file\n",
    "    dest_path = \"../data/mbtiles/\"+file.split('.')[0]+\".mbtiles\"\n",
    "    create_mbtiles(source_path, dest_path, layer_name, opts=\"-zg --drop-densest-as-needed --extend-zooms-if-still-dropping --force --read-parallel\")"
   ]
  },
  {
   "cell_type": "markdown",
   "metadata": {},
   "source": [
    "<a id='show_mbtiles'></a>\n",
    "### Show `MBTiles` in our localhost"
   ]
  },
  {
   "cell_type": "code",
   "execution_count": null,
   "metadata": {},
   "outputs": [],
   "source": [
    "!mbview --port 9000 ../data/mbtiles/hydrological_basins.mbtiles"
   ]
  },
  {
   "cell_type": "markdown",
   "metadata": {},
   "source": [
    "<a id='serve_mbtiles'></a>\n",
    "### 7. Serve `MBTiles` in our localhost"
   ]
  },
  {
   "cell_type": "code",
   "execution_count": null,
   "metadata": {},
   "outputs": [],
   "source": [
    "!docker run --rm -p 8080:8000 -v /Users/ikersanchez/Vizzuality/GitHub/sci_team_data_bank/Projects/soils-revealed/data/mbtiles:/tilesets  consbio/mbtileserver"
   ]
  },
  {
   "cell_type": "markdown",
   "metadata": {},
   "source": [
    "Paste in your browser the following:\n",
    "\n",
    "`http://localhost:8080/services/hydrological_basins`\n",
    "\n",
    "And to see the tiles on a map:\n",
    "\n",
    "`http://localhost:8080/services/hydrological_basins/map`"
   ]
  },
  {
   "cell_type": "code",
   "execution_count": null,
   "metadata": {},
   "outputs": [],
   "source": []
  }
 ],
 "metadata": {
  "kernelspec": {
   "display_name": "Python 3",
   "language": "python",
   "name": "python3"
  },
  "language_info": {
   "codemirror_mode": {
    "name": "ipython",
    "version": 3
   },
   "file_extension": ".py",
   "mimetype": "text/x-python",
   "name": "python",
   "nbconvert_exporter": "python",
   "pygments_lexer": "ipython3",
   "version": "3.8.0"
  }
 },
 "nbformat": 4,
 "nbformat_minor": 4
}
