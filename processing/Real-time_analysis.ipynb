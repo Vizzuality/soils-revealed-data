{
 "cells": [
  {
   "cell_type": "markdown",
   "metadata": {},
   "source": [
    "# Real-time analysis"
   ]
  },
  {
   "cell_type": "code",
   "execution_count": 1,
   "metadata": {},
   "outputs": [],
   "source": [
    "import numpy as np\n",
    "import pandas as pd\n",
    "import geopandas as gpd\n",
    "import xarray as xr\n",
    "import dask.array as da\n",
    "from dask.diagnostics import ProgressBar\n",
    "from rasterio import features\n",
    "import zarr\n",
    "import rioxarray\n",
    "import s3fs\n",
    "import matplotlib.pyplot as plt\n",
    "from affine import Affine\n",
    "from ast import literal_eval\n",
    "from shapely.geometry import Polygon"
   ]
  },
  {
   "cell_type": "code",
   "execution_count": 2,
   "metadata": {},
   "outputs": [],
   "source": [
    "import os\n",
    "from dotenv import load_dotenv\n",
    "load_dotenv()\n",
    "from pathlib import Path \n",
    "env_path = Path('.') / '.env'"
   ]
  },
  {
   "cell_type": "markdown",
   "metadata": {},
   "source": [
    "## Utils\n",
    "**plot_hist**"
   ]
  },
  {
   "cell_type": "code",
   "execution_count": null,
   "metadata": {},
   "outputs": [],
   "source": [
    "def plot_hist(x_min, count):\n",
    "    width = x_min[1]-x_min[0]\n",
    "    width -= width/5.\n",
    "    x_min += width/(5.*2)\n",
    "    per = count/count.sum()*100\n",
    "    \n",
    "    plt.figure(figsize=(10,5))\n",
    "    \n",
    "    plt.bar(x_min, per, width=width)\n",
    "    \n",
    "    plt.plot([0,0], [0,per.max()], color = 'k', linestyle = '--')\n",
    "    \n",
    "    plt.title('Soil Organic Carbon Stock')\n",
    "    plt.xlabel('SOC stock t C/ha)')\n",
    "    plt.ylabel('(%) of total area')"
   ]
  },
  {
   "cell_type": "markdown",
   "metadata": {},
   "source": [
    "**transform_from_latlon**"
   ]
  },
  {
   "cell_type": "code",
   "execution_count": null,
   "metadata": {},
   "outputs": [],
   "source": [
    "def transform_from_latlon(lat, lon):\n",
    "    lat = np.asarray(lat)\n",
    "    lon = np.asarray(lon)\n",
    "    trans = Affine.translation(lon[0], lat[0])\n",
    "    scale = Affine.scale(lon[1] - lon[0], lat[1] - lat[0])\n",
    "    return trans * scale"
   ]
  },
  {
   "cell_type": "markdown",
   "metadata": {},
   "source": [
    "**rasterize**"
   ]
  },
  {
   "cell_type": "code",
   "execution_count": null,
   "metadata": {},
   "outputs": [],
   "source": [
    "def rasterize(shapes, coords, latitude='latitude', longitude='longitude',\n",
    "              fill=np.nan, **kwargs):\n",
    "    \"\"\"Rasterize a list of (geometry, fill_value) tuples onto the given\n",
    "    xray coordinates. This only works for 1d latitude and longitude\n",
    "    arrays.\n",
    "    \"\"\"\n",
    "    transform = transform_from_latlon(coords[latitude], coords[longitude])\n",
    "    out_shape = (len(coords[latitude]), len(coords[longitude]))\n",
    "    raster = features.rasterize(shapes, out_shape=out_shape,\n",
    "                                fill=fill, transform=transform,\n",
    "                                dtype=float, **kwargs)\n",
    "    spatial_coords = {latitude: coords[latitude], longitude: coords[longitude]}\n",
    "    return xr.DataArray(raster, coords=spatial_coords, dims=(latitude, longitude))"
   ]
  },
  {
   "cell_type": "markdown",
   "metadata": {},
   "source": [
    "**read_dataset**"
   ]
  },
  {
   "cell_type": "code",
   "execution_count": null,
   "metadata": {},
   "outputs": [],
   "source": [
    "def read_dataset(dataset_type, group, access_key_id, secret_accsess_key):\n",
    "    # AWS S3 path\n",
    "    s3_path = f's3://soils-revealed/{dataset_type}.zarr'\n",
    "    # Initilize the S3 file system\n",
    "    s3 = s3fs.S3FileSystem(key=access_key_id, secret=secret_accsess_key)\n",
    "    store = s3fs.S3Map(root=s3_path, s3=s3, check=False)\n",
    "    # Read Zarr file\n",
    "    ds = xr.open_zarr(store=store, group=group, consolidated=True)\n",
    "    \n",
    "    # Change coordinates names\n",
    "    ds = ds.rename({'x': 'lon', 'y': 'lat'})\n",
    "    \n",
    "    # Change depth coord from 0 to 1 dimensional array\n",
    "    depths = ds.coords.get('depth').values\n",
    "    if depths.ndim == 0: \n",
    "        ds = ds.squeeze().drop(\"depth\")\n",
    "        ds = ds.assign_coords({\"depth\": np.array([depths])})\n",
    "        \n",
    "    return ds "
   ]
  },
  {
   "cell_type": "markdown",
   "metadata": {},
   "source": [
    "## Read `xarray.Dataset` from `Zarr` in Amazon S3 bucket"
   ]
  },
  {
   "cell_type": "code",
   "execution_count": null,
   "metadata": {},
   "outputs": [],
   "source": [
    "ds = read_dataset(dataset_type = 'experimental-dataset', group = 'stocks', \n",
    "                  access_key_id = os.getenv(\"S3_ACCESS_KEY_ID\"), \n",
    "                  secret_accsess_key = os.getenv(\"S3_SECRET_ACCESS_KEY\"))\n",
    "\n",
    "ds"
   ]
  },
  {
   "cell_type": "markdown",
   "metadata": {},
   "source": [
    "## Zonal statistics"
   ]
  },
  {
   "cell_type": "markdown",
   "metadata": {},
   "source": [
    "**Polygon**"
   ]
  },
  {
   "cell_type": "code",
   "execution_count": null,
   "metadata": {},
   "outputs": [],
   "source": [
    "polygon = {\n",
    "  \"type\": \"FeatureCollection\",\n",
    "  \"features\": [\n",
    "    {\n",
    "      \"type\": \"Feature\",\n",
    "      \"properties\": {},\n",
    "      \"geometry\": {\n",
    "        \"type\": \"Polygon\",\n",
    "        \"coordinates\": [\n",
    "          [\n",
    "            [\n",
    "              -63.34716796874999,\n",
    "              -34.234512362369856\n",
    "            ],\n",
    "            [\n",
    "              -64.22607421875,\n",
    "              -35.17380831799957\n",
    "            ],\n",
    "            [\n",
    "              -63.896484375,\n",
    "              -35.78217070326606\n",
    "            ],\n",
    "            [\n",
    "              -63.34716796874999,\n",
    "              -35.88905007936092\n",
    "            ],\n",
    "            [\n",
    "              -62.86376953124999,\n",
    "              -35.46066995149529\n",
    "            ],\n",
    "            [\n",
    "              -62.51220703125,\n",
    "              -35.08395557927643\n",
    "            ],\n",
    "            [\n",
    "              -62.49023437499999,\n",
    "              -34.57895241036947\n",
    "            ],\n",
    "            [\n",
    "              -63.34716796874999,\n",
    "              -34.234512362369856\n",
    "            ]\n",
    "          ]\n",
    "        ]\n",
    "      }\n",
    "    }\n",
    "  ]\n",
    "}\n",
    "\n",
    "geometry = Polygon(polygon.get('features')[0].get('geometry').get('coordinates')[0])\n",
    "geometry"
   ]
  },
  {
   "cell_type": "markdown",
   "metadata": {},
   "source": [
    "**Create the data mask by rasterizing the vector data**"
   ]
  },
  {
   "cell_type": "code",
   "execution_count": null,
   "metadata": {},
   "outputs": [],
   "source": [
    "shapes = zip([geometry], range(1))\n",
    "da_mask = rasterize(shapes, ds.coords, longitude='lon', latitude='lat').rename('mask')\n",
    "ds['mask'] = da_mask"
   ]
  },
  {
   "cell_type": "markdown",
   "metadata": {},
   "source": [
    "## Change"
   ]
  },
  {
   "cell_type": "markdown",
   "metadata": {},
   "source": [
    "**Input variables**"
   ]
  },
  {
   "cell_type": "code",
   "execution_count": null,
   "metadata": {},
   "outputs": [],
   "source": [
    "years = ['1982', '2017']\n",
    "depth = '0-30'\n",
    "nBinds=80\n",
    "bindsRange=[-50, 50]"
   ]
  },
  {
   "cell_type": "markdown",
   "metadata": {},
   "source": [
    "**Computation**"
   ]
  },
  {
   "cell_type": "code",
   "execution_count": null,
   "metadata": {},
   "outputs": [],
   "source": [
    "start_date = np.datetime64(pd.DatetimeIndex([f'{years[0]}-12-31'])[0])\n",
    "end_date = np.datetime64(pd.DatetimeIndex([f'{years[1]}-12-31'])[0])\n",
    "\n",
    "xmin, ymax, xmax, ymin = geometry.bounds\n",
    "xds_index = ds.where(ds['mask'].isin(0.0)).sel(lon=slice(xmin, xmax), lat=slice(ymin, ymax))\n",
    "\n",
    "# Get difference between two dates\n",
    "diff = xds_index.loc[dict(time=end_date, depth=depth)] - xds_index.loc[dict(time=start_date, depth=depth)]\n",
    "\n",
    "# Get counts and binds of the histogram\n",
    "h, bins = da.histogram(diff['stocks'], bins=nBinds, range=bindsRange)\n",
    "\n",
    "with ProgressBar():\n",
    "    count = h.compute()\n",
    "    mean_diff = diff['stocks'].mean(skipna=True).values "
   ]
  },
  {
   "cell_type": "markdown",
   "metadata": {},
   "source": [
    "**Output values**"
   ]
  },
  {
   "cell_type": "code",
   "execution_count": null,
   "metadata": {},
   "outputs": [],
   "source": [
    "print(f'Soil Organic Carbon Stock Change: {mean_diff/(int(years[1])-int(years[0]))} t C/ha year')\n",
    "x_min = bins[:-1]\n",
    "plot_hist(x_min, count)"
   ]
  },
  {
   "cell_type": "markdown",
   "metadata": {},
   "source": [
    "## Time series"
   ]
  },
  {
   "cell_type": "markdown",
   "metadata": {},
   "source": [
    "**Computation**"
   ]
  },
  {
   "cell_type": "code",
   "execution_count": null,
   "metadata": {},
   "outputs": [],
   "source": [
    "years = list(pd.DatetimeIndex(ds.coords.get('time').values).year)\n",
    "\n",
    "xmin, ymax, xmax, ymin = geometry.bounds\n",
    "xds_index = ds.where(ds['mask'].isin(0.0)).sel(depth='0-30', lon=slice(xmin, xmax), lat=slice(ymin, ymax))\n",
    "\n",
    "with ProgressBar():\n",
    "    values = xds_index['stocks'].mean(['lon', 'lat']).values"
   ]
  },
  {
   "cell_type": "markdown",
   "metadata": {},
   "source": [
    "**Output values**"
   ]
  },
  {
   "cell_type": "code",
   "execution_count": null,
   "metadata": {},
   "outputs": [],
   "source": [
    "plt.plot(years, values)"
   ]
  },
  {
   "cell_type": "code",
   "execution_count": null,
   "metadata": {},
   "outputs": [],
   "source": []
  }
 ],
 "metadata": {
  "kernelspec": {
   "display_name": "Python 3",
   "language": "python",
   "name": "python3"
  },
  "language_info": {
   "codemirror_mode": {
    "name": "ipython",
    "version": 3
   },
   "file_extension": ".py",
   "mimetype": "text/x-python",
   "name": "python",
   "nbconvert_exporter": "python",
   "pygments_lexer": "ipython3",
   "version": "3.8.2"
  }
 },
 "nbformat": 4,
 "nbformat_minor": 4
}
