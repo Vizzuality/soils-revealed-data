{
 "cells": [
  {
   "cell_type": "markdown",
   "metadata": {},
   "source": [
    "# Save `xarray.Datasets` as `pkl` "
   ]
  },
  {
   "cell_type": "code",
   "execution_count": 20,
   "metadata": {},
   "outputs": [],
   "source": [
    "import xarray as xr\n",
    "import s3fs\n",
    "import _pickle as pickle"
   ]
  },
  {
   "cell_type": "code",
   "execution_count": 5,
   "metadata": {},
   "outputs": [],
   "source": [
    "import os\n",
    "from dotenv import load_dotenv\n",
    "load_dotenv()\n",
    "from pathlib import Path \n",
    "env_path = Path('.') / '.env'"
   ]
  },
  {
   "cell_type": "markdown",
   "metadata": {},
   "source": [
    "## Utils\n",
    "**read_dataset**"
   ]
  },
  {
   "cell_type": "code",
   "execution_count": 3,
   "metadata": {},
   "outputs": [],
   "source": [
    "def read_dataset(dataset_type, group, access_key_id, secret_accsess_key):\n",
    "    # AWS S3 path\n",
    "    s3_path = f's3://soils-revealed/{dataset_type}.zarr'\n",
    "    # Initilize the S3 file system\n",
    "    s3 = s3fs.S3FileSystem(key=access_key_id, secret=secret_accsess_key)\n",
    "    store = s3fs.S3Map(root=s3_path, s3=s3, check=False)\n",
    "    # Read Zarr file\n",
    "    ds = xr.open_zarr(store=store, group=group, consolidated=True)\n",
    "    \n",
    "    # Change coordinates names\n",
    "    ds = ds.rename({'x': 'lon', 'y': 'lat'})\n",
    "    \n",
    "    # Change depth coord from 0 to 1 dimensional array\n",
    "    depths = ds.coords.get('depth').values\n",
    "    if depths.ndim == 0: \n",
    "        ds = ds.squeeze().drop(\"depth\")\n",
    "        ds = ds.assign_coords({\"depth\": np.array([depths])})\n",
    "        \n",
    "    return ds "
   ]
  },
  {
   "cell_type": "markdown",
   "metadata": {},
   "source": [
    "**save_object**"
   ]
  },
  {
   "cell_type": "code",
   "execution_count": 9,
   "metadata": {},
   "outputs": [],
   "source": [
    "def save_object(obj, filename):\n",
    "    with open(filename, 'wb') as output:  # Overwrites any existing file.\n",
    "        pickle.dump(obj, output, -1)"
   ]
  },
  {
   "cell_type": "markdown",
   "metadata": {},
   "source": [
    "## Save `xarray.Datasets`"
   ]
  },
  {
   "cell_type": "code",
   "execution_count": 21,
   "metadata": {},
   "outputs": [],
   "source": [
    "datasets = {'experimental-dataset': ['stocks', 'concentration']}\n",
    "\n",
    "for dataset_type, groups in datasets.items():\n",
    "    for group in groups:\n",
    "        ds = read_dataset(dataset_type = dataset_type, group = group, \n",
    "                          access_key_id = os.getenv(\"S3_ACCESS_KEY_ID\"), \n",
    "                          secret_accsess_key = os.getenv(\"S3_SECRET_ACCESS_KEY\"))    \n",
    "        \n",
    "        save_object(ds, f'../data/{dataset_type}_{group}.pkl')"
   ]
  },
  {
   "cell_type": "code",
   "execution_count": null,
   "metadata": {},
   "outputs": [],
   "source": []
  }
 ],
 "metadata": {
  "kernelspec": {
   "display_name": "Python 3",
   "language": "python",
   "name": "python3"
  },
  "language_info": {
   "codemirror_mode": {
    "name": "ipython",
    "version": 3
   },
   "file_extension": ".py",
   "mimetype": "text/x-python",
   "name": "python",
   "nbconvert_exporter": "python",
   "pygments_lexer": "ipython3",
   "version": "3.8.0"
  }
 },
 "nbformat": 4,
 "nbformat_minor": 4
}
