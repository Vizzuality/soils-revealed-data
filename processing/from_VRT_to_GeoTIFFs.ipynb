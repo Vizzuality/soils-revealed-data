{
 "cells": [
  {
   "cell_type": "markdown",
   "metadata": {},
   "source": [
    "# Convert `VRT`  GDAL Virtual Format to `GeoTIFF`"
   ]
  },
  {
   "cell_type": "code",
   "execution_count": 1,
   "metadata": {},
   "outputs": [],
   "source": [
    "import numpy as np\n",
    "import json\n",
    "from google.cloud import storage\n",
    "from google.oauth2 import service_account\n",
    "from boto3.session import Session as boto3_session"
   ]
  },
  {
   "cell_type": "code",
   "execution_count": 2,
   "metadata": {},
   "outputs": [],
   "source": [
    "import os\n",
    "from dotenv import load_dotenv\n",
    "load_dotenv()\n",
    "from pathlib import Path \n",
    "env_path = Path('.') / '.env'"
   ]
  },
  {
   "cell_type": "markdown",
   "metadata": {},
   "source": [
    "## Utils"
   ]
  },
  {
   "cell_type": "code",
   "execution_count": 3,
   "metadata": {},
   "outputs": [],
   "source": [
    "def upload_blob_to_GCS(bucket_name, source_file_name, destination_blob_name):\n",
    "    \"\"\"Uploads a file to the bucket.\"\"\"\n",
    "    # bucket_name = \"your-bucket-name\"\n",
    "    # source_file_name = \"local/path/to/file\"\n",
    "    # destination_blob_name = \"storage-object-name\"\n",
    "    #private_key = json.loads(os.getenv(\"PRIVATE_KEY\"))\n",
    "    #credentials = service_account.Credentials(private_key, private_key['client_email'], private_key['token_uri'])\n",
    "    #storage_client = storage.Client(credentials=credentials, project=private_key['project_id'])\n",
    "    storage_client = storage.Client.from_service_account_json(os.getenv('PRIVATEKEY_PATH'))\n",
    "    \n",
    "    bucket = storage_client.bucket(bucket_name)\n",
    "    blob = bucket.blob(destination_blob_name)\n",
    "\n",
    "    blob.upload_from_filename(source_file_name)\n",
    "\n",
    "    print(\n",
    "        \"File {} uploaded to {}.\".format(\n",
    "            source_file_name, destination_blob_name\n",
    "        )\n",
    "    )"
   ]
  },
  {
   "cell_type": "markdown",
   "metadata": {},
   "source": [
    "**upload_blob_to_s3**"
   ]
  },
  {
   "cell_type": "code",
   "execution_count": 4,
   "metadata": {},
   "outputs": [],
   "source": [
    "def upload_blob_to_S3(bucket_name, source_file_name, destination_blob_name):\n",
    "    \"\"\"Uploads a file to the bucket.\"\"\"\n",
    "    # bucket_name = \"your-bucket-name\"\n",
    "    # source_file_name = \"local/path/to/file\"\n",
    "    # destination_blob_name = \"storage-object-name\"\n",
    "    session = boto3_session()\n",
    "    client = session.client(service_name=\"s3\", aws_access_key_id=os.getenv(\"S3_ACCESS_KEY_ID\"), aws_secret_access_key=os.getenv(\"S3_SECRET_ACCESS_KEY\"))\n",
    "    client.upload_file(source_file_name, bucket_name, destination_blob_name)"
   ]
  },
  {
   "cell_type": "code",
   "execution_count": 6,
   "metadata": {},
   "outputs": [
    {
     "name": "stdout",
     "output_type": "stream",
     "text": [
      "Creating GeoTIFF from VRT\n",
      "ERROR 11: CURL error: OpenSSL SSL_connect: Connection reset by peer in connection to files.isric.org:443 \n",
      "Uploading file to GCS bucket\n"
     ]
    },
    {
     "ename": "FileNotFoundError",
     "evalue": "[Errno 2] No such file or directory: '../data/ISRIC_product2/SOC_2001_4326.tif'",
     "output_type": "error",
     "traceback": [
      "\u001b[0;31m---------------------------------------------------------------------------\u001b[0m",
      "\u001b[0;31mFileNotFoundError\u001b[0m                         Traceback (most recent call last)",
      "\u001b[0;32m<timed exec>\u001b[0m in \u001b[0;36m<module>\u001b[0;34m\u001b[0m\n",
      "\u001b[0;32m<ipython-input-3-aabc0e1306b5>\u001b[0m in \u001b[0;36mupload_blob_to_GCS\u001b[0;34m(bucket_name, source_file_name, destination_blob_name)\u001b[0m\n\u001b[1;32m     12\u001b[0m     \u001b[0mblob\u001b[0m \u001b[0;34m=\u001b[0m \u001b[0mbucket\u001b[0m\u001b[0;34m.\u001b[0m\u001b[0mblob\u001b[0m\u001b[0;34m(\u001b[0m\u001b[0mdestination_blob_name\u001b[0m\u001b[0;34m)\u001b[0m\u001b[0;34m\u001b[0m\u001b[0;34m\u001b[0m\u001b[0m\n\u001b[1;32m     13\u001b[0m \u001b[0;34m\u001b[0m\u001b[0m\n\u001b[0;32m---> 14\u001b[0;31m     \u001b[0mblob\u001b[0m\u001b[0;34m.\u001b[0m\u001b[0mupload_from_filename\u001b[0m\u001b[0;34m(\u001b[0m\u001b[0msource_file_name\u001b[0m\u001b[0;34m)\u001b[0m\u001b[0;34m\u001b[0m\u001b[0;34m\u001b[0m\u001b[0m\n\u001b[0m\u001b[1;32m     15\u001b[0m \u001b[0;34m\u001b[0m\u001b[0m\n\u001b[1;32m     16\u001b[0m     print(\n",
      "\u001b[0;32m~/anaconda3/envs/geoenv/lib/python3.8/site-packages/google/cloud/storage/blob.py\u001b[0m in \u001b[0;36mupload_from_filename\u001b[0;34m(self, filename, content_type, client, predefined_acl)\u001b[0m\n\u001b[1;32m   1307\u001b[0m         \u001b[0mcontent_type\u001b[0m \u001b[0;34m=\u001b[0m \u001b[0mself\u001b[0m\u001b[0;34m.\u001b[0m\u001b[0m_get_content_type\u001b[0m\u001b[0;34m(\u001b[0m\u001b[0mcontent_type\u001b[0m\u001b[0;34m,\u001b[0m \u001b[0mfilename\u001b[0m\u001b[0;34m=\u001b[0m\u001b[0mfilename\u001b[0m\u001b[0;34m)\u001b[0m\u001b[0;34m\u001b[0m\u001b[0;34m\u001b[0m\u001b[0m\n\u001b[1;32m   1308\u001b[0m \u001b[0;34m\u001b[0m\u001b[0m\n\u001b[0;32m-> 1309\u001b[0;31m         \u001b[0;32mwith\u001b[0m \u001b[0mopen\u001b[0m\u001b[0;34m(\u001b[0m\u001b[0mfilename\u001b[0m\u001b[0;34m,\u001b[0m \u001b[0;34m\"rb\"\u001b[0m\u001b[0;34m)\u001b[0m \u001b[0;32mas\u001b[0m \u001b[0mfile_obj\u001b[0m\u001b[0;34m:\u001b[0m\u001b[0;34m\u001b[0m\u001b[0;34m\u001b[0m\u001b[0m\n\u001b[0m\u001b[1;32m   1310\u001b[0m             \u001b[0mtotal_bytes\u001b[0m \u001b[0;34m=\u001b[0m \u001b[0mos\u001b[0m\u001b[0;34m.\u001b[0m\u001b[0mfstat\u001b[0m\u001b[0;34m(\u001b[0m\u001b[0mfile_obj\u001b[0m\u001b[0;34m.\u001b[0m\u001b[0mfileno\u001b[0m\u001b[0;34m(\u001b[0m\u001b[0;34m)\u001b[0m\u001b[0;34m)\u001b[0m\u001b[0;34m.\u001b[0m\u001b[0mst_size\u001b[0m\u001b[0;34m\u001b[0m\u001b[0;34m\u001b[0m\u001b[0m\n\u001b[1;32m   1311\u001b[0m             self.upload_from_file(\n",
      "\u001b[0;31mFileNotFoundError\u001b[0m: [Errno 2] No such file or directory: '../data/ISRIC_product2/SOC_2001_4326.tif'"
     ]
    }
   ],
   "source": [
    "%%time\n",
    "#webDAV protocol platform url\n",
    "base_url = 'https://files.isric.org/projects/tnc/phase2_product2'\n",
    "\n",
    "GCS_bucket_name = 'vizz-data-transfer'\n",
    "S3_bucket_name = 'soils-revealed'\n",
    "file_path = 'SOC_maps/Recent/'\n",
    "\n",
    "# We create a collection asset in Earth Engine to use as a write target.\n",
    "#!earthengine create collection projects/soils-revealed/Recent/SOC_stocks\n",
    "    \n",
    "for year in np.arange(2000,2001).astype(np.str): #np.arange(2000,2019).astype(np.str):\n",
    "    print(\"Creating GeoTIFF from VRT\")\n",
    "    !gdal_translate --config GDAL_SKIP DODS --config GDAL_HTTP_USERPWD {os.getenv(\"GDAL_HTTP_USERPWD\")} -co \"BLOCKXSIZE=128\" -co \"BLOCKYSIZE=128\" -co \"TILED=YES\" -co \"BIGTIFF=YES\" -co \"COMPRESS=DEFLATE\" /vsicurl/{base_url}/SOC_{year}_4326.vrt ../data/ISRIC_product2/SOC_{year}_4326.tif\n",
    "    \n",
    "    print(\"Uploading file to GCS bucket\")\n",
    "    upload_blob_to_GCS(GCS_bucket_name, f'../data/ISRIC_product2/SOC_{year}_4326.tif', file_path+f'SOC_{year}_4326.tif')\n",
    "    \n",
    "    #print(\"Uploading file to S3 bucket\")\n",
    "    #upload_blob_to_S3(S3_bucket_name, f'../data/ISRIC_product2/SOC_{year}_4326.tif', file_path+f'SOC_{year}_4326.tif')\n",
    "    \n",
    "    print(\"Uploading file to GEE\")\n",
    "    !earthengine upload image --time_start {year}-01-01 --time_end {year}-12-31 --asset_id projects/soils-revealed/Recent/SOC_stocks/SOC_stocks_{year} gs://vizz-data-transfer/SOC_maps/Recent/SOC_{year}_4326.tif  \n",
    "    \n",
    "    print(\"Removing GeoTIFF file\")\n",
    "    os.remove(f'../data/ISRIC_product2/SOC_{year}_4326.tif')"
   ]
  },
  {
   "cell_type": "code",
   "execution_count": null,
   "metadata": {},
   "outputs": [],
   "source": []
  }
 ],
 "metadata": {
  "kernelspec": {
   "display_name": "Python 3",
   "language": "python",
   "name": "python3"
  },
  "language_info": {
   "codemirror_mode": {
    "name": "ipython",
    "version": 3
   },
   "file_extension": ".py",
   "mimetype": "text/x-python",
   "name": "python",
   "nbconvert_exporter": "python",
   "pygments_lexer": "ipython3",
   "version": "3.8.2"
  }
 },
 "nbformat": 4,
 "nbformat_minor": 4
}
