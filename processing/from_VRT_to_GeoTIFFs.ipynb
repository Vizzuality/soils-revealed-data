{
 "cells": [
  {
   "cell_type": "markdown",
   "metadata": {},
   "source": [
    "# Convert `VRT`  GDAL Virtual Format to `GeoTIFF`"
   ]
  },
  {
   "cell_type": "code",
   "execution_count": 1,
   "metadata": {},
   "outputs": [],
   "source": [
    "import numpy as np\n",
    "import json\n",
    "from google.cloud import storage\n",
    "from google.oauth2 import service_account\n",
    "from boto3.session import Session as boto3_session"
   ]
  },
  {
   "cell_type": "code",
   "execution_count": 2,
   "metadata": {},
   "outputs": [],
   "source": [
    "import os\n",
    "from dotenv import load_dotenv\n",
    "load_dotenv()\n",
    "from pathlib import Path \n",
    "env_path = Path('.') / '.env'"
   ]
  },
  {
   "cell_type": "markdown",
   "metadata": {},
   "source": [
    "## Utils"
   ]
  },
  {
   "cell_type": "code",
   "execution_count": 3,
   "metadata": {},
   "outputs": [],
   "source": [
    "def upload_blob_to_GCS(bucket_name, source_file_name, destination_blob_name):\n",
    "    \"\"\"Uploads a file to the bucket.\"\"\"\n",
    "    # bucket_name = \"your-bucket-name\"\n",
    "    # source_file_name = \"local/path/to/file\"\n",
    "    # destination_blob_name = \"storage-object-name\"\n",
    "    #private_key = json.loads(os.getenv(\"PRIVATE_KEY\"))\n",
    "    #credentials = service_account.Credentials(private_key, private_key['client_email'], private_key['token_uri'])\n",
    "    #storage_client = storage.Client(credentials=credentials, project=private_key['project_id'])\n",
    "    storage_client = storage.Client.from_service_account_json(os.getenv('PRIVATEKEY_PATH'))\n",
    "    \n",
    "    bucket = storage_client.bucket(bucket_name)\n",
    "    blob = bucket.blob(destination_blob_name)\n",
    "\n",
    "    blob.upload_from_filename(source_file_name)\n",
    "\n",
    "    print(\n",
    "        \"File {} uploaded to {}.\".format(\n",
    "            source_file_name, destination_blob_name\n",
    "        )\n",
    "    )"
   ]
  },
  {
   "cell_type": "markdown",
   "metadata": {},
   "source": [
    "**upload_blob_to_s3**"
   ]
  },
  {
   "cell_type": "code",
   "execution_count": 4,
   "metadata": {},
   "outputs": [],
   "source": [
    "def upload_blob_to_S3(bucket_name, source_file_name, destination_blob_name):\n",
    "    \"\"\"Uploads a file to the bucket.\"\"\"\n",
    "    # bucket_name = \"your-bucket-name\"\n",
    "    # source_file_name = \"local/path/to/file\"\n",
    "    # destination_blob_name = \"storage-object-name\"\n",
    "    session = boto3_session()\n",
    "    client = session.client(service_name=\"s3\", aws_access_key_id=os.getenv(\"S3_ACCESS_KEY_ID\"), aws_secret_access_key=os.getenv(\"S3_SECRET_ACCESS_KEY\"))\n",
    "    client.upload_file(source_file_name, bucket_name, destination_blob_name)"
   ]
  },
  {
   "cell_type": "code",
   "execution_count": null,
   "metadata": {},
   "outputs": [
    {
     "name": "stdout",
     "output_type": "stream",
     "text": [
      "Creating GeoTIFF from VRT\n",
      "Input file size is 158580, 63599\n",
      "0...10...20...30...40...50...60...70...80...90...100 - done.\n",
      "Uploading file to GCS bucket\n",
      "File ../data/ISRIC_product2/SOC_2004_4326.tif uploaded to SOC_maps/Recent/SOC_2004_4326.tif.\n",
      "Uploading file to GEE\n",
      "Running command using Cloud API.  Set --no-use_cloud_api to go back to using the API\n",
      "\n",
      "W0720 14:31:33.809015 140736002478976 __init__.py:46] file_cache is unavailable when using oauth2client >= 4.0.0 or google-auth\n",
      "Traceback (most recent call last):\n",
      "  File \"/Users/ikersanchez/anaconda3/envs/geoenv/lib/python3.8/site-packages/googleapiclient/discovery_cache/__init__.py\", line 36, in autodetect\n",
      "    from google.appengine.api import memcache\n",
      "ModuleNotFoundError: No module named 'google.appengine'\n",
      "\n",
      "During handling of the above exception, another exception occurred:\n",
      "\n",
      "Traceback (most recent call last):\n",
      "  File \"/Users/ikersanchez/anaconda3/envs/geoenv/lib/python3.8/site-packages/googleapiclient/discovery_cache/file_cache.py\", line 33, in <module>\n",
      "    from oauth2client.contrib.locked_file import LockedFile\n",
      "ModuleNotFoundError: No module named 'oauth2client.contrib.locked_file'\n",
      "\n",
      "During handling of the above exception, another exception occurred:\n",
      "\n",
      "Traceback (most recent call last):\n",
      "  File \"/Users/ikersanchez/anaconda3/envs/geoenv/lib/python3.8/site-packages/googleapiclient/discovery_cache/file_cache.py\", line 37, in <module>\n",
      "    from oauth2client.locked_file import LockedFile\n",
      "ModuleNotFoundError: No module named 'oauth2client.locked_file'\n",
      "\n",
      "During handling of the above exception, another exception occurred:\n",
      "\n",
      "Traceback (most recent call last):\n",
      "  File \"/Users/ikersanchez/anaconda3/envs/geoenv/lib/python3.8/site-packages/googleapiclient/discovery_cache/__init__.py\", line 42, in autodetect\n",
      "    from . import file_cache\n",
      "  File \"/Users/ikersanchez/anaconda3/envs/geoenv/lib/python3.8/site-packages/googleapiclient/discovery_cache/file_cache.py\", line 40, in <module>\n",
      "    raise ImportError(\n",
      "ImportError: file_cache is unavailable when using oauth2client >= 4.0.0 or google-auth\n",
      "I0720 14:31:33.811462 140736002478976 discovery.py:280] URL being requested: GET https://earthengine.googleapis.com/$discovery/rest?version=v1alpha&prettyPrint=false\n",
      "W0720 14:31:41.606598 140736002478976 __init__.py:46] file_cache is unavailable when using oauth2client >= 4.0.0 or google-auth\n",
      "Traceback (most recent call last):\n",
      "  File \"/Users/ikersanchez/anaconda3/envs/geoenv/lib/python3.8/site-packages/googleapiclient/discovery_cache/__init__.py\", line 36, in autodetect\n",
      "    from google.appengine.api import memcache\n",
      "ModuleNotFoundError: No module named 'google.appengine'\n",
      "\n",
      "During handling of the above exception, another exception occurred:\n",
      "\n",
      "Traceback (most recent call last):\n",
      "  File \"/Users/ikersanchez/anaconda3/envs/geoenv/lib/python3.8/site-packages/googleapiclient/discovery_cache/file_cache.py\", line 33, in <module>\n",
      "    from oauth2client.contrib.locked_file import LockedFile\n",
      "ModuleNotFoundError: No module named 'oauth2client.contrib.locked_file'\n",
      "\n",
      "During handling of the above exception, another exception occurred:\n",
      "\n",
      "Traceback (most recent call last):\n",
      "  File \"/Users/ikersanchez/anaconda3/envs/geoenv/lib/python3.8/site-packages/googleapiclient/discovery_cache/file_cache.py\", line 37, in <module>\n",
      "    from oauth2client.locked_file import LockedFile\n",
      "ModuleNotFoundError: No module named 'oauth2client.locked_file'\n",
      "\n",
      "During handling of the above exception, another exception occurred:\n",
      "\n",
      "Traceback (most recent call last):\n",
      "  File \"/Users/ikersanchez/anaconda3/envs/geoenv/lib/python3.8/site-packages/googleapiclient/discovery_cache/__init__.py\", line 42, in autodetect\n",
      "    from . import file_cache\n",
      "  File \"/Users/ikersanchez/anaconda3/envs/geoenv/lib/python3.8/site-packages/googleapiclient/discovery_cache/file_cache.py\", line 40, in <module>\n",
      "    raise ImportError(\n",
      "ImportError: file_cache is unavailable when using oauth2client >= 4.0.0 or google-auth\n",
      "I0720 14:31:41.607059 140736002478976 discovery.py:280] URL being requested: GET https://earthengine.googleapis.com/$discovery/rest?version=v1alpha&prettyPrint=false\n",
      "I0720 14:31:47.172986 140736002478976 discovery.py:911] URL being requested: GET https://earthengine.googleapis.com/v1alpha/projects/earthengine-legacy/algorithms?prettyPrint=false&alt=json\n",
      "I0720 14:31:50.339838 140736002478976 discovery.py:911] URL being requested: POST https://earthengine.googleapis.com/v1alpha/projects/earthengine-legacy/image:import?alt=json\n",
      "Started upload task with ID: QGBGIPE23Y4C2JXESIGJ3EUC\n",
      "Removing GeoTIFF file\n",
      "Creating GeoTIFF from VRT\n",
      "Input file size is 158580, 63599\n",
      "0...10...20...30...40...50...60...70"
     ]
    }
   ],
   "source": [
    "%%time\n",
    "#webDAV protocol platform url\n",
    "base_url = 'https://files.isric.org/projects/tnc/phase2_product2'\n",
    "\n",
    "GCS_bucket_name = 'vizz-data-transfer'\n",
    "S3_bucket_name = 'soils-revealed'\n",
    "file_path = 'SOC_maps/Recent/'\n",
    "\n",
    "# We create a collection asset in Earth Engine to use as a write target.\n",
    "#!earthengine create collection projects/soils-revealed/Recent/SOC_stocks\n",
    "    \n",
    "for year in np.arange(2004,2019).astype(np.str): #np.arange(2000,2019).astype(np.str):\n",
    "    print(\"Creating GeoTIFF from VRT\")\n",
    "    !gdal_translate --config GDAL_SKIP DODS --config GDAL_HTTP_USERPWD {os.getenv(\"GDAL_HTTP_USERPWD\")} -co \"BLOCKXSIZE=128\" -co \"BLOCKYSIZE=128\" -co \"TILED=YES\" -co \"BIGTIFF=YES\" -co \"COMPRESS=DEFLATE\" /vsicurl/{base_url}/SOC_{year}_4326.vrt ../data/ISRIC_product2/SOC_{year}_4326.tif\n",
    "    \n",
    "    print(\"Uploading file to GCS bucket\")\n",
    "    upload_blob_to_GCS(GCS_bucket_name, f'../data/ISRIC_product2/SOC_{year}_4326.tif', file_path+f'SOC_{year}_4326.tif')\n",
    "    \n",
    "    #print(\"Uploading file to S3 bucket\")\n",
    "    #upload_blob_to_S3(S3_bucket_name, f'../data/ISRIC_product2/SOC_{year}_4326.tif', file_path+f'SOC_{year}_4326.tif')\n",
    "    \n",
    "    print(\"Uploading file to GEE\")\n",
    "    !earthengine upload image --time_start {year}-01-01 --time_end {year}-12-31 --asset_id projects/soils-revealed/Recent/SOC_stocks/SOC_stocks_{year} gs://vizz-data-transfer/SOC_maps/Recent/SOC_{year}_4326.tif  \n",
    "    \n",
    "    print(\"Removing GeoTIFF file\")\n",
    "    os.remove(f'../data/ISRIC_product2/SOC_{year}_4326.tif')"
   ]
  },
  {
   "cell_type": "code",
   "execution_count": null,
   "metadata": {},
   "outputs": [],
   "source": []
  }
 ],
 "metadata": {
  "kernelspec": {
   "display_name": "Python 3",
   "language": "python",
   "name": "python3"
  },
  "language_info": {
   "codemirror_mode": {
    "name": "ipython",
    "version": 3
   },
   "file_extension": ".py",
   "mimetype": "text/x-python",
   "name": "python",
   "nbconvert_exporter": "python",
   "pygments_lexer": "ipython3",
   "version": "3.8.2"
  }
 },
 "nbformat": 4,
 "nbformat_minor": 4
}
