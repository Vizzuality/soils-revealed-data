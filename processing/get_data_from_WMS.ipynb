{
 "cells": [
  {
   "cell_type": "markdown",
   "metadata": {},
   "source": [
    "# Web Map Service (WMS) layer\n",
    "The OpenGIS® Web Map Service Interface Standard (WMS) provides a simple HTTP interface for requesting geo-registered map images from one or more distributed geospatial databases."
   ]
  },
  {
   "cell_type": "code",
   "execution_count": 1,
   "metadata": {},
   "outputs": [],
   "source": [
    "from owslib.wms import WebMapService"
   ]
  },
  {
   "cell_type": "markdown",
   "metadata": {},
   "source": [
    "**Service metadata**"
   ]
  },
  {
   "cell_type": "code",
   "execution_count": 2,
   "metadata": {},
   "outputs": [],
   "source": [
    "wms = WebMapService('https://maps.isric.org/mapserv?map=/map/ocs.map')"
   ]
  },
  {
   "cell_type": "code",
   "execution_count": 6,
   "metadata": {},
   "outputs": [
    {
     "data": {
      "text/plain": [
       "'Soilgrids property: Soil organic carbon stock'"
      ]
     },
     "execution_count": 6,
     "metadata": {},
     "output_type": "execute_result"
    }
   ],
   "source": [
    "wms.identification.title"
   ]
  },
  {
   "cell_type": "markdown",
   "metadata": {},
   "source": [
    "**Available layers**"
   ]
  },
  {
   "cell_type": "code",
   "execution_count": 5,
   "metadata": {},
   "outputs": [
    {
     "data": {
      "text/plain": [
       "['OCS',\n",
       " 'ocs_0-30cm_Q0.05',\n",
       " 'ocs_0-30cm_Q0.5',\n",
       " 'ocs_0-30cm_Q0.95',\n",
       " 'ocs_0-30cm_mean',\n",
       " 'ocs_0-30cm_uncertainty']"
      ]
     },
     "execution_count": 5,
     "metadata": {},
     "output_type": "execute_result"
    }
   ],
   "source": [
    "list(wms.contents)"
   ]
  },
  {
   "cell_type": "markdown",
   "metadata": {},
   "source": [
    "**Details of a layer:**"
   ]
  },
  {
   "cell_type": "code",
   "execution_count": 8,
   "metadata": {},
   "outputs": [
    {
     "data": {
      "text/plain": [
       "'Soil organic carbon stock 0-30cm Q0.5 (t/ha)'"
      ]
     },
     "execution_count": 8,
     "metadata": {},
     "output_type": "execute_result"
    }
   ],
   "source": [
    "wms['ocs_0-30cm_Q0.5'].title"
   ]
  },
  {
   "cell_type": "code",
   "execution_count": 9,
   "metadata": {},
   "outputs": [
    {
     "data": {
      "text/plain": [
       "(-179.998, -55.9773, 179.994, 82.7193)"
      ]
     },
     "execution_count": 9,
     "metadata": {},
     "output_type": "execute_result"
    }
   ],
   "source": [
    "wms['ocs_0-30cm_Q0.5'].boundingBoxWGS84"
   ]
  },
  {
   "cell_type": "code",
   "execution_count": 10,
   "metadata": {},
   "outputs": [
    {
     "data": {
      "text/plain": [
       "['EPSG:3857', 'EPSG:54012', 'EPSG:4326', 'EPSG:54009', 'EPSG:152160']"
      ]
     },
     "execution_count": 10,
     "metadata": {},
     "output_type": "execute_result"
    }
   ],
   "source": [
    "wms['ocs_0-30cm_Q0.5'].crsOptions"
   ]
  },
  {
   "cell_type": "markdown",
   "metadata": {},
   "source": [
    "**Available methods, their URLs, and available formats:**"
   ]
  },
  {
   "cell_type": "code",
   "execution_count": 12,
   "metadata": {},
   "outputs": [
    {
     "data": {
      "text/plain": [
       "['GetCapabilities',\n",
       " 'GetMap',\n",
       " 'GetFeatureInfo',\n",
       " 'DescribeLayer',\n",
       " 'GetLegendGraphic',\n",
       " 'GetStyles']"
      ]
     },
     "execution_count": 12,
     "metadata": {},
     "output_type": "execute_result"
    }
   ],
   "source": [
    "[op.name for op in wms.operations]"
   ]
  },
  {
   "cell_type": "code",
   "execution_count": 13,
   "metadata": {},
   "outputs": [
    {
     "data": {
      "text/plain": [
       "[{'type': 'Get', 'url': 'https://maps.isric.org/mapserv?map=/map/ocs.map&'},\n",
       " {'type': 'Post', 'url': 'https://maps.isric.org/mapserv?map=/map/ocs.map&'}]"
      ]
     },
     "execution_count": 13,
     "metadata": {},
     "output_type": "execute_result"
    }
   ],
   "source": [
    "wms.getOperationByName('GetMap').methods"
   ]
  },
  {
   "cell_type": "code",
   "execution_count": 14,
   "metadata": {},
   "outputs": [
    {
     "data": {
      "text/plain": [
       "['image/tiff',\n",
       " 'image/svg+xml',\n",
       " 'image/png',\n",
       " 'image/jpeg',\n",
       " 'image/png; mode=8bit',\n",
       " 'image/vnd.jpeg-png',\n",
       " 'image/vnd.jpeg-png8',\n",
       " 'application/x-pdf',\n",
       " 'application/vnd.google-earth.kml+xml',\n",
       " 'application/vnd.google-earth.kmz',\n",
       " 'application/x-protobuf',\n",
       " 'application/json']"
      ]
     },
     "execution_count": 14,
     "metadata": {},
     "output_type": "execute_result"
    }
   ],
   "source": [
    "wms.getOperationByName('GetMap').formatOptions"
   ]
  },
  {
   "cell_type": "code",
   "execution_count": 22,
   "metadata": {},
   "outputs": [],
   "source": [
    "img = wms.getmap(layers=['ocs_0-30cm_Q0.5'],\n",
    "                 srs='EPSG:4326',\n",
    "                 bbox=wms['ocs_0-30cm_Q0.5'].boundingBoxWGS84,\n",
    "                 size=(300, 250),\n",
    "                 format='image/jpeg',\n",
    "                 transparent=True)\n",
    "out = open('../data/ocs_0-30cm_Q05.jpg', 'wb')\n",
    "out.write(img.read())\n",
    "out.close()"
   ]
  },
  {
   "cell_type": "code",
   "execution_count": 24,
   "metadata": {},
   "outputs": [],
   "source": [
    "import urllib, os"
   ]
  },
  {
   "cell_type": "code",
   "execution_count": 27,
   "metadata": {},
   "outputs": [],
   "source": [
    "rast_url = 'https://maps.isric.org/mapserv?map=/map/ocs.map'"
   ]
  },
  {
   "cell_type": "code",
   "execution_count": null,
   "metadata": {},
   "outputs": [],
   "source": [
    "rast_fname = os.path.basename(rast_url)\n",
    "outfp = open(rast_fname, 'wb')\n",
    "\n",
    "# Transfer data .. this can take a while ...\n",
    "outfp.write(infp.read())\n",
    "outfp.close()\n",
    "\n",
    "print('Your file is at ' + os.path.join(os.getcwd(), rast_fname))"
   ]
  }
 ],
 "metadata": {
  "kernelspec": {
   "display_name": "Python 3",
   "language": "python",
   "name": "python3"
  },
  "language_info": {
   "codemirror_mode": {
    "name": "ipython",
    "version": 3
   },
   "file_extension": ".py",
   "mimetype": "text/x-python",
   "name": "python",
   "nbconvert_exporter": "python",
   "pygments_lexer": "ipython3",
   "version": "3.8.2"
  }
 },
 "nbformat": 4,
 "nbformat_minor": 4
}
