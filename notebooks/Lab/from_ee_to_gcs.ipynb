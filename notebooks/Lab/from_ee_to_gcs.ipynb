{
 "cells": [
  {
   "cell_type": "markdown",
   "metadata": {},
   "source": [
    "# Exporting data from Earth Engine Cloud Storage"
   ]
  },
  {
   "cell_type": "code",
   "execution_count": 2,
   "metadata": {},
   "outputs": [],
   "source": [
    "import numpy as np\n",
    "import time\n",
    "import ee\n",
    "ee.Initialize()"
   ]
  },
  {
   "cell_type": "markdown",
   "metadata": {},
   "source": [
    "### Recent SOC stocks\n",
    "**Argentina SOC stock (0-30 cm)**"
   ]
  },
  {
   "cell_type": "code",
   "execution_count": 3,
   "metadata": {},
   "outputs": [],
   "source": [
    "years = (np.arange(2)+1982).astype(np.str)#(np.arange(36)+1982).astype(np.str)\n",
    "collection = 'users/iker/SOC_maps/SOC_stock_0_30'\n",
    "\n",
    "Feb19_cstocks_1982_030_ll.tif\n",
    "for year in years:\n",
    "    start_date = f'{year}-01-01'\n",
    "    end_date = f'{year}-12-31'\n",
    "    \n",
    "    collection = ee.ImageCollection(collection) \n",
    "        \n",
    "    image = ee.Image(collection.filterDate(start_date, end_date).first())\n",
    "    \n",
    "    geometry = image.geometry()\n",
    "    \n",
    "    fileName = f'Feb19_cstocks_{str(year)}_030_ll'\n",
    "    image_band = image.select(band)\n",
    "        \n",
    "    task = ee.batch.Export.image.toCloudStorage(\n",
    "           image=image_band,\n",
    "           bucket='vizz-data-transfer',\n",
    "           fileNamePrefix=f'SOC_maps/SOC_concentration/{fileName}',\n",
    "           description= fileName,\n",
    "           scale= 250,\n",
    "           region= geometry.getInfo().get('coordinates'),\n",
    "           maxPixels=1e10)\n",
    "    task.start()"
   ]
  },
  {
   "cell_type": "markdown",
   "metadata": {},
   "source": [
    "**Argentina SOC concentration (0-5, 5-15, 30-60, 60-100, 100-200 cm)**"
   ]
  },
  {
   "cell_type": "code",
   "execution_count": null,
   "metadata": {},
   "outputs": [],
   "source": [
    "years = (np.arange(36)+1982).astype(np.str)\n",
    "quantiles = ['0.05', '0.5', '0.95']\n",
    "collections = ['SOC_concentration_q5', 'SOC_concentration_q50', 'SOC_concentration_q95']\n",
    "quantiles = dict(zip(quantiles, collections))\n",
    "\n",
    "collection = ee.ImageCollection(f'users/iker/SOC_maps/{collections[1]}')\n",
    "image = ee.Image(collection.first())\n",
    "geometry = image.geometry()\n",
    "\n",
    "bands = collection.first().bandNames().getInfo()\n",
    "depth = ['2.5', '10', '22.5', '45', '80', '150']\n",
    "bands = dict(zip(bands, depth))\n",
    "\n",
    "for year in years:\n",
    "    start_date = f'{year}-01-01'\n",
    "    end_date = f'{year}-12-31'\n",
    "    \n",
    "    for quantile in quantiles.keys():\n",
    "        \n",
    "        collection = ee.ImageCollection(f'users/iker/SOC_maps/{quantiles[quantile]}') \n",
    "        \n",
    "        image = ee.Image(collection.filterDate(start_date, end_date).first())\n",
    "        \n",
    "        for band in bands.keys():\n",
    "            fileName = f'SOC_{str(year)}_q{quantile}_d{bands[band]}'\n",
    "            image_band = image.select(band)\n",
    "                \n",
    "            task = ee.batch.Export.image.toCloudStorage(\n",
    "                   image=image_band,\n",
    "                   bucket='vizz-data-transfer',\n",
    "                   fileNamePrefix=f'SOC_maps/SOC_concentration/{fileName}',\n",
    "                   description= fileName,\n",
    "                   scale= 250,\n",
    "                   region= geometry.getInfo().get('coordinates'),\n",
    "                   maxPixels=1e10)\n",
    "            task.start()"
   ]
  },
  {
   "cell_type": "markdown",
   "metadata": {},
   "source": [
    "### Historic SOC stocks"
   ]
  },
  {
   "cell_type": "code",
   "execution_count": 3,
   "metadata": {},
   "outputs": [
    {
     "name": "stdout",
     "output_type": "stream",
     "text": [
      "Temporal status:  READY\n",
      "Temporal status:  RUNNING\n",
      "Temporal status:  RUNNING\n",
      "Temporal status:  RUNNING\n",
      "Temporal status:  RUNNING\n",
      "Temporal status:  RUNNING\n",
      "Temporal status:  RUNNING\n",
      "Temporal status:  RUNNING\n",
      "Temporal status:  RUNNING\n",
      "Temporal status:  RUNNING\n",
      "Final status:  COMPLETED\n"
     ]
    }
   ],
   "source": [
    "file_name = 'SOCS_0_200cm_year_NoLU_10km'\n",
    "asset = f'users/iker/SOC_maps/{file_name}'\n",
    "\n",
    "image = ee.Image(asset)\n",
    "\n",
    "geometry = image.geometry()\n",
    "\n",
    "task = ee.batch.Export.image.toCloudStorage(\n",
    "       image=image,\n",
    "       bucket='vizz-data-transfer',\n",
    "       fileNamePrefix=f'SOC_maps/Historic/{file_name}',\n",
    "       description= file_name,\n",
    "       scale= 10000,\n",
    "       region= geometry.getInfo().get('coordinates'),\n",
    "       maxPixels=1e10,\n",
    "      fileFormat= 'GeoTIFF',\n",
    "      formatOptions= {'cloudOptimized': True})\n",
    "task.start()\n",
    "\n",
    "# Monitoring image export task\n",
    "status = task.status().get('state')\n",
    "while not task.status().get('state') == 'COMPLETED':\n",
    "    print('Temporal status: ', task.status().get('state'))\n",
    "\n",
    "    time.sleep(10)\n",
    "    \n",
    "print('Final status: ', task.status().get('state'))"
   ]
  },
  {
   "cell_type": "code",
   "execution_count": null,
   "metadata": {},
   "outputs": [],
   "source": []
  }
 ],
 "metadata": {
  "kernelspec": {
   "display_name": "Python 3",
   "language": "python",
   "name": "python3"
  },
  "language_info": {
   "codemirror_mode": {
    "name": "ipython",
    "version": 3
   },
   "file_extension": ".py",
   "mimetype": "text/x-python",
   "name": "python",
   "nbconvert_exporter": "python",
   "pygments_lexer": "ipython3",
   "version": "3.8.2"
  }
 },
 "nbformat": 4,
 "nbformat_minor": 4
}
