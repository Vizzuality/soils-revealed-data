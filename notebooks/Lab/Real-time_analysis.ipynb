{
 "cells": [
  {
   "cell_type": "markdown",
   "metadata": {},
   "source": [
    "# Real-time analysis"
   ]
  },
  {
   "cell_type": "code",
   "execution_count": null,
   "metadata": {},
   "outputs": [],
   "source": [
    "import numpy as np\n",
    "import xarray as xr\n",
    "from datetime import datetime\n",
    "from xhistogram.xarray import histogram\n",
    "from rasterio import features\n",
    "import rioxarray\n",
    "import matplotlib.pyplot as plt\n",
    "from affine import Affine\n",
    "from ast import literal_eval\n",
    "from shapely.geometry import Polygon\n",
    "import _pickle as pickle"
   ]
  },
  {
   "cell_type": "markdown",
   "metadata": {},
   "source": [
    "## Utils\n",
    "**plot_hist**"
   ]
  },
  {
   "cell_type": "code",
   "execution_count": null,
   "metadata": {},
   "outputs": [],
   "source": [
    "def plot_hist(x_min, count):\n",
    "    width = x_min[1]-x_min[0]\n",
    "    width -= width/5.\n",
    "    x_min += width/(5.*2)\n",
    "    per = count/count.sum()*100\n",
    "    \n",
    "    plt.figure(figsize=(10,5))\n",
    "    \n",
    "    plt.bar(x_min, per, width=width)\n",
    "    \n",
    "    plt.plot([0,0], [0,per.max()], color = 'k', linestyle = '--')\n",
    "    \n",
    "    plt.title('Soil Organic Carbon Stock')\n",
    "    plt.xlabel('SOC stock t C/ha)')\n",
    "    plt.ylabel('(%) of total area')"
   ]
  },
  {
   "cell_type": "markdown",
   "metadata": {},
   "source": [
    "**transform_from_latlon**"
   ]
  },
  {
   "cell_type": "code",
   "execution_count": null,
   "metadata": {},
   "outputs": [],
   "source": [
    "def transform_from_latlon(lat, lon):\n",
    "    lat = np.asarray(lat)\n",
    "    lon = np.asarray(lon)\n",
    "    trans = Affine.translation(lon[0], lat[0])\n",
    "    scale = Affine.scale(lon[1] - lon[0], lat[1] - lat[0])\n",
    "    return trans * scale"
   ]
  },
  {
   "cell_type": "markdown",
   "metadata": {},
   "source": [
    "**rasterize**"
   ]
  },
  {
   "cell_type": "code",
   "execution_count": null,
   "metadata": {},
   "outputs": [],
   "source": [
    "def rasterize(shapes, coords, latitude='latitude', longitude='longitude',\n",
    "              fill=np.nan, **kwargs):\n",
    "    \"\"\"Rasterize a list of (geometry, fill_value) tuples onto the given\n",
    "    xray coordinates. This only works for 1d latitude and longitude\n",
    "    arrays.\n",
    "    \"\"\"\n",
    "    transform = transform_from_latlon(coords[latitude], coords[longitude])\n",
    "    out_shape = (len(coords[latitude]), len(coords[longitude]))\n",
    "    raster = features.rasterize(shapes, out_shape=out_shape,\n",
    "                                fill=fill, transform=transform,\n",
    "                                dtype=float, **kwargs)\n",
    "    spatial_coords = {latitude: coords[latitude], longitude: coords[longitude]}\n",
    "    return xr.DataArray(raster, coords=spatial_coords, dims=(latitude, longitude))"
   ]
  },
  {
   "cell_type": "markdown",
   "metadata": {},
   "source": [
    "## Read `xarray.Dataset` from `Zarr` in Amazon S3 bucket"
   ]
  },
  {
   "cell_type": "code",
   "execution_count": null,
   "metadata": {},
   "outputs": [],
   "source": [
    "dataset_type = 'experimental-dataset'\n",
    "group = 'stocks'\n",
    "\n",
    "with open(f'../data/{dataset_type}_{group}.pkl', 'rb') as input:\n",
    "    ds = pickle.load(input)\n",
    "    \n",
    "ds"
   ]
  },
  {
   "cell_type": "markdown",
   "metadata": {},
   "source": [
    "## Zonal statistics"
   ]
  },
  {
   "cell_type": "markdown",
   "metadata": {},
   "source": [
    "**Polygon**"
   ]
  },
  {
   "cell_type": "code",
   "execution_count": null,
   "metadata": {},
   "outputs": [],
   "source": [
    "polygon = {\n",
    "  \"type\": \"FeatureCollection\",\n",
    "  \"features\": [\n",
    "    {\n",
    "      \"type\": \"Feature\",\n",
    "      \"properties\": {},\n",
    "      \"geometry\": {\n",
    "        \"type\": \"Polygon\",\n",
    "        \"coordinates\": [\n",
    "          [\n",
    "            [\n",
    "              -63.34716796874999,\n",
    "              -34.234512362369856\n",
    "            ],\n",
    "            [\n",
    "              -64.22607421875,\n",
    "              -35.17380831799957\n",
    "            ],\n",
    "            [\n",
    "              -63.896484375,\n",
    "              -35.78217070326606\n",
    "            ],\n",
    "            [\n",
    "              -63.34716796874999,\n",
    "              -35.88905007936092\n",
    "            ],\n",
    "            [\n",
    "              -62.86376953124999,\n",
    "              -35.46066995149529\n",
    "            ],\n",
    "            [\n",
    "              -62.51220703125,\n",
    "              -35.08395557927643\n",
    "            ],\n",
    "            [\n",
    "              -62.49023437499999,\n",
    "              -34.57895241036947\n",
    "            ],\n",
    "            [\n",
    "              -63.34716796874999,\n",
    "              -34.234512362369856\n",
    "            ]\n",
    "          ]\n",
    "        ]\n",
    "      }\n",
    "    }\n",
    "  ]\n",
    "}\n",
    "\n",
    "geometry = Polygon(polygon.get('features')[0].get('geometry').get('coordinates')[0])\n",
    "geometry"
   ]
  },
  {
   "cell_type": "markdown",
   "metadata": {},
   "source": [
    "**Create the data mask by rasterizing the vector data**"
   ]
  },
  {
   "cell_type": "code",
   "execution_count": null,
   "metadata": {},
   "outputs": [],
   "source": [
    "%%time\n",
    "shapes = zip([geometry], range(1))\n",
    "da_mask = rasterize(shapes, ds.coords, longitude='lon', latitude='lat').rename('mask')\n",
    "ds['mask'] = da_mask"
   ]
  },
  {
   "cell_type": "markdown",
   "metadata": {},
   "source": [
    "## Change"
   ]
  },
  {
   "cell_type": "markdown",
   "metadata": {},
   "source": [
    "**Input variables**"
   ]
  },
  {
   "cell_type": "code",
   "execution_count": null,
   "metadata": {},
   "outputs": [],
   "source": [
    "years = ['1982', '2017']\n",
    "depth = '0-30'\n",
    "nBinds=80\n",
    "bindsRange=[-50, 50]"
   ]
  },
  {
   "cell_type": "markdown",
   "metadata": {},
   "source": [
    "**Computation**"
   ]
  },
  {
   "cell_type": "code",
   "execution_count": null,
   "metadata": {},
   "outputs": [],
   "source": [
    "%%time\n",
    "start_date = np.datetime64(datetime.strptime(f'{years[0]}-12-31', \"%Y-%m-%d\"))\n",
    "end_date = np.datetime64(datetime.strptime(f'{years[1]}-12-31', \"%Y-%m-%d\"))\n",
    "\n",
    "xmin, ymax, xmax, ymin = geometry.bounds\n",
    "xds_index = ds.where(ds['mask'].isin(0.0)).sel(lon=slice(xmin, xmax), lat=slice(ymin, ymax))\n",
    "\n",
    "# Get difference between two dates\n",
    "diff = xds_index.loc[dict(time=end_date, depth=depth)] - xds_index.loc[dict(time=start_date, depth=depth)]\n",
    "\n",
    "# Get counts and binds of the histogram\n",
    "bins = np.linspace(bindsRange[0], bindsRange[1], nBinds+1)\n",
    "h = histogram(diff.stocks, bins=[bins], dim=['lat', 'lon'])\n",
    "\n",
    "count = h.values\n",
    "mean_diff = diff['stocks'].mean(skipna=True).values "
   ]
  },
  {
   "cell_type": "markdown",
   "metadata": {},
   "source": [
    "**Output values**"
   ]
  },
  {
   "cell_type": "code",
   "execution_count": null,
   "metadata": {},
   "outputs": [],
   "source": [
    "print(f'Soil Organic Carbon Stock Change: {mean_diff/(int(years[1])-int(years[0]))} t C/ha year')\n",
    "x_min = bins[:-1]\n",
    "plot_hist(x_min, count)"
   ]
  },
  {
   "cell_type": "markdown",
   "metadata": {},
   "source": [
    "## Time series"
   ]
  },
  {
   "cell_type": "markdown",
   "metadata": {},
   "source": [
    "**Computation**"
   ]
  },
  {
   "cell_type": "code",
   "execution_count": null,
   "metadata": {},
   "outputs": [],
   "source": [
    "%%time\n",
    "years = [int(str(x).split('-')[0]) for x in ds.coords.get('time').values]\n",
    "\n",
    "xmin, ymax, xmax, ymin = geometry.bounds\n",
    "xds_index = ds.where(ds['mask'].isin(0.0)).sel(depth='0-30', lon=slice(xmin, xmax), lat=slice(ymin, ymax))\n",
    "\n",
    "values = xds_index['stocks'].mean(['lon', 'lat']).values"
   ]
  },
  {
   "cell_type": "markdown",
   "metadata": {},
   "source": [
    "**Output values**"
   ]
  },
  {
   "cell_type": "code",
   "execution_count": null,
   "metadata": {},
   "outputs": [],
   "source": [
    "plt.plot(years, values)"
   ]
  },
  {
   "cell_type": "markdown",
   "metadata": {},
   "source": [
    "## Cloud function\n",
    "**`main.py` file**"
   ]
  },
  {
   "cell_type": "code",
   "execution_count": 10,
   "metadata": {},
   "outputs": [],
   "source": [
    "import numpy as np\n",
    "import xarray as xr\n",
    "from xhistogram.xarray import histogram\n",
    "from datetime import datetime\n",
    "from affine import Affine\n",
    "from rasterio import features\n",
    "from shapely.geometry import Polygon\n",
    "import _pickle as pickle\n",
    "import json\n",
    "\n",
    "class NpEncoder(json.JSONEncoder):\n",
    "    def default(self, obj):\n",
    "        if isinstance(obj, np.integer):\n",
    "            return int(obj)\n",
    "        elif isinstance(obj, np.floating):\n",
    "            return float(obj)\n",
    "        elif isinstance(obj, np.ndarray):\n",
    "            return obj.tolist()\n",
    "        else:\n",
    "            return super(NpEncoder, self).default(obj)\n",
    "        \n",
    "def transform_from_latlon(lat, lon):\n",
    "    lat = np.asarray(lat)\n",
    "    lon = np.asarray(lon)\n",
    "    trans = Affine.translation(lon[0], lat[0])\n",
    "    scale = Affine.scale(lon[1] - lon[0], lat[1] - lat[0])\n",
    "    return trans * scale\n",
    "\n",
    "def rasterize(shapes, coords, latitude='latitude', longitude='longitude',\n",
    "              fill=np.nan, **kwargs):\n",
    "    \"\"\"Rasterize a list of (geometry, fill_value) tuples onto the given\n",
    "    xray coordinates. This only works for 1d latitude and longitude\n",
    "    arrays.\n",
    "    \"\"\"\n",
    "    transform = transform_from_latlon(coords[latitude], coords[longitude])\n",
    "    out_shape = (len(coords[latitude]), len(coords[longitude]))\n",
    "    raster = features.rasterize(shapes, out_shape=out_shape,\n",
    "                                fill=fill, transform=transform,\n",
    "                                dtype=float, **kwargs)\n",
    "    spatial_coords = {latitude: coords[latitude], longitude: coords[longitude]}\n",
    "    return xr.DataArray(raster, coords=spatial_coords, dims=(latitude, longitude))\n",
    "\n",
    "def compute_values(ds, geometry, years, depth, variable, dataset_type, group, nBinds, bindsRange):\n",
    "    \n",
    "    if dataset_type == 'global-dataset' and group == 'historic':\n",
    "        start_date = years[0]\n",
    "        end_date = years[1]\n",
    "        mean_years = ds.coords.get('time').values\n",
    "    else:\n",
    "        start_date = np.datetime64(datetime.strptime(f'{years[0]}-12-31', \"%Y-%m-%d\"))\n",
    "        end_date = np.datetime64(datetime.strptime(f'{years[1]}-12-31', \"%Y-%m-%d\"))\n",
    "        mean_years = [int(str(x).split('-')[0]) for x in ds.coords.get('time').values]\n",
    "    \n",
    "    xmin, ymax, xmax, ymin = geometry.bounds\n",
    "    ds_index = ds.where(ds['mask'].isin(0.0)).sel(depth='0-30', lon=slice(xmin, xmax), lat=slice(ymin, ymax))\n",
    "\n",
    "    # Get difference between two dates\n",
    "    diff = ds_index.loc[dict(time=end_date)] - ds_index.loc[dict(time=start_date)]\n",
    "                    \n",
    "    # Get counts and binds of the histogram\n",
    "    if dataset_type == 'experimental-dataset' and variable == 'concentration':\n",
    "        diff = diff[variable]/10.\n",
    "    else:\n",
    "        diff = diff[variable]\n",
    "\n",
    "    bins = np.linspace(bindsRange[0], bindsRange[1], nBinds+1)\n",
    "    h = histogram(diff, bins=[bins], dim=['lat', 'lon'])\n",
    "\n",
    "    counts = h.values\n",
    "    mean_diff = diff.mean(skipna=True).values \n",
    "    mean_values = ds_index[variable].mean(['lon', 'lat']).values\n",
    "        \n",
    "    return counts, bins, mean_diff, mean_years, mean_values\n",
    "\n",
    "def serializer(counts, bins, mean_diff, mean_years, mean_values):\n",
    "\n",
    "    return {\n",
    "        'counts': counts,\n",
    "        'bins': bins,\n",
    "        'mean_diff': mean_diff,\n",
    "        'mean_years': mean_years,\n",
    "        'mean_values':mean_values\n",
    "    }\n",
    "\n",
    "def analysis(request):\n",
    "    #request = request.get_json()\n",
    "    \n",
    "    # Read xarray.Dataset from pkl\n",
    "    dataset_type = request['dataset_type']\n",
    "    group = request['group']\n",
    "\n",
    "    with open(f'../data/{dataset_type}_{group}.pkl', 'rb') as input:\n",
    "        ds = pickle.load(input)\n",
    "    \n",
    "    # Create the data mask by rasterizing the vector data\n",
    "    geometry = Polygon(request['geometry'].get('features')[0].get('geometry').get('coordinates')[0])\n",
    "    \n",
    "    shapes = zip([geometry], range(1))\n",
    "    da_mask = rasterize(shapes, ds.coords, longitude='lon', latitude='lat').rename('mask')\n",
    "    ds['mask'] = da_mask   \n",
    "    \n",
    "    # Compute output values\n",
    "    counts, bins, mean_diff, mean_years, mean_values = compute_values(ds, geometry, request['years'], request['depth'], \n",
    "                                                                      request['variable'], request['dataset_type'], \n",
    "                                                                      request['group'], request['nBinds'], \n",
    "                                                                      request['bindsRange'])\n",
    "    \n",
    "    return json.dumps(serializer(counts, bins, mean_diff, mean_years, mean_values), cls=NpEncoder)"
   ]
  },
  {
   "cell_type": "code",
   "execution_count": 11,
   "metadata": {},
   "outputs": [],
   "source": [
    "payload = {\n",
    "    \"dataset_type\": 'experimental-dataset',\n",
    "    \"group\": 'stocks',\n",
    "    \"years\": ['1982', '2017'],\n",
    "    \"depth\": '0-30',\n",
    "    \"variable\": 'stocks',\n",
    "    \"nBinds\": 80,\n",
    "    \"bindsRange\": [-50, 50],\n",
    "    \"geometry\": {\n",
    "  \"type\": \"FeatureCollection\",\n",
    "  \"features\": [\n",
    "    {\n",
    "      \"type\": \"Feature\",\n",
    "      \"properties\": {},\n",
    "      \"geometry\": {\n",
    "        \"type\": \"Polygon\",\n",
    "        \"coordinates\": [\n",
    "          [\n",
    "            [\n",
    "              -63.34716796874999,\n",
    "              -34.234512362369856\n",
    "            ],\n",
    "            [\n",
    "              -64.22607421875,\n",
    "              -35.17380831799957\n",
    "            ],\n",
    "            [\n",
    "              -63.896484375,\n",
    "              -35.78217070326606\n",
    "            ],\n",
    "            [\n",
    "              -63.34716796874999,\n",
    "              -35.88905007936092\n",
    "            ],\n",
    "            [\n",
    "              -62.86376953124999,\n",
    "              -35.46066995149529\n",
    "            ],\n",
    "            [\n",
    "              -62.51220703125,\n",
    "              -35.08395557927643\n",
    "            ],\n",
    "            [\n",
    "              -62.49023437499999,\n",
    "              -34.57895241036947\n",
    "            ],\n",
    "            [\n",
    "              -63.34716796874999,\n",
    "              -34.234512362369856\n",
    "            ]\n",
    "          ]\n",
    "        ]\n",
    "      }\n",
    "    }\n",
    "  ]\n",
    "}\n",
    "}"
   ]
  },
  {
   "cell_type": "code",
   "execution_count": 12,
   "metadata": {},
   "outputs": [
    {
     "data": {
      "text/plain": [
       "'{\"counts\": [0, 0, 0, 0, 0, 0, 0, 0, 0, 0, 0, 1, 40, 159, 349, 533, 454, 718, 1308, 1990, 1773, 3093, 4032, 5546, 5396, 7383, 10383, 10389, 14917, 16806, 19075, 22001, 22555, 22207, 20030, 19504, 19400, 15006, 13093, 10084, 8035, 8436, 5813, 4374, 1730, 2262, 727, 1212, 566, 845, 670, 562, 142, 3, 0, 0, 0, 0, 0, 0, 0, 0, 0, 0, 0, 0, 0, 0, 0, 0, 0, 0, 0, 0, 0, 0, 0, 0, 0, 0], \"bins\": [-50.0, -48.75, -47.5, -46.25, -45.0, -43.75, -42.5, -41.25, -40.0, -38.75, -37.5, -36.25, -35.0, -33.75, -32.5, -31.25, -30.0, -28.75, -27.5, -26.25, -25.0, -23.75, -22.5, -21.25, -20.0, -18.75, -17.5, -16.25, -15.0, -13.75, -12.5, -11.25, -10.0, -8.75, -7.5, -6.25, -5.0, -3.75, -2.5, -1.25, 0.0, 1.25, 2.5, 3.75, 5.0, 6.25, 7.5, 8.75, 10.0, 11.25, 12.5, 13.75, 15.0, 16.25, 17.5, 18.75, 20.0, 21.25, 22.5, 23.75, 25.0, 26.25, 27.5, 28.75, 30.0, 31.25, 32.5, 33.75, 35.0, 36.25, 37.5, 38.75, 40.0, 41.25, 42.5, 43.75, 45.0, 46.25, 47.5, 48.75, 50.0], \"mean_diff\": -8.592864990234375, \"mean_years\": [1982, 1983, 1984, 1985, 1986, 1987, 1988, 1989, 1990, 1991, 1992, 1993, 1994, 1995, 1996, 1997, 1998, 1999, 2000, 2001, 2002, 2003, 2004, 2005, 2006, 2007, 2008, 2009, 2010, 2011, 2012, 2013, 2014, 2015, 2016, 2017], \"mean_values\": [64.83557891845703, 64.36053466796875, 65.11124420166016, 65.34679412841797, 66.8199462890625, 67.40446472167969, 63.79872512817383, 60.514488220214844, 66.90479278564453, 68.34090423583984, 66.93816375732422, 65.2564697265625, 59.6906852722168, 63.0424690246582, 63.155948638916016, 64.67314147949219, 68.19007873535156, 65.90402221679688, 62.086402893066406, 66.70545959472656, 66.81355285644531, 65.5204086303711, 65.02239990234375, 62.62387466430664, 59.60088348388672, 58.51463317871094, 60.21234893798828, 53.47178649902344, 54.46239471435547, 55.28354263305664, 53.75908660888672, 54.18966293334961, 58.984718322753906, 58.35251998901367, 57.17955780029297, 56.242713928222656]}'"
      ]
     },
     "execution_count": 12,
     "metadata": {},
     "output_type": "execute_result"
    }
   ],
   "source": [
    "analysis(payload)"
   ]
  },
  {
   "cell_type": "code",
   "execution_count": null,
   "metadata": {},
   "outputs": [],
   "source": []
  }
 ],
 "metadata": {
  "kernelspec": {
   "display_name": "Python 3",
   "language": "python",
   "name": "python3"
  },
  "language_info": {
   "codemirror_mode": {
    "name": "ipython",
    "version": 3
   },
   "file_extension": ".py",
   "mimetype": "text/x-python",
   "name": "python",
   "nbconvert_exporter": "python",
   "pygments_lexer": "ipython3",
   "version": "3.8.0"
  }
 },
 "nbformat": 4,
 "nbformat_minor": 4
}
