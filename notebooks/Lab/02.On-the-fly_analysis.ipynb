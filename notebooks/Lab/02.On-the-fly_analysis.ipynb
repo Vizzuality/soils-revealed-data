{
 "cells": [
  {
   "cell_type": "code",
   "execution_count": 10,
   "metadata": {},
   "outputs": [
    {
     "name": "stdout",
     "output_type": "stream",
     "text": [
      "POST request was successful.\n",
      "Response: b'{\"data\": {\"counts\": [0, 194, 223, 316, 47, 25848, 5, 0, 24, 8], \"bins\": [-50.0, -40.0, -30.0, -20.0, -10.0, 0.0, 10.0, 20.0, 30.0, 40.0, 50.0], \"mean_diff\": -0.6113924384117126, \"mean_years\": [2000, 2001, 2002, 2003, 2004, 2005, 2006, 2007, 2008, 2009, 2010, 2011, 2012, 2013, 2014, 2015, 2016, 2017, 2018], \"mean_values\": [66.19622802734375, 66.1831283569336, 66.1640396118164, 66.14376068115234, 66.1223373413086, 66.10077667236328, 66.07596588134766, 66.04891967773438, 66.01910400390625, 65.98907470703125, 65.94561004638672, 65.90214538574219, 65.85733795166016, 65.81253814697266, 65.76773071289062, 65.7229232788086, 65.67772674560547, 65.63121795654297, 65.5848388671875], \"area_ha\": 147331.73939962903}}'\n"
     ]
    }
   ],
   "source": [
    "import requests\n",
    "import json\n",
    "\n",
    "# Define the URL and request body\n",
    "url = \"http://localhost:5020/api/v1/analysis\"\n",
    "payload = {\n",
    "    \"dataset\": \"recent\",\n",
    "    \"variable\": \"stocks\",\n",
    "    \"years\": [\"2000\", \"2018\"],\n",
    "    \"depth\": \"0-30\",\n",
    "    \"geometry\": {\n",
    "        \"type\": \"FeatureCollection\",\n",
    "        \"features\": [\n",
    "            {\n",
    "                \"type\": \"Feature\",\n",
    "                \"properties\": {},\n",
    "                \"geometry\": {\n",
    "                    \"type\": \"Polygon\",\n",
    "                    \"coordinates\": [\n",
    "                        [\n",
    "                            [-59.58984374999999, -31.69078180613681],\n",
    "                            [-59.150390625, -31.69078180613681],\n",
    "                            [-59.150390625, -31.37239910488051],\n",
    "                            [-59.58984374999999, -31.37239910488051],\n",
    "                            [-59.58984374999999, -31.69078180613681]\n",
    "                        ]\n",
    "                    ]\n",
    "                }\n",
    "            }\n",
    "        ]\n",
    "    }\n",
    "}\n",
    "\n",
    "# Convert the payload to JSON\n",
    "json_payload = json.dumps(payload)\n",
    "\n",
    "# Set the headers and make the POST request\n",
    "headers = {\"Content-Type\": \"application/json\"}\n",
    "response = requests.post(url, data=json_payload, headers=headers)\n",
    "\n",
    "# Check the response status code and content\n",
    "if response.status_code == 200:\n",
    "    print(\"POST request was successful.\")\n",
    "    print(\"Response:\", response.content)\n",
    "else:\n",
    "    print(\"POST request failed. Status code:\", response.status_code)"
   ]
  }
 ],
 "metadata": {
  "kernelspec": {
   "display_name": "geopy11",
   "language": "python",
   "name": "python3"
  },
  "language_info": {
   "codemirror_mode": {
    "name": "ipython",
    "version": 3
   },
   "file_extension": ".py",
   "mimetype": "text/x-python",
   "name": "python",
   "nbconvert_exporter": "python",
   "pygments_lexer": "ipython3",
   "version": "3.11.0"
  },
  "orig_nbformat": 4
 },
 "nbformat": 4,
 "nbformat_minor": 2
}
