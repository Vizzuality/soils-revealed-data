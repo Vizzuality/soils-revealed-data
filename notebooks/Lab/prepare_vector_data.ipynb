{
 "cells": [
  {
   "attachments": {},
   "cell_type": "markdown",
   "metadata": {},
   "source": [
    "# Prepare vector data\n",
    "## Purpose\n",
    "In this notebooks we will clean and simplify the vector data that will be using for zonal stats.\n",
    "## Setup\n",
    "### Library import\n",
    "**Setup software libraries** "
   ]
  },
  {
   "cell_type": "code",
   "execution_count": 17,
   "metadata": {},
   "outputs": [],
   "source": [
    "import pandas as pd\n",
    "import geopandas as gpd"
   ]
  },
  {
   "attachments": {},
   "cell_type": "markdown",
   "metadata": {},
   "source": [
    "### Utils"
   ]
  },
  {
   "attachments": {},
   "cell_type": "markdown",
   "metadata": {},
   "source": [
    "**prepare_vector_data**"
   ]
  },
  {
   "cell_type": "code",
   "execution_count": 18,
   "metadata": {},
   "outputs": [],
   "source": [
    "def prepare_vector_data(iso: str = None, tolerance: float = None, level: int = 1) -> dict[str, pd.DataFrame()]:\n",
    "    if iso:\n",
    "        bboxs = pd.read_csv('../../data/mbtiles/country_bbox.csv', converters={\"bbox\": literal_eval})\n",
    "        bbox = bboxs[bboxs['gid_0'] == iso].bbox.iloc[0]\n",
    "    else:\n",
    "        bbox = None\n",
    "        \n",
    "    # Read Political boundaries:\n",
    "    print('Reading Political boundaries')\n",
    "    gdf_pb = gpd.read_file('../../data/mbtiles/political_boundaries/political_boundaries.shp', bbox = bbox)\n",
    "    # Select level 0 areas\n",
    "    gdf_pb_0 = gdf_pb[gdf_pb['level'] == 0]\n",
    "    # Select level 1 areas\n",
    "    gdf_pb = gdf_pb[gdf_pb['level'] == level]\n",
    "    #Simplify geometries\n",
    "    if tolerance:\n",
    "        gdf_pb['geometry'] = gdf_pb['geometry'].apply(lambda x: x.simplify(tolerance)) \n",
    "    # Add area in ha\n",
    "    gdf_pb['area_ha'] = gdf_pb['geometry'].to_crs({'init': 'epsg:6933'}).map(lambda p: p.area / 10**4)    \n",
    "    gdf_pb = gdf_pb[['name_0', 'gid_0', 'name_1', 'gid_1', 'level', 'bbox', 'area_ha', 'id', 'id_0', 'geometry']]\n",
    "    \n",
    "    # Read Landforms\n",
    "    print('Reading Landforms')\n",
    "    gdf_land = gpd.read_file('../../data/mbtiles/ne_10m_geography_regions/ne_10m_geography_regions.shp', bbox = bbox)\n",
    "    # Select level 1 areas\n",
    "    gdf_land = gdf_land[gdf_land['level'] == level]\n",
    "    # Add area in ha\n",
    "    gdf_land = gdf_land.set_crs(epsg=4326, allow_override=True)\n",
    "    gdf_land = gdf_land.to_crs(\"EPSG:4326\")\n",
    "    if iso == None:\n",
    "        gdf_land['area_ha'] = gdf_land['geometry'].to_crs({'init': 'epsg:6933'}).map(lambda p: p.area / 10**4)   \n",
    "        gdf_land = gdf_land[['featurecla', 'name', 'region', 'ne_id', 'level', 'bbox', 'area_ha', 'id', 'id_0', 'geometry']]\n",
    "    else:\n",
    "        gdf_land = gdf_land[['featurecla', 'name', 'region', 'ne_id', 'level', 'bbox', 'id', 'id_0', 'geometry']]\n",
    "    \n",
    "    # Read Biomes\n",
    "    print('Reading Biomes')\n",
    "    gdf_bio = gpd.read_file('../../data/mbtiles/ecoregions_by_biome/ecoregions_by_biome.shp', bbox = bbox)\n",
    "    # Select level 1 areas\n",
    "    gdf_bio = gdf_bio[gdf_bio['level'] == level]    \n",
    "    # Add area in ha\n",
    "    gdf_bio = gdf_bio.set_crs(epsg=4326, allow_override=True)\n",
    "    gdf_bio = gdf_bio.to_crs(\"EPSG:4326\")\n",
    "    if iso == None:\n",
    "        gdf_bio['area_ha'] = gdf_bio['geometry'].to_crs({'init': 'epsg:6933'}).map(lambda p: p.area / 10**4) \n",
    "        gdf_bio = gdf_bio[['biome_name', 'biome_num', 'eco_name', 'eco_biome_', 'eco_id', 'level', 'bbox', 'area_ha', 'id', 'id_0', 'geometry']]\n",
    "    else:\n",
    "        gdf_bio = gdf_bio[['biome_name', 'biome_num', 'eco_name', 'eco_biome_', 'eco_id', 'level', 'bbox', 'id', 'id_0', 'geometry']]\n",
    "    \n",
    "    # Read Hydrological basins\n",
    "    print('Reading Hydrological basins')\n",
    "    gdf_hb = gpd.read_file('../../data/mbtiles/hydrological_basins/hydrological_basins.shp', bbox = bbox)\n",
    "    # Select level 1 areas\n",
    "    gdf_hb = gdf_hb[gdf_hb['level'] == level]    \n",
    "    #Make valid geometries\n",
    "    gdf_hb['geometry'] = gdf_hb['geometry'].apply(lambda x: x.buffer(0))\n",
    "    # Add area in ha\n",
    "    gdf_hb = gdf_hb.set_crs(epsg=4326, allow_override=True)\n",
    "    gdf_hb = gdf_hb.to_crs(\"EPSG:4326\")\n",
    "    if iso == None:\n",
    "        gdf_hb['area_ha'] = gdf_hb['geometry'].to_crs({'init': 'epsg:6933'}).map(lambda p: p.area / 10**4) \n",
    "        gdf_hb = gdf_hb[['maj_bas', 'maj_name', 'maj_area', 'sub_bas', 'sub_name', 'sub_area', 'level', 'bbox', 'area_ha', 'id', 'id_0', 'geometry']]\n",
    "    else:\n",
    "        gdf_hb = gdf_hb[['maj_bas', 'maj_name', 'maj_area', 'sub_bas', 'sub_name', 'sub_area', 'level', 'bbox', 'id', 'id_0', 'geometry']]\n",
    "\n",
    "    vector_data = {f'political_boundaries_{str(level)}': gdf_pb, f'landforms_{str(level)}': gdf_land, f'biomes_{str(level)}': gdf_bio, f'hydrological_basins_{str(level)}': gdf_hb}\n",
    "    \n",
    "    if iso:\n",
    "        print('Intersecting areas with the selected country')\n",
    "        gdf_pb = gdf_pb[gdf_pb['gid_0'] == iso]\n",
    "            \n",
    "        vector_data[f'political_boundaries_{str(level)}'] = gdf_pb\n",
    "        \n",
    "        gdf_pb_0 = gdf_pb_0[gdf_pb_0['gid_0'] == iso]\n",
    "        country = gdf_pb_0[gdf_pb_0['level'] == 0]['geometry'].iloc[0].buffer(0)\n",
    "        \n",
    "        for data_name in list(vector_data.keys())[1:]:\n",
    "            print(data_name)\n",
    "            gdf = intersect_areas(vector_data[data_name], country)\n",
    "            gdf['area_ha'] = gdf['geometry'].to_crs({'init': 'epsg:6933'}).map(lambda p: p.area / 10**4)\n",
    "            vector_data[data_name] = gdf\n",
    "                    \n",
    "    # Set index\n",
    "    for data_name in list(vector_data.keys()):\n",
    "        vector_data[data_name] = vector_data[data_name].reset_index(drop=True).reset_index()\n",
    "        \n",
    "    # Exceptions \n",
    "    # change bboxes\n",
    "    if level == 1 and iso == None:\n",
    "        # Alaska\n",
    "        vector_data['political_boundaries_1'].at[1707,'bbox'] = '[-179.1506, 51.2097, -125, 72.6875]'\n",
    "    \n",
    "   \n",
    "    return vector_data"
   ]
  },
  {
   "attachments": {},
   "cell_type": "markdown",
   "metadata": {},
   "source": [
    "## Vector data"
   ]
  },
  {
   "attachments": {},
   "cell_type": "markdown",
   "metadata": {},
   "source": [
    "### Level 1 geometries\n",
    "**Read data**"
   ]
  },
  {
   "cell_type": "code",
   "execution_count": 19,
   "metadata": {},
   "outputs": [
    {
     "name": "stdout",
     "output_type": "stream",
     "text": [
      "Reading  vector data.\n",
      "Reading Political boundaries\n"
     ]
    },
    {
     "name": "stderr",
     "output_type": "stream",
     "text": [
      "/home/iker/anaconda3/envs/geopy11/lib/python3.11/site-packages/pyproj/crs/crs.py:141: FutureWarning: '+init=<authority>:<code>' syntax is deprecated. '<authority>:<code>' is the preferred initialization method. When making the change, be mindful of axis order changes: https://pyproj4.github.io/pyproj/stable/gotchas.html#axis-order-changes-in-proj-6\n",
      "  in_crs_string = _prepare_from_proj_string(in_crs_string)\n"
     ]
    },
    {
     "name": "stdout",
     "output_type": "stream",
     "text": [
      "Reading Landforms\n"
     ]
    },
    {
     "name": "stderr",
     "output_type": "stream",
     "text": [
      "/home/iker/anaconda3/envs/geopy11/lib/python3.11/site-packages/pyproj/crs/crs.py:141: FutureWarning: '+init=<authority>:<code>' syntax is deprecated. '<authority>:<code>' is the preferred initialization method. When making the change, be mindful of axis order changes: https://pyproj4.github.io/pyproj/stable/gotchas.html#axis-order-changes-in-proj-6\n",
      "  in_crs_string = _prepare_from_proj_string(in_crs_string)\n"
     ]
    },
    {
     "name": "stdout",
     "output_type": "stream",
     "text": [
      "Reading Biomes\n"
     ]
    },
    {
     "name": "stderr",
     "output_type": "stream",
     "text": [
      "/home/iker/anaconda3/envs/geopy11/lib/python3.11/site-packages/pyproj/crs/crs.py:141: FutureWarning: '+init=<authority>:<code>' syntax is deprecated. '<authority>:<code>' is the preferred initialization method. When making the change, be mindful of axis order changes: https://pyproj4.github.io/pyproj/stable/gotchas.html#axis-order-changes-in-proj-6\n",
      "  in_crs_string = _prepare_from_proj_string(in_crs_string)\n"
     ]
    },
    {
     "name": "stdout",
     "output_type": "stream",
     "text": [
      "Reading Hydrological basins\n"
     ]
    },
    {
     "name": "stderr",
     "output_type": "stream",
     "text": [
      "/home/iker/anaconda3/envs/geopy11/lib/python3.11/site-packages/pyproj/crs/crs.py:141: FutureWarning: '+init=<authority>:<code>' syntax is deprecated. '<authority>:<code>' is the preferred initialization method. When making the change, be mindful of axis order changes: https://pyproj4.github.io/pyproj/stable/gotchas.html#axis-order-changes-in-proj-6\n",
      "  in_crs_string = _prepare_from_proj_string(in_crs_string)\n"
     ]
    }
   ],
   "source": [
    "# Read vector data\n",
    "print('Reading  vector data.')\n",
    "vector_data = prepare_vector_data(iso=None, tolerance=0.075, level=1)"
   ]
  },
  {
   "attachments": {},
   "cell_type": "markdown",
   "metadata": {},
   "source": [
    "**Save data**"
   ]
  },
  {
   "cell_type": "code",
   "execution_count": 20,
   "metadata": {},
   "outputs": [],
   "source": [
    "for name in vector_data.keys():\n",
    "    vector_data[name].to_file(f\"../../data/processed/vector_data/{name}.geojson\", driver='GeoJSON', index=False)"
   ]
  },
  {
   "attachments": {},
   "cell_type": "markdown",
   "metadata": {},
   "source": [
    "### Level 0 geometries\n",
    "**Read data**"
   ]
  },
  {
   "cell_type": "code",
   "execution_count": 21,
   "metadata": {},
   "outputs": [
    {
     "name": "stdout",
     "output_type": "stream",
     "text": [
      "Reading  vector data.\n",
      "Reading Political boundaries\n"
     ]
    },
    {
     "name": "stderr",
     "output_type": "stream",
     "text": [
      "/home/iker/anaconda3/envs/geopy11/lib/python3.11/site-packages/pyproj/crs/crs.py:141: FutureWarning: '+init=<authority>:<code>' syntax is deprecated. '<authority>:<code>' is the preferred initialization method. When making the change, be mindful of axis order changes: https://pyproj4.github.io/pyproj/stable/gotchas.html#axis-order-changes-in-proj-6\n",
      "  in_crs_string = _prepare_from_proj_string(in_crs_string)\n"
     ]
    },
    {
     "name": "stdout",
     "output_type": "stream",
     "text": [
      "Reading Landforms\n"
     ]
    },
    {
     "name": "stderr",
     "output_type": "stream",
     "text": [
      "/home/iker/anaconda3/envs/geopy11/lib/python3.11/site-packages/pyproj/crs/crs.py:141: FutureWarning: '+init=<authority>:<code>' syntax is deprecated. '<authority>:<code>' is the preferred initialization method. When making the change, be mindful of axis order changes: https://pyproj4.github.io/pyproj/stable/gotchas.html#axis-order-changes-in-proj-6\n",
      "  in_crs_string = _prepare_from_proj_string(in_crs_string)\n"
     ]
    },
    {
     "name": "stdout",
     "output_type": "stream",
     "text": [
      "Reading Biomes\n"
     ]
    },
    {
     "name": "stderr",
     "output_type": "stream",
     "text": [
      "/home/iker/anaconda3/envs/geopy11/lib/python3.11/site-packages/pyproj/crs/crs.py:141: FutureWarning: '+init=<authority>:<code>' syntax is deprecated. '<authority>:<code>' is the preferred initialization method. When making the change, be mindful of axis order changes: https://pyproj4.github.io/pyproj/stable/gotchas.html#axis-order-changes-in-proj-6\n",
      "  in_crs_string = _prepare_from_proj_string(in_crs_string)\n"
     ]
    },
    {
     "name": "stdout",
     "output_type": "stream",
     "text": [
      "Reading Hydrological basins\n"
     ]
    },
    {
     "name": "stderr",
     "output_type": "stream",
     "text": [
      "/home/iker/anaconda3/envs/geopy11/lib/python3.11/site-packages/pyproj/crs/crs.py:141: FutureWarning: '+init=<authority>:<code>' syntax is deprecated. '<authority>:<code>' is the preferred initialization method. When making the change, be mindful of axis order changes: https://pyproj4.github.io/pyproj/stable/gotchas.html#axis-order-changes-in-proj-6\n",
      "  in_crs_string = _prepare_from_proj_string(in_crs_string)\n"
     ]
    }
   ],
   "source": [
    "# Read vector data\n",
    "print('Reading  vector data.')\n",
    "vector_data = prepare_vector_data(iso=None, tolerance=0.075, level=0)"
   ]
  },
  {
   "attachments": {},
   "cell_type": "markdown",
   "metadata": {},
   "source": [
    "**Save data**"
   ]
  },
  {
   "cell_type": "code",
   "execution_count": 22,
   "metadata": {},
   "outputs": [],
   "source": [
    "for name in vector_data.keys():\n",
    "    vector_data[name].to_file(f\"../../data/processed/vector_data/{name}.geojson\", driver='GeoJSON', index=False)"
   ]
  }
 ],
 "metadata": {
  "kernelspec": {
   "display_name": "geopy11",
   "language": "python",
   "name": "python3"
  },
  "language_info": {
   "codemirror_mode": {
    "name": "ipython",
    "version": 3
   },
   "file_extension": ".py",
   "mimetype": "text/x-python",
   "name": "python",
   "nbconvert_exporter": "python",
   "pygments_lexer": "ipython3",
   "version": "3.11.0"
  },
  "orig_nbformat": 4,
  "vscode": {
   "interpreter": {
    "hash": "74348868169075292b3e8230f0edfc006550d52ebfa36d277169a2af5362ab9d"
   }
  }
 },
 "nbformat": 4,
 "nbformat_minor": 2
}
